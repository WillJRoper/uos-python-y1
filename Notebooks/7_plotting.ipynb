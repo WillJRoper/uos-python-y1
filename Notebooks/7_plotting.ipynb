{
 "cells": [
  {
   "cell_type": "markdown",
   "id": "485a2897-a07b-4093-8465-de5294d49e1d",
   "metadata": {},
   "source": [
    "# Basic Plotting\n",
    "\n",
    "## Learning Outcomes\n",
    "\n",
    "By the end of this notebook, you should:\n",
    "\n",
    "- Be able to import `matplotlib`.\n",
    "- Use arrays for calculations.\n",
    "- Make simple plots.\n",
    "\n",
    "In the last notebook, we covered importing packages to add functionality to Python. Once of the best uses of this is producing publication-quality plots with the `matplotlib` package. This package provides a simple interface to produce plots which emulate those that can be produced in MatLab (hence the name). Although this was originally the goal the flexibility and available functionality in `matplotlib` now far exceeds its predecessor."
   ]
  },
  {
   "cell_type": "markdown",
   "id": "1cc4e4f4-6f4b-4d6e-81bb-f984feb91781",
   "metadata": {},
   "source": [
    "## The `matplotlib.pyplot.plot` function\n",
    "\n",
    "The `matplotlib` package is commonly used to make graphs and figures in Python, it is very easy to use and with some practice can make publication-quality plots. Below is an example of how to plot the simplest mathematical equation, $y=x$."
   ]
  },
  {
   "cell_type": "code",
   "execution_count": null,
   "id": "d81978d0-4f06-4559-9ee4-0b02d5b75ed4",
   "metadata": {},
   "outputs": [],
   "source": [
    "import numpy as np\n",
    "import matplotlib.pyplot as plt\n",
    "\n",
    "# Set up variables for plotting\n",
    "x = np.arange(1, 5.5, 0.5)\n",
    "y = x\n",
    "\n",
    "# Plot the variables\n",
    "plt.plot(x, y)\n",
    "plt.show()"
   ]
  },
  {
   "cell_type": "markdown",
   "id": "08a33ac3-5e9b-40be-8700-788b05753ac4",
   "metadata": {},
   "source": [
    "Just to break the cell above down:\n",
    "- The initial lines of the code import `numpy` and then the `pyplot` package from `matplotlib`.\n",
    "- Then the `arange` command creates a range of $x$ values from 1 to 5 in increments of 0.5.\n",
    "- The `y=x` line just links the variable name $y$ to the $x$ variable.\n",
    "- The `plot` command then generates a line plot.\n",
    "- However, this just generates the line on internal `matplotlib` \"figure\", to see it we need to `show()` it. \n",
    "- This is done with the `show()` function which displays the plot on screen.\n",
    "\n",
    "You may have noticed a little fib here... in Jupyter the plot is shown regardless of whether `plt.show()` is called. This is for the same reason that the print function isn't required to print the last variable in a cell, thus it isn't true when not using Jupyter, you should therefore get in the habit of using `plt.show()`... it is more correct after all.\n",
    "\n",
    "`matplotlib` allows you a huge amount of customisation for your plots. For instance, you can change the limits of the axes. Below is an example of $y=x^{2}$, with set limits. "
   ]
  },
  {
   "cell_type": "code",
   "execution_count": null,
   "id": "86979d2d-4fa7-425d-a84d-027874e70750",
   "metadata": {},
   "outputs": [],
   "source": [
    "# Set up a range of x values\n",
    "x = np.arange(-5, 5, 0.01)\n",
    "\n",
    "# Compute the square of the x values\n",
    "y = x**2\n",
    "\n",
    "# Plot the result\n",
    "plt.plot(x, y)\n",
    "\n",
    "# Set axis limits\n",
    "plt.xlim(-1, 2)\n",
    "plt.ylim(-1, 5)\n",
    "\n",
    "plt.show()"
   ]
  },
  {
   "cell_type": "markdown",
   "id": "238e2fb4-0520-4daf-a7f5-85538cc2de58",
   "metadata": {},
   "source": [
    "The `xlim` and `ylim` functions set the limits, these calls can come anywhere but must come before invoking `show`.\n",
    "\n",
    "Additionally, you can add (and should) labels to your axis and/or a title to your graph. Below is an example of $y=\\sin(x)$."
   ]
  },
  {
   "cell_type": "code",
   "execution_count": null,
   "id": "b59f9bd1-9bad-42b9-9d85-ad3f2eb34389",
   "metadata": {},
   "outputs": [],
   "source": [
    "# Set up a range of x values\n",
    "x = np.arange(-20, 20, 0.001)\n",
    "\n",
    "# Compute the sin of these values\n",
    "y = np.sin(x)\n",
    "\n",
    "# Plot the result\n",
    "plt.plot(x, y)\n",
    "\n",
    "# Set a title and label the axes\n",
    "plt.title('Graph of y = sin(x)')\n",
    "plt.xlabel('This is the x axis')\n",
    "plt.ylabel('This is the y axis')\n",
    "\n",
    "# Draw lines to mark 0 on the x and y axes\n",
    "plt.axhline(0, color='black', linestyle='--')\n",
    "plt.axvline(0, color='black', linestyle='--')\n",
    "\n",
    "# Set the y-axis limits\n",
    "plt.ylim(-1.2, 1.2)\n",
    "\n",
    "plt.show()"
   ]
  },
  {
   "cell_type": "markdown",
   "id": "cf73a0b7-354a-44e9-bc5a-e13b985e4077",
   "metadata": {},
   "source": [
    "Just as when adding limits to the plot, any commands to set titles or labels have to come before the `show`. `title`, `xlabel`, and `ylabel` are pretty self-explanatory; you have to pass your chosen title/label as a string, which is then added to the plot (these can include \\LaTeX formatting, i.e. $y=\\sin(x)$). The `axhline` (for horizontal lines) and `axvline` (for vertical lines) add straight lines to a plot, here `y=0` and `x=0`. We have also changed the \"linestyle\" for these straight lines by adding `linestyle=\"--\"` as an argument. There are a number of different linestyle options and each can be passed in different ways. See the `matplotlib` docs on `plot` and linked docs for a full list."
   ]
  },
  {
   "cell_type": "markdown",
   "id": "02e0a24d-d624-484c-bccc-a03684ae5b6a",
   "metadata": {},
   "source": [
    "## Exercises\n",
    "\n",
    "As always, use the cells below to complete these exercises.\n",
    "1. Plot a graph of $\\cos(x)$ (use your best judgement for $x$ values).\n",
    "2. Plot a graph of $\\cosh(x-20)$.\n",
    "    - Limit the x-axis to between $-20$ to $5$.\n",
    "    - Add an appropriate title, set the fontsize to 14.\n",
    "3. Plot a Gaussian distribution with a mean of 0 and a variance of 1.\n",
    "    - Look up the equation for the Gaussian probability density function and define a function for it.\n",
    "    - Generate some x values between -3.2 and 3.2, then use the equation to calculate the equivalent y-values.\n",
    "    - Plot the Gaussian, and add appropriate labels and an appropriate title."
   ]
  },
  {
   "cell_type": "code",
   "execution_count": null,
   "id": "93a60402-bda0-4614-988b-9e97e1413bbd",
   "metadata": {},
   "outputs": [],
   "source": []
  },
  {
   "cell_type": "code",
   "execution_count": null,
   "id": "06a072be-f09a-4610-8318-33b0e4a7ab6a",
   "metadata": {},
   "outputs": [],
   "source": []
  },
  {
   "cell_type": "code",
   "execution_count": null,
   "id": "92caf952-1d88-4a4f-b938-f893ca708036",
   "metadata": {},
   "outputs": [],
   "source": []
  },
  {
   "cell_type": "markdown",
   "id": "c3059fed-f966-40a8-a398-5631b9cf66fb",
   "metadata": {},
   "source": [
    "## Plotting in multiple figures\n",
    "\n",
    "When you have more than one graph to display, you have to use the `figure` function. This allows you to separate what you're plotting, otherwise, everything will end up on the same set of axes. "
   ]
  },
  {
   "cell_type": "markdown",
   "id": "c1963359-2abb-454b-a63f-66d1aa2bdc03",
   "metadata": {},
   "source": [
    "<details>\n",
    "  <summary>Extra information</summary>\n",
    "The reason you need a figure command is because `matplotlib` treats the \"figure\" and a set of \"axes\" as 2 distinct things. The figure is the container in which one or more axes can be housed and plotted on. The `plot` function plots data onto and axis. If no figure was created before hand than a figure will be created to hold axes created by `plot`.\n",
    "</details>"
   ]
  },
  {
   "cell_type": "markdown",
   "id": "7a3f0ffd-b381-4bd7-b92d-309cefd3d5b9",
   "metadata": {},
   "source": [
    "Note that, yes, you could just do each plot in a separate cell, but this won't always be convenient and obviously won't work outside a notebook. \n",
    "\n",
    "In the example below we generate two plots and display both below one Jupyter cell."
   ]
  },
  {
   "cell_type": "code",
   "execution_count": null,
   "id": "c9d24254-64f1-4286-a800-6e29ea6f3575",
   "metadata": {},
   "outputs": [],
   "source": [
    "# Generate a range of x values, with a small step size\n",
    "x = np.arange(-20, 20, 0.001)  \n",
    "\n",
    "# Create figure with id 1\n",
    "plt.figure(1)\n",
    "\n",
    "# Calculate the sin of all the x values\n",
    "y_sin = np.sin(x)\n",
    "\n",
    "# Plot the result in figure 1\n",
    "plt.plot(x, y_sin)\n",
    "\n",
    "# Add a title to figure 1\n",
    "plt.title('Graph of y = sin(x)')\n",
    "\n",
    "# Set the y limit for figure 1\n",
    "plt.ylim(-1.2, 1.2)\n",
    "\n",
    "# Create figure with id 2\n",
    "plt.figure(2)\n",
    "\n",
    "# Compute the cosine of the x values\n",
    "y_cos = np.cos(x)\n",
    "\n",
    "# Plot the result in figure 2\n",
    "plt.plot(x, y_cos)\n",
    "\n",
    "# Add a title to figure 2\n",
    "plt.title('Graph of y = cos(x)')\n",
    "\n",
    "# Set the y limits of figure 2\n",
    "plt.ylim(-1.2, 1.2)\n",
    "\n",
    "plt.show()"
   ]
  },
  {
   "cell_type": "markdown",
   "id": "3944a397-31ba-47e9-9359-82fd507be2ce",
   "metadata": {},
   "source": [
    "Once you've plotted something, you're also able to close it; this can be particularly useful if you're creating a very large number of plots, as they can start to slow down your computer. To close every open plot, you can use `plt.close(\"all\")` or if you only wanted to close the first plot from the above example, we could run `plt.close(1)`."
   ]
  },
  {
   "cell_type": "markdown",
   "id": "571213d8-6110-45a2-9891-54164dbfb672",
   "metadata": {},
   "source": [
    "## Plotting a Scatter plot with `plt.scatter`\n",
    "\n",
    "Often you will have data that doesn't lend itself to plotting with a nice line. Instead, you'll need to plot a scatter of points and maybe plot a theory as a line overlaid over the top. Let's use some of what we learned with the `random` package to create a nice messy scatter plot. This can be achieved using the `plt.scatter` function."
   ]
  },
  {
   "cell_type": "code",
   "execution_count": null,
   "id": "50f0354b-4f02-483f-9a48-a1ac033926de",
   "metadata": {},
   "outputs": [],
   "source": [
    "import random\n",
    "\n",
    "# Initialise lists to store x and y values\n",
    "x = []\n",
    "y = []\n",
    "\n",
    "# Loop getting 500 random numbers between 1 and 10\n",
    "for i in range(500):\n",
    "    x.append(random.uniform(1, 10))\n",
    "\n",
    "# Loop again but this time use a while loop (theres no difference)\n",
    "i = 0\n",
    "while i < 500:\n",
    "    y.append(random.uniform(1, 10))\n",
    "    i += 1\n",
    "\n",
    "# Plot the resulting scatter\n",
    "plt.scatter(x, y, marker='+')\n",
    "\n",
    "# Add a title\n",
    "plt.title('My Mess')\n",
    "\n",
    "# Label the axes with latex\n",
    "plt.xlabel('$x$')\n",
    "plt.ylabel('$y$')\n",
    "\n",
    "# Add a grid\n",
    "plt.grid(True)\n",
    "\n",
    "plt.show()"
   ]
  },
  {
   "cell_type": "markdown",
   "id": "d2d48cd6-0702-4755-8153-518641ca9ac9",
   "metadata": {},
   "source": [
    "Here we have simply extracted 500 random numbers from a uniform distribution and plotted them with `+`s. This marker argument can be a number of things, for a full list look online, some examples include `'.', ',', 'o'` and the `'+'` used here. By default, it uses circles (`'o'`). Notice that we have also employed the use of LaTeX math mode in the labels and drawn a grid on the background, this can make plots easier to read and is often recommended (although is down to a style choice at the end of the day."
   ]
  },
  {
   "cell_type": "markdown",
   "id": "ae69688c-6ff8-462b-81da-51e4239e4c35",
   "metadata": {},
   "source": [
    "## Exercises\n",
    "\n",
    "You get the point by now... cell below etc.\n",
    "\n",
    "1. Write code that makes two figures\n",
    "    - Limit both figures to $-5$ to $5$ on the x-axis, and $-1.2$ to $1.2$ on the y-axis.\n",
    "    - Randomly select 20 values within these $x$ limits for each plot.\n",
    "    - Evaluate $\\sin(2x+1)$ for the first set of random numbers.\n",
    "    - Evaluate $\\cos(2x+1)$ for the second set of random numbers.\n",
    "    - Plot these values as a scatter on each plot respectively.\n",
    "    - Plot a line of $\\sin(2x+1)$ on the first figure. Use enough x values to get a smooth line.\n",
    "    - Plot a line of $\\cos(2x+1)$ on the second figure. Use enough x values to get a smooth line.\n",
    "    - Make sure to give both plots appropriate titles, x-axis labels, and y-axis labels."
   ]
  },
  {
   "cell_type": "code",
   "execution_count": null,
   "id": "2bd799fb-d3cf-48d4-968e-04231f2aa894",
   "metadata": {},
   "outputs": [],
   "source": []
  },
  {
   "cell_type": "markdown",
   "id": "f24b5ad5-4a57-4d86-bf94-f9d28d0d37cd",
   "metadata": {},
   "source": [
    "## Advanced Exercises\n",
    "\n",
    "1. Use the random module to create a coin flip simulator. Flip the coin 100 times and print out how many times it landed on heads, and how many times on tails (think about what the results should be before you run it).\n",
    "2. Plot $\\sin(x)$ and $\\cos(x)$ on the same graph, with limits $-10$ to $10$ on the x-axis.\n",
    "3. Plot $\\sin^{2}(x)-\\cos(x)$ with limits $1$ to $5$ on the x-axis and $0.9$ to $1.3$ on the y-axis. Change the line colour to yellow and line width to 5 (use `help` and/or the `matplotlib` documentation).\n",
    "4. Imagine you have some scattered data with a linear relation. Write your own function that naively computes the values `m` and `c` from $y=mx+c$ for a 1-dimensional linear line of best fit.\n",
    "5. Use the `gauss` function from the random module to generate 1000 numbers from a Gaussian distribution with a mean of zero and a variance of one, then plot the data as a histogram with one hundred bins. Hint: Use the `pyplot.hist` command instead of `pyplot.plot`."
   ]
  },
  {
   "cell_type": "code",
   "execution_count": null,
   "id": "8f4f35be-8587-40b4-ba5a-44754dba6375",
   "metadata": {},
   "outputs": [],
   "source": []
  },
  {
   "cell_type": "code",
   "execution_count": null,
   "id": "618c2158-a257-4cb1-b08c-17d0e120dd5e",
   "metadata": {},
   "outputs": [],
   "source": []
  },
  {
   "cell_type": "code",
   "execution_count": null,
   "id": "b8df85eb-d09d-4766-ace0-c55fe6f08d43",
   "metadata": {},
   "outputs": [],
   "source": []
  },
  {
   "cell_type": "code",
   "execution_count": null,
   "id": "5dd25ccb-6ed2-4426-8199-e210c39be83d",
   "metadata": {},
   "outputs": [],
   "source": []
  },
  {
   "cell_type": "code",
   "execution_count": null,
   "id": "abb9ecb6-c96b-471a-94a9-3c72f90320dc",
   "metadata": {},
   "outputs": [],
   "source": []
  }
 ],
 "metadata": {
  "kernelspec": {
   "display_name": "Python 3 (ipykernel)",
   "language": "python",
   "name": "python3"
  },
  "language_info": {
   "codemirror_mode": {
    "name": "ipython",
    "version": 3
   },
   "file_extension": ".py",
   "mimetype": "text/x-python",
   "name": "python",
   "nbconvert_exporter": "python",
   "pygments_lexer": "ipython3",
   "version": "3.10.4"
  }
 },
 "nbformat": 4,
 "nbformat_minor": 5
}

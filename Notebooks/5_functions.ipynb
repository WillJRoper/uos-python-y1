{
 "cells": [
  {
   "cell_type": "markdown",
   "id": "e784ecb7-a4d4-4902-b0f6-03ae6ad8ee8e",
   "metadata": {},
   "source": [
    "# Functions\n",
    "\n",
    "## Learning Outcomes\n",
    "\n",
    "By the end of this notebook, you should be able to:\n",
    "\n",
    "- Use and define your own **functions**.\n",
    "- USe function arguments.\n",
    "- Return values from a function.\n",
    "- Understand what `lambda` functions are and when to use them (advanced).\n",
    "\n",
    "We're nearly there on the road to covering all the building blocks you will need. The final missing piece of the puzzle is functions. These are a way to define reusable bits of code which you can pass \"arguments\" to and get \"returned\" outputs from. In fact, I've been talking about functions the whole time and you've already used a bunch. What we are missing is the ability to define our own."
   ]
  },
  {
   "cell_type": "markdown",
   "id": "a66dfe8c-61f9-4f09-87d1-bca9e2836488",
   "metadata": {},
   "source": [
    "## Defining your own Functions\n",
    "\n",
    "Functions are defined using colons and indentation, similar to `if` statements and `for`/`while` loops. You can define parameters (arguments) to be used within the function. In general, a function takes the following form.\n",
    "```\n",
    "def function_name(parameter1, parameter2,....):\n",
    "    # block of code\n",
    "    return variable/s\n",
    "```\n",
    "where `def` tells Python that what follows defines a function with the name `function_name` and the arguments in the parentheses. The `return` tells Python which variables should be returned when the function is done. Note that in Python we can return one or more variables. If multiple are returned they are actually returned as a `tuple`.\n",
    "\n",
    "Then to call them in the script we simply pass the function the required arguments as we have been doing with `print`, `range` etc. and assign the returned variable to a variable.\n",
    "```\n",
    "returned_variable = function_name(x_parameter1, x_parameter2, ...)\n",
    "```\n",
    "\n",
    "Arguments don't have to be used, sometimes we have functions that don't need to take anything in. Similarly, you don't have to `return` anything. If there is no return you don't have to include the `return` keyword but including it will also do no harm.\n",
    "\n",
    "Here is a simple example of a function without arguments and no returned variable."
   ]
  },
  {
   "cell_type": "code",
   "execution_count": null,
   "id": "2f741092-1444-431b-9aa9-5fefaf4a0de7",
   "metadata": {},
   "outputs": [],
   "source": [
    "def GameOver():\n",
    "    print ('Game Over!')\n",
    "    return\n",
    "\n",
    "GameOver()"
   ]
  },
  {
   "cell_type": "markdown",
   "id": "0dcc10e1-f6a2-492d-ba11-593b2ac412b2",
   "metadata": {},
   "source": [
    "**Be careful not to call your new function something that is already built into Python!** Python allows \"overloading\" of functions/methods. This is a fancy word for redefining. We could call a function `print` but would no longer be able to use Python's native `print` function. You can check whether a function name is already in use by typing `help(name_to_check)`, which will return documentation of the function `name_to_check` if it exists. \n",
    "\n",
    "As your coding gets more advanced, you will feel the benefits of using functions more and more. If you ever find yourself copying and pasting the same code and changing numbers or small parts of it to produce different results you should probably be using a function!!!\n",
    "\n",
    "Here is an example of a function that takes a list as an argument and loops over the list of numbers performing a calculation."
   ]
  },
  {
   "cell_type": "code",
   "execution_count": null,
   "id": "2fd1f9d6-d6fc-4b83-aecb-b06d0c682e6e",
   "metadata": {},
   "outputs": [],
   "source": [
    "def cubed(alist):\n",
    "\n",
    "    # Loop over elements of the argument\n",
    "    for i in range(len(alist)):\n",
    "    \n",
    "        # Cube the element and reassign it to the list\n",
    "        alist[i] = alist[i] ** 3\n",
    "\n",
    "    print(alist)\n",
    "        \n",
    "# Define a list of numbers to be used in the function\n",
    "numbers = list(range(5))\n",
    "\n",
    "# Cube the numbers using the user-defined function\n",
    "cubed(numbers)"
   ]
  },
  {
   "cell_type": "markdown",
   "id": "0a9f8416-2a50-42be-abe2-27805134dd69",
   "metadata": {},
   "source": [
    "Here, we have passed in the `numbers` variable, which was assigned to the argument variable called `alist` in the function and then each element is cubed in a list.\n",
    "\n",
    "Also, notice that I have wrapped the `range` call in a call to `list` here. I glossed over this in the previous notebook but this is because the `range` function returns an `Iterator` rather than a list, exactly the same as `.keys()` etc. did when we looked at dictionaries.\n",
    "\n",
    "## Returning values\n",
    "\n",
    "Now let's compute the sum of the series $x^{2}$ up to 100."
   ]
  },
  {
   "cell_type": "code",
   "execution_count": null,
   "id": "4e9301ba-384f-4aed-b899-35a4ec1bf615",
   "metadata": {},
   "outputs": [],
   "source": [
    "def series(ns):\n",
    "\n",
    "    # Define a variable to hold the sum\n",
    "    asum = 0\n",
    "    \n",
    "    # Loop over elements of the argument\n",
    "    for i in ns:\n",
    "    \n",
    "        # Sum the squares of the argument\n",
    "        asum += i**2\n",
    "\n",
    "# Find the sum of the series defined by the function\n",
    "series(range(100))\n",
    "\n",
    "print(asum)"
   ]
  },
  {
   "cell_type": "markdown",
   "id": "f54a8e41-1eda-4a02-bd7c-329996ae09c9",
   "metadata": {},
   "source": [
    "Oh no, a `NameError` has occurred... \n",
    "\n",
    "This was entirely forseeable really, and is due to `asum` not being a global variable, i.e. it is only a variable within the function where it was defined. To use this variable in different parts of the code we will need to `return` it. Returning the varibale will pass it outside of the function and we can assign it to another variable. This is part of a greater concept in coding called `Namespaces` (scopes in other languages) which will be covered later.\n",
    "\n",
    "Let's fix the above function by returning the sum once we have computed it."
   ]
  },
  {
   "cell_type": "code",
   "execution_count": null,
   "id": "ab27a123-2304-41f7-bb71-b6ed4092f451",
   "metadata": {},
   "outputs": [],
   "source": [
    "def series(ns):\n",
    "\n",
    "    # Define a variable to hold the sum\n",
    "    asum = 0\n",
    "    \n",
    "    # Loop over elements of the argument\n",
    "    for i in ns:\n",
    "    \n",
    "        # Sum the squares of the argument\n",
    "        asum += i**2\n",
    "\n",
    "    return asum\n",
    "\n",
    "# Find the sum of the series defined by the function\n",
    "series_sum = series(range(100))\n",
    "\n",
    "print(series_sum)"
   ]
  },
  {
   "cell_type": "markdown",
   "id": "7ed7a11a-123a-42a4-9117-0eb3a93418da",
   "metadata": {},
   "source": [
    "The return statement outputs the value, which we assign to a variable, in this case `series_sum`. \n",
    "\n",
    "If we wanted to return multiple values we can by simply listing the variables we want to return."
   ]
  },
  {
   "cell_type": "code",
   "execution_count": null,
   "id": "92eb7931-0df7-4a01-a656-9e8f819013a3",
   "metadata": {},
   "outputs": [],
   "source": [
    "def timestable(number):\n",
    "\n",
    "    # Compute the products of the number in the argument\n",
    "    a = number * 2\n",
    "    b = number * 3\n",
    "    c = number * 4\n",
    "    d = number * 5\n",
    "    \n",
    "    return a, b, c, d\n",
    "    \n",
    "# Compute 5 multiplied by 2-5 (inclusive) using the function\n",
    "result = timestable(5) "
   ]
  },
  {
   "cell_type": "markdown",
   "id": "1e7896f6-e5ce-4f9d-949f-c756df65bd5e",
   "metadata": {},
   "source": [
    "If we print result and the type of result we will see what we have here is actually just a tuple \"in a trench coat\"."
   ]
  },
  {
   "cell_type": "code",
   "execution_count": null,
   "id": "71c5dcf2-4400-4b8c-8265-9d3b88f19451",
   "metadata": {},
   "outputs": [],
   "source": [
    "print(result, type(result))"
   ]
  },
  {
   "cell_type": "markdown",
   "id": "3fb8a2b5-a876-426f-8fc0-983d942845b5",
   "metadata": {},
   "source": [
    "We don't have to return to a single variable though, we can straight away unpack this tuple into variables with the following."
   ]
  },
  {
   "cell_type": "code",
   "execution_count": null,
   "id": "9724bb1c-7038-4374-80ff-a646063f2dac",
   "metadata": {},
   "outputs": [],
   "source": [
    "# Compute 5 multiplied by 2-5 (inclusive) using the function\n",
    "res1, res2, res3, res4 = timestable(5) \n",
    "\n",
    "print(res1, res2, res3, res4)"
   ]
  },
  {
   "cell_type": "markdown",
   "id": "6858a527-2857-42aa-89d1-27f99c3f2a2c",
   "metadata": {},
   "source": [
    "## Exercises 5.1\n",
    "1. Repeat the leap year exercise from the [previous notebook](4_logic_loops.ipynb) but define a function that takes a year and returns whether it is a leap year or not and then print the result. \n",
    "2. Write a function that:\n",
    "    - Takes two parameters, a pay rate, and the number of hours worked.\n",
    "    - Makes it return the total pay.\n",
    "    - Alter the function so that any hours over 40 are paid at 1.5 times the normal rate.\n",
    "    - Run it for some sample values and print the result to check it makes sense."
   ]
  },
  {
   "cell_type": "markdown",
   "id": "b5d5dd56-5202-470e-b15d-558e9aa52837",
   "metadata": {},
   "source": [
    "## Signpost \n",
    "\n",
    "You now have all the tools you need to complete the first assignment!"
   ]
  },
  {
   "cell_type": "markdown",
   "id": "e99f40bb-659a-49da-9507-992d7acf94c6",
   "metadata": {},
   "source": [
    "<details>\n",
    "  <summary>Lambda Functions</summary> \n",
    "    \n",
    "## Lambda statement\n",
    "\n",
    "The lambda statement is a way to define a single-line function for use with expressions. The function can be expressed in the following way, with an arbitrary number of arguments:\n",
    "```\n",
    "function_name = lambda argument1, argument2, ...: expression\n",
    "```\n",
    "\n",
    "An example of a lambda statement:\n",
    "```\n",
    "root = lambda x, n: x**(1 / n)\n",
    "\n",
    "print (root(2,2))\n",
    "print (root(2,3))\n",
    "print (root(2,4))\n",
    "```\n",
    "Evidently, they are very similar to the function command but can be more succinct for simple repeatable calculations.\n",
    "</details>"
   ]
  },
  {
   "cell_type": "markdown",
   "id": "1a608bf1-7be8-4552-8c74-9d80c8dd0c9b",
   "metadata": {},
   "source": [
    "## Advanced Exercises 5.2\n",
    "\n",
    "Think carefully about how you would approach these problems. Remember the \"Sourcing help\" section when completing this section. See if you can complete these exercises using online help.\n",
    "\n",
    "\n",
    "1. Write a program where a user gets 3 chances to guess a password. If the password is correct print `\"Access Granted\"` and exit the loop, if incorrect print `\"Access Denied\"`. Modify the code so that after the third guess a message is displayed telling the user they have run out of guesses.\n",
    "2. DNA sequence strings are made up of the letters A, T, G, and C. The DNA sequence strings have a complement string where the letters are switched. A's become T's, T's become A's, G's become C's, and C's become G's. For example, the complement of TTATGGCGTA is AATACCGCAT. Write a function that produces a complement of a DNA string. This function should take the DNA string as an argument and return the complement.\n",
    "3. Using a dictionary create a phone book, with a key of names and numbers as values. Then write a function that searches the dictionary for a name, if the name exists, give options (via `input`) to call, edit, or remove the contact.\n",
    "    - If call is selected, print `\"Calling\"`, and the name, to the screen.\n",
    "    - If edit is selected, provide the user another `input` to edit the number.\n",
    "    - If remove is selected delete the contact.\n",
    "    - If the name does not appear give the option to add the name to the dictionary. "
   ]
  },
  {
   "cell_type": "code",
   "execution_count": null,
   "id": "81ffdb6f-2500-40e7-9c7c-49b2184416be",
   "metadata": {},
   "outputs": [],
   "source": []
  },
  {
   "cell_type": "code",
   "execution_count": null,
   "id": "b20cc3d9-2b05-4f4e-bf1d-a32b6ab6716e",
   "metadata": {},
   "outputs": [],
   "source": []
  },
  {
   "cell_type": "code",
   "execution_count": null,
   "id": "a895ca9d-b4a7-45ce-aad0-7245a2c1f793",
   "metadata": {},
   "outputs": [],
   "source": []
  }
 ],
 "metadata": {
  "kernelspec": {
   "display_name": "Python 3 (ipykernel)",
   "language": "python",
   "name": "python3"
  },
  "language_info": {
   "codemirror_mode": {
    "name": "ipython",
    "version": 3
   },
   "file_extension": ".py",
   "mimetype": "text/x-python",
   "name": "python",
   "nbconvert_exporter": "python",
   "pygments_lexer": "ipython3",
   "version": "3.10.4"
  }
 },
 "nbformat": 4,
 "nbformat_minor": 5
}

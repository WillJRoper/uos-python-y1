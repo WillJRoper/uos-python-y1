{
 "cells": [
  {
   "cell_type": "markdown",
   "id": "4ed36a10-d183-4e26-899d-7e6bcfa9de46",
   "metadata": {},
   "source": [
    "# Using Packages\n",
    "\n",
    "## Learning Outcomes\n",
    "\n",
    "By the end of this notebook, you should:\n",
    "\n",
    "- Know what Python packages are and what they are for. \n",
    "- Know how to load Python packages.\n",
    "- Know how to find out what functions are inside a given package and how to get help with those functions.\n",
    "- Be aware of `numpy`, `scipy` and `matplotlib` packages (especially `arange` from the `numpy` module).\n",
    "- Be familiar with the the `random` module.\n",
    "\n",
    "We covered the basics of writing your own code now but we aren't going to reinvent the wheel every time we need to do something! We now need to know how to `import` other people's code into our own and use it. This notebook will cover packages and some simple uses of some commonly used packages."
   ]
  },
  {
   "cell_type": "markdown",
   "id": "615cc386-08a9-400a-8995-0512bc30dc21",
   "metadata": {},
   "source": [
    "## What are Packages?\n",
    "\n",
    "Packages are pieces of code that have been created by other developers that give Python more functions and abilities. They are generally open source, actively developed, and available for free. In serious programs they are indispensable! Replicating code that other people have already written is a pointless waste of time and money (if you're being employed). Often they will have been implemented in a far more memory and time-efficient way than would be possible without years of experience, possibly even interfacing with much faster C or C++ (`numpy` for instance) code under the hood.\n",
    "\n",
    "\n",
    "A quick overview of packages: \n",
    "\n",
    "- Standard Python contains many built-in functions but does not contain everything you will need in your coding future.\n",
    "- Packages can be loaded by Python and contain dozens of functions.\n",
    "- Occasionally (but rarely, this is mostly avoided) function names are duplicated in different packages. Even though they share a name, the operation of these functions could be very different. You, therefore, have to be careful to use the correct version (by specifying the module name explicitly in the function call, this will become obvious below).\n",
    "- You should only import the packages that you **need**, and only import them once (loading packages multiple times and/or loading packages you don't need leads to wasted memory)."
   ]
  },
  {
   "cell_type": "markdown",
   "id": "f8d6d3bf-5606-422a-b8da-8fb4986b7fd4",
   "metadata": {},
   "source": [
    "<details>\n",
    "  <summary>Terminology</summary>  \n",
    "Terminology gets a bit muddy from here on out. Strictly a function is a self-defined chunk of reusable code, as you have seen in the previous chapter. These packages in fact contain \"methods\" and functions, the distinction will make far more sense if you progress to object-orientated programming. For simplicity we will use the two interchangeably, mainly focusing on misusing \"function\" for simplicity's sake but don't be confused if you come across \"method\" in the future or online.\n",
    "\n",
    "There is also a distinction between a \"module\" (a Python file from which you can import functionality) and a \"package\" (a collection of Python files which have been collected together and made distributable). I will use \"package\" universally for simplicity but note the distinction.\n",
    "</details>"
   ]
  },
  {
   "cell_type": "markdown",
   "id": "e3e5b537-0923-4004-b4f9-d08b6156e338",
   "metadata": {
    "jp-MarkdownHeadingCollapsed": true
   },
   "source": [
    "## Common Python packages\n",
    "\n",
    "Here are some common packages we will cover in this course (in no particular order): \n",
    "- `matplotlib`: Includes graphics tools to create and display plots. In Physics and Astrophysics, it is frequently used to make plots for publications.\n",
    "- `numpy`: Includes data structures (arrays) and mathematical operations not included in basic Python, for example, cosine, exponentials, logarithms, etc. Some basics of `numpy` will be discussed in this section, but we will comprehensively cover it in a future notebook. `numpy` can be extremely helpful for speeding up your programs since many of its operations are implemented in C behind the scenes\n",
    "- `scipy`: Includes scientific resources such as those needed in mathematical physics, e.g., Bessel, gamma, beta functions, signal processing, integration, differential equation solving, and statistics... (you will use `scipy` a **lot** in Scientific Computing in Y2).\n",
    "- `random`: Can be used to generate pseudo-random numbers.\n",
    "- `pandas`: Allows you to work with data in a structure analogous to spreadsheets. We will cover this in detail later.\n",
    "- `os`: allows you to interface Python with your operating system (via Unix commands, sorry Windows users), for example, if you want to load up certain types of files into your Python code or change directories.\n",
    "- `math`: Includes basic math operations, much the same as `numpy`, but will only accept singular values to most of its functions. This limitation means we will use it rarely but sometimes we will need it for specific functionality.\n",
    "- `unyt`: Allows you to work with units and directly import constants inside your code directly.\n",
    "\n",
    "\n",
    "Below are some additional packages that you may come across, especially if you are working on your own projects. **NOTE: Although it is absolutely fine to use these or other non-standard packages, do not use them in the assessments. We will only mark work that uses the taught methods.**\n",
    "\n",
    "- `TkInter`: A way to use GUIs with Python.\n",
    "- `PyGame`: If you are writing games.\n",
    "- `SQLAlchemy`: If you want to set up a database.\n",
    "- `SymPy`: Symbolic equation solving in Python, this is essentially free Maple.\n",
    "- `time`: Amongst other things, this contains a useful function to check how long your code is taking to run.\n",
    "- `html`: Write webpages in python.\n",
    "- `astropy`: If you are lucky enough to do any astronomy research, then you'll definitely be using this one. It contains its own implementation of units as well as all the machinery to do cosmological calculations.\n",
    "- `scikit learn`: A suite of simple machine learning algorithms.\n",
    "- `tensorflow`: A more in-depth module filled with machine learning \"machinery\", including lots of GPU optimisation.\n",
    "\n",
    "\n",
    "You can find many more packages described online, e.g. check out [https://wiki.python.org/moin/UsefulModules](https://wiki.python.org/moin/UsefulModules)."
   ]
  },
  {
   "cell_type": "markdown",
   "id": "6e4d56bb-ea71-469c-9d84-9311b5a27f7c",
   "metadata": {},
   "source": [
    "## Importing Packages\n",
    "\n",
    "**You should import all packages at the __TOP__ of your scripts: loading them anywhere else can quickly lead to confusion, i.e. DO NOT import packages in any other cell than the first in Jupyter.**\n",
    "\n",
    "There are several different ways of importing packages. The different methods have advantages and disadvantages based on the task. Until you get more used to Python, you can keep checking with the ATs to make sure you are using the correct method. For now, you'll be using one or more of the following methods. "
   ]
  },
  {
   "cell_type": "markdown",
   "id": "6847001a-32d0-487a-a393-89bf510ffdaa",
   "metadata": {},
   "source": [
    "### Method One\n",
    "\n",
    "The simplest way to import a module is the following. This example shows how to import the `numpy` module."
   ]
  },
  {
   "cell_type": "code",
   "execution_count": null,
   "id": "be4a3f15-c4d3-4f26-b11a-474f248bb1ac",
   "metadata": {},
   "outputs": [],
   "source": [
    "import numpy"
   ]
  },
  {
   "cell_type": "markdown",
   "id": "9878eee2-3a37-40e5-9fab-8f11b6de498d",
   "metadata": {},
   "source": [
    "This method allows you to access all the functions in a module, without explicitly importing them into your code and using up your computer's RAM (Random Access Memory- the fast access memory used for running processes on your computer, not used to store data). \n",
    "\n",
    "To use a function from that module within the code, we need to tell Python the function is associated with the module by joining the function to the module using a full stop, i.e. `module.function`. This is another kind of address. You are telling Python `function` is inside `package` so that is where you should look for it."
   ]
  },
  {
   "cell_type": "code",
   "execution_count": null,
   "id": "50d9a657-fad4-43d6-ad19-6cf8ce2e3385",
   "metadata": {},
   "outputs": [],
   "source": [
    "import numpy\n",
    "print(numpy.exp(1))\n",
    "print(numpy.pi)"
   ]
  },
  {
   "cell_type": "markdown",
   "id": "a4620d19-6f9f-4fa7-9040-e06de770393e",
   "metadata": {},
   "source": [
    "This method is often preferable since someone reading your code can always see that a function you are using comes from a specific package."
   ]
  },
  {
   "cell_type": "markdown",
   "id": "685580bf-37d0-411f-8c65-de7266fa98c0",
   "metadata": {},
   "source": [
    "### Method Two\n",
    "This method imports the module with a custom name for use when calling upon functions, this saves time with packages with long names. This is called \"aliasing\"."
   ]
  },
  {
   "cell_type": "code",
   "execution_count": null,
   "id": "bb92678b-03f8-4855-805c-d40c8f48b1e4",
   "metadata": {},
   "outputs": [],
   "source": [
    "import numpy as np\n",
    "print(np.exp(1))\n",
    "print(np.pi)"
   ]
  },
  {
   "cell_type": "markdown",
   "id": "87e20039-4776-41b3-8e0f-7b67f7d17850",
   "metadata": {},
   "source": [
    "Note that you are not obliged to use `np` as the short version for the `numpy` module but it is a good idea to use standardised aliases. You could use `daffodil` if you wanted, but of course, you'd not save any time that way! You will find that there are accepted names for a huge number of commonly used packages such as `np` for `numpy`, `plt` for `matplotlib.pyplot`, `tf` for `tensorflow` etc. Also note that you can still use the full name of the module, in addition to the shorthand."
   ]
  },
  {
   "cell_type": "markdown",
   "id": "16007322-a4f8-48fb-9bb9-d1947e5d71ad",
   "metadata": {},
   "source": [
    "### Method Three\n",
    "The third method imports all the functions from a module into Python for use."
   ]
  },
  {
   "cell_type": "code",
   "execution_count": null,
   "id": "d421a127-2807-4cd7-b9b2-5f8836c34e68",
   "metadata": {},
   "outputs": [],
   "source": [
    "from numpy import *"
   ]
  },
  {
   "cell_type": "markdown",
   "id": "32578da2-0c1e-424e-ad69-61a2ac1f908d",
   "metadata": {},
   "source": [
    "This simply tells Python, to import all functions from numpy. To then call upon the function just type the function name:"
   ]
  },
  {
   "cell_type": "code",
   "execution_count": null,
   "id": "2b06ca13-c393-47c9-8e3d-3dbec613d85a",
   "metadata": {},
   "outputs": [],
   "source": [
    "print(exp(1))\n",
    "print(pi)"
   ]
  },
  {
   "cell_type": "markdown",
   "id": "d8c80dcf-ff48-42bb-99f7-41d2a71dbab4",
   "metadata": {},
   "source": [
    "The main disadvantages of this method are that you will waste memory (RAM) and, when importing multiple packages, you might be importing similar functions with the same names. You then have to take extra care to make sure you are using the function you intended."
   ]
  },
  {
   "cell_type": "markdown",
   "id": "8e6d789d-ece8-47d1-af0f-2a62e2031f67",
   "metadata": {},
   "source": [
    "<details>\n",
    "  <summary>A warning</summary>\n",
    "**Do not use Method three**. It wastes memory, and time, and can potentially cause massive conflicts with other packages if you're importing more than one. It is bad practice. Using abbreviations, or more officially: \"namespaces\", like `np` makes the code easier to read, allows other developers to know where the function comes from, and most importantly only loads it into memory when the function is actually used.\n",
    "\n",
    "Method three has been described here purely so that you are aware of its potential use, especially when looking online for help. \n",
    "</details>"
   ]
  },
  {
   "cell_type": "markdown",
   "id": "aa604885-db4c-48b0-8f34-af1c50b24b82",
   "metadata": {},
   "source": [
    "### Method Four\n",
    "\n",
    "The fourth method is similar to the third method, however, this time you can specify which functions from a module you wish to use - this method is often the best method when you only want to use one or two functions from a library."
   ]
  },
  {
   "cell_type": "code",
   "execution_count": null,
   "id": "a5e07484-0d69-44c4-b3cb-a0956f18d3ab",
   "metadata": {},
   "outputs": [],
   "source": [
    "from numpy import exp, sin"
   ]
  },
  {
   "cell_type": "markdown",
   "id": "8b8509b2-9c3a-4418-b24a-01f8316b5d6b",
   "metadata": {},
   "source": [
    "You can import as many of the functions as you like from the module all separated by a comma. "
   ]
  },
  {
   "cell_type": "code",
   "execution_count": null,
   "id": "e7e0e02e-dbf3-4c3c-976b-f9afc6b5ed23",
   "metadata": {},
   "outputs": [],
   "source": [
    "print(exp(1))\n",
    "print(sin(3.14)) # note that Python defaults to radians"
   ]
  },
  {
   "cell_type": "markdown",
   "id": "50c82f1e-eabb-46ed-ae7d-277c34017cc5",
   "metadata": {},
   "source": [
    "If you try to use a function you did not import a `NameError` will occur."
   ]
  },
  {
   "cell_type": "code",
   "execution_count": null,
   "id": "e1a36f55-5cee-46c0-ac4f-82933298e62d",
   "metadata": {},
   "outputs": [],
   "source": [
    "print(pandas.read_csv())"
   ]
  },
  {
   "cell_type": "markdown",
   "id": "8a01d444-1be9-46dc-baed-10dd12f8c3d4",
   "metadata": {},
   "source": [
    "In the future, if you are writing `.py` files you can use the same methods to import packages. Including importing your own functions from other `.py` files that are local.\n",
    "\n",
    "## Accessing help with packages and functions\n",
    "\n",
    "### The `dir` command\n",
    "\n",
    "To find what functions are within a module we can use the `dir` function. For example, the following shows the contents of the `random` package."
   ]
  },
  {
   "cell_type": "code",
   "execution_count": null,
   "id": "327f3392-0b32-41ec-9841-65597da001cb",
   "metadata": {},
   "outputs": [],
   "source": [
    "import random\n",
    "dir(random)"
   ]
  },
  {
   "cell_type": "markdown",
   "id": "14bd75b5-9f68-445f-ab31-aab8791c0a23",
   "metadata": {},
   "source": [
    "### The `help` function\n",
    "\n",
    "Typing `help( )` with a function name in between the parentheses will display the doc string of that function, a long string describing the inputs and functionality of the function. In the example below, we look for information on the range function."
   ]
  },
  {
   "cell_type": "code",
   "execution_count": null,
   "id": "c1a67b11-085d-4190-b154-012d91f4f674",
   "metadata": {},
   "outputs": [],
   "source": [
    "help(range)"
   ]
  },
  {
   "cell_type": "markdown",
   "id": "29b63e7e-fe1c-465f-bbf0-13052cb828e9",
   "metadata": {},
   "source": [
    "As with using functions you haven't imported, if you mistype a function name, you will get a `NameError`.\n",
    "\n",
    "`help` will tell you what inputs you have to give to the function, as well as any that are optional. If you see a function with parameters in square brackets, [], then these inputs are optional. Do not type the function out with the square brackets as you see in the help screen, you'll get a syntax error:"
   ]
  },
  {
   "cell_type": "code",
   "execution_count": null,
   "id": "68953b7d-16d4-471a-9d2f-0d783e85f775",
   "metadata": {},
   "outputs": [],
   "source": [
    "range([1,]40[,2])"
   ]
  },
  {
   "cell_type": "markdown",
   "id": "9518f59f-f98d-47e5-9afe-5e3f1c58b7e1",
   "metadata": {},
   "source": [
    "### When `help` is not actually helpful\n",
    "\n",
    "Python is free, and sometimes the help pages reflect this, i.e. they are not useful, especially for beginners. For example, "
   ]
  },
  {
   "cell_type": "code",
   "execution_count": null,
   "id": "bdf08dc2-2db1-4609-a38b-4f55e766cdbc",
   "metadata": {},
   "outputs": [],
   "source": [
    "help(np.sin)"
   ]
  },
  {
   "cell_type": "markdown",
   "id": "513e9573-1833-4f5d-9b99-926fb5f93342",
   "metadata": {},
   "source": [
    "If you get stuck and `help` doesn't help, then don't despair! You can ask your AT, Google, chatGPT, StackOverflow, or a friend for help.\n",
    "\n",
    "A quick side note, taking breaks definitely helps when you are coding. Sometimes, you need to go to sleep for the solution to a problem to show itself. Also, make sure you don't suffer alone, complain about your issues to your friends, sometimes talking about the problem can help the solution pop up. In fact, a very helpful process in coding called \"rubber ducking\" involves chatting rubbish to an inanimate object until the issue resolves itself in your head, feel free to substitute the inanimate object for a weary friend. Sometimes talking through the problem is all you need."
   ]
  },
  {
   "cell_type": "markdown",
   "id": "791e24a2-c3f0-40d6-ae46-0f1b8f13ae5d",
   "metadata": {},
   "source": [
    "## Exercises 6.1\n",
    "\n",
    "Use the cells below to complete the following exercises. These exercises require the `numpy` module. Please try to figure out which functions to use and how to use them by yourself (make use of Google, the numpy documentation and the `help` function). Learning how to figure out how to do things in Python that you've not been explicitly taught is an essential skill.\n",
    "\n",
    "1. Compute the following:\n",
    "    - $\\sin(\\frac{\\pi}{3})$\n",
    "    - $\\frac{\\log(100)}{\\log(10)}$\n",
    "    - Convert 60 degrees to radians.\n",
    "    - $\\log_2(6)$\n",
    "    - $\\ln(5)$\n",
    "    - Check if $4\\times\\arctan(1)$ is equal to $\\pi$ (print True or False).\n",
    "\n",
    "\n",
    "2. Write a function that checks Euler's formula, $$e^{\\pm i\\theta}=\\cos \\theta \\pm i \\sin \\theta,$$ for any argument $\\theta$.\n",
    "    - Check that the right-hand side is equal to the left-hand side.\n",
    "    - It must return True if the formula holds.\n",
    "\n",
    "3. Evaluate $\\log_6(2)$ (hint: use the logarithm base change rule)."
   ]
  },
  {
   "cell_type": "code",
   "execution_count": null,
   "id": "32e9dc1e-28f6-48dd-9946-d956271904d2",
   "metadata": {},
   "outputs": [],
   "source": []
  },
  {
   "cell_type": "code",
   "execution_count": null,
   "id": "aad81b09-218e-4d92-a57f-142e5799f10f",
   "metadata": {},
   "outputs": [],
   "source": []
  },
  {
   "cell_type": "code",
   "execution_count": null,
   "id": "cd3888b7-f22d-43ec-9776-73f5612d23ac",
   "metadata": {},
   "outputs": [],
   "source": []
  },
  {
   "cell_type": "markdown",
   "id": "be2e3ea2-39ae-4a20-b9ba-8a9c21af3e43",
   "metadata": {},
   "source": [
    "## The `random` package\n",
    "\n",
    "In Physics research and statistics, random numbers are used all the time for many purposes; from making random sub-samples of a large dataset to helping us sample highly complex mathematical functions. In this course, we'll use randomly generated numbers from a uniform probability distribution (all numbers in range equally possible) and from a Normal (or Gaussian) probability distribution.\n",
    "\n",
    "Note that `numpy` has a random number implementation which is significantly more robust in certain circumstances (and offers more options). We'll cover this in the `numpy` notebook."
   ]
  },
  {
   "cell_type": "markdown",
   "id": "cdb2b47a-9c0b-4b89-8c8a-8fd128da4e23",
   "metadata": {},
   "source": [
    "## Exercises 6.2\n",
    "\n",
    "Now it's time for some self-driven learning, using the skills taught above: `dir`, `help` and the internet which no programmer ever works without, try these exercises in the cells below. \n",
    "1. Investigate the `randint`, `randrange`, `random`, `uniform`, and `gauss` functions.\n",
    "2. Generate a random number and store it in a variable.\n",
    "3. Generate a random number between 1 and 10 and store it in another.\n",
    "4. Generate a random integer between 1 and 100 and store it in another.\n",
    "5. Generate 100 random numbers from a normal distribution with $\\mu=5$ and $\\sigma=2$ and store them in a list.\n",
    "6. Write a function that displays a random letter from an inputted name.\n",
    "7. Generate a random number between 1 and 100 that is divisible by 9. Hint: use `random.randrange`."
   ]
  },
  {
   "cell_type": "code",
   "execution_count": null,
   "id": "1e0d4a49-0891-48e3-8e5a-2168c54ec08c",
   "metadata": {},
   "outputs": [],
   "source": []
  },
  {
   "cell_type": "code",
   "execution_count": null,
   "id": "3a4faf59-c6db-4a28-adfe-b4ea14f40777",
   "metadata": {},
   "outputs": [],
   "source": []
  },
  {
   "cell_type": "code",
   "execution_count": null,
   "id": "4d5a60c3-9374-4ffc-8e36-de6ba0df1380",
   "metadata": {},
   "outputs": [],
   "source": []
  },
  {
   "cell_type": "code",
   "execution_count": null,
   "id": "c90cc337-ac85-4e93-858e-4d9f3ddc513f",
   "metadata": {},
   "outputs": [],
   "source": []
  },
  {
   "cell_type": "code",
   "execution_count": null,
   "id": "93615d3b-3fb7-4c1b-8dc0-6b9078f4e2b6",
   "metadata": {},
   "outputs": [],
   "source": []
  },
  {
   "cell_type": "code",
   "execution_count": null,
   "id": "e0965a90-ab10-41f2-8b46-adfdf6a4ad4f",
   "metadata": {},
   "outputs": [],
   "source": []
  },
  {
   "cell_type": "code",
   "execution_count": null,
   "id": "095d6941-7ed0-4901-ae3b-e5f11d1d4f02",
   "metadata": {},
   "outputs": [],
   "source": []
  },
  {
   "cell_type": "markdown",
   "id": "995097a9-4016-4521-a07f-74da9e1a0bcb",
   "metadata": {},
   "source": [
    "### Seeding\n",
    "Often when working with random numbers we may want random numbers but also repeatable results for debuggig/testing. Now... this seems a little paradoxical but it is a very real requirement which you will undoubtedly encounter at some point. To achieve this we can simply \"seed\" our random numbers. To do this with `random` we simply employ the seed function."
   ]
  },
  {
   "cell_type": "code",
   "execution_count": null,
   "id": "788e6d6f-1adb-45d3-bc78-a6a746a7994b",
   "metadata": {},
   "outputs": [],
   "source": [
    "random.seed(1)"
   ]
  },
  {
   "cell_type": "markdown",
   "id": "1c0d7b06-279b-42b2-8883-65c2924cc25f",
   "metadata": {},
   "source": [
    "Now our random numbers will be the same sequence regardless of when we run it. The only requirement of seed is that the argument (1 here) is an integer, this integer can be any integer and defines the random sequence deterministically. If no seed is set the random numbers are simply seeded by the current system time in milliseconds (ticks) from 1970."
   ]
  },
  {
   "cell_type": "markdown",
   "id": "2acb2a3d-9bb2-4b99-a393-bc579f7f9aff",
   "metadata": {},
   "source": [
    "## The `arange` function\n",
    "\n",
    "The `arange` function is part of `numpy`. You can think of it as an advanced version of the built-in `range` function. Unlike the regular `range` function, `arange` allows floats, so you can have step sizes of 0.5 or 0.1, etc. The function doesn't return a vanilla Python list, but instead a `numpy` array (the difference is akin to that between a vector and a matrix, more on these later)."
   ]
  },
  {
   "cell_type": "code",
   "execution_count": null,
   "id": "bddfef2a-7306-4271-8fd6-462c25ed4e04",
   "metadata": {},
   "outputs": [],
   "source": [
    "x = np.arange(1, 10.5, 0.5)\n",
    "print(x)"
   ]
  },
  {
   "cell_type": "markdown",
   "id": "4e1e9b58-3dfa-47db-9e65-5d95fb1e8c15",
   "metadata": {},
   "source": [
    "The above generates an array from 1 to 10 in intervals of 0.5. It has the same argument layout as the vanilla `range` function. Below are some examples using `arange`. "
   ]
  },
  {
   "cell_type": "code",
   "execution_count": null,
   "id": "1d84c3ae-c7be-4f1b-b4de-f6857e3b32db",
   "metadata": {},
   "outputs": [],
   "source": [
    "print(np.arange(4.0))\n",
    "print(np.arange(2, 5))\n",
    "print(np.arange(1, 2, 0.25))"
   ]
  },
  {
   "cell_type": "markdown",
   "id": "2599ac43-b630-481f-b84b-f36cbb2fd705",
   "metadata": {},
   "source": [
    "The table below summarises the argument options for `arange`.\n",
    "\n",
    "| Function call         | Description |\n",
    "|-----------------------|-------------|\n",
    "| `arange(j)`           | Creates an array starting at 0 and ending at `j-1` with increments of 1                                |\n",
    "| `arange(i, j)`        | Creates an array starting at `i` and ending at `j-1` with increments of 1                                |\n",
    "| `arange(i, j, k)`     | Creates an array starting at `i` and ending at the nearest number to `j` based on the increments of `k` |"
   ]
  },
  {
   "cell_type": "markdown",
   "id": "41eb411a-ce36-4b64-81e5-f44e8cd72408",
   "metadata": {},
   "source": [
    "## Exercises 6.3\n",
    "\n",
    "Complete the following exercises in the cells below using arrays made with `arange`.\n",
    "1. Create a range of values from -2 $\\pi$ to 2 $\\pi$ in steps of 0.1 and calculate $\\sin(x)$.\n",
    "2. With the same range of values calculate $\\cos(x)$.\n",
    "3. Create an array of integers from 1 to 100. Loop over them and store all even values in a list. Print out that list to confirm it worked."
   ]
  },
  {
   "cell_type": "code",
   "execution_count": null,
   "id": "49b823b0-3133-4a10-90e2-2794f8533e90",
   "metadata": {},
   "outputs": [],
   "source": []
  },
  {
   "cell_type": "code",
   "execution_count": null,
   "id": "a189364d-4e27-49f0-bae5-240036269f22",
   "metadata": {},
   "outputs": [],
   "source": []
  },
  {
   "cell_type": "code",
   "execution_count": null,
   "id": "8450d486-f034-4e8f-8626-53794fe7cfc8",
   "metadata": {},
   "outputs": [],
   "source": []
  }
 ],
 "metadata": {
  "kernelspec": {
   "display_name": "Python 3 (ipykernel)",
   "language": "python",
   "name": "python3"
  },
  "language_info": {
   "codemirror_mode": {
    "name": "ipython",
    "version": 3
   },
   "file_extension": ".py",
   "mimetype": "text/x-python",
   "name": "python",
   "nbconvert_exporter": "python",
   "pygments_lexer": "ipython3",
   "version": "3.10.4"
  }
 },
 "nbformat": 4,
 "nbformat_minor": 5
}

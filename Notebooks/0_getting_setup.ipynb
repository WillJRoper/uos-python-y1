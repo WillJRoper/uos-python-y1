{
 "cells": [
  {
   "cell_type": "markdown",
   "id": "02085497-7b71-47ba-a687-3704227fc4fb",
   "metadata": {},
   "source": [
    "# Getting Started\n",
    "\n",
    "## Learning Outcomes\n",
    "- Be able to set up Python. Either locally or on the University system.\n",
    "\n",
    "## Preamble\n",
    "\n",
    "We'll start slowly to make sure everyone feels confident with the absolute basics. Before we begin we need to get started using Jupyter notebooks, a web browser application that is one of several ways of coding in Python. Jupyter notebooks are extremely useful for presenting information alongside code and dividing code up into \"cells\" which can be run separately. They are thus perfect for something like this module or assignments. They are, however, not perfect for everything. More on this later!\n",
    "\n",
    "Once you have completed this setup you can open your own notebooks and begin working through the contenting starting with [the first notebook](https://github.com/WillJRoper/uos-python-y1/blob/main/Notebooks/1_the_basics.ipynb) that will work through some simple calculations, data types, and variables. You are free to move on to future chapters if you complete this quickly or already have an understanding of Python programming.\n",
    "\n",
    "<!--Let's start by making a flow chart to describe the following:\n",
    "\n",
    "Something that includes a series of steps that you do so often that it is second nature (don't be rude/personal/gross! Shouldn't need saying but past experiences...), e.g. making a cup of tea, having a shower, getting the bus to campus.....\n",
    "\n",
    "These flowcharts should be done by hand initially, but if you are keen and want to learn a new skill, you could try making them using online flowchart software such as `lucidchart.com` or `gliffy.com` or `drawio.com`. Please note that not all of these packages work on Edge/Internet Explorer (try Chrome instead). These flow charts do not have anything with Jupyter. The intention is to get you thinking about how programming works, not to get you to write code.\n",
    "\n",
    "Each year we are asked, \"Why are we doing flowcharts?\". So here is the answer: To fully understand the operations of a program, flowcharts are indispensable tools. In simple terms, programs operate by stepping through a set of instructions/decisions (the code) and executing them one at a time (just as you step through a flowchart). Although the examples above are simple, programs can get very complicated (astronomical survey analysis, data reduction at CERN, cosmological simulations). You can have tens of thousands of lines of code with multiple paths for data, a structure too complicated to just keep in your head. Flowcharts give a schematic view of the different paths data can take through these programs, and the possible decisions based on that data. Flowcharts get you to think about **how a program functions** before you've even written it, and are **an important skill** you may need later in your career. \n",
    "\n",
    "Simple example flow charts can be found in the appendix of one of this document's author's published papers ([Roper et al. 2020](https://arxiv.org/abs/2003.01187)), mentioned here just to drive home that they are useful!-->"
   ]
  },
  {
   "cell_type": "markdown",
   "id": "0693c267-1366-46e6-8303-8085f1bbe6c4",
   "metadata": {},
   "source": [
    "## Running Jupyter Notebooks on the University computers\n",
    "\n",
    "Throughout this term, we will be using Jupyter Notebooks. Jupyter is a web browser application that allows you to create and share programs, which in our case will be written in Python. If you choose to use your own computer you can disregard this section and move on to the next.\n",
    "\n",
    "### Running `Anaconda` for the first time\n",
    "\n",
    "The first time you use Anaconda on a University PC, you need to launch Anaconda via the Software Hub.\n",
    "To do this, type 'software hub' into the search box at the bottom left of the screen, and run the *Software Hub* app.\n",
    "\n",
    "![Software Hub](Figures/software_hub.png)\n",
    "\n",
    "Type `anaconda` into the software hub search box and click Launch.\n",
    "\n",
    "![Anaconda Launch](Figures/anaconda_launch.png)\n",
    "\n",
    "### Running `Anaconda` in subsequent sessions\n",
    "\n",
    "On subsequent use, you should only need to select Anaconda from the Windows `Start` menu.\n",
    "\n",
    "![Program Menu](Figures/Capture2.PNG)"
   ]
  },
  {
   "cell_type": "markdown",
   "id": "26d3c86f-3a12-4234-8da4-1fc12d83486c",
   "metadata": {},
   "source": [
    "## Running Python on your own computer\n",
    "\n",
    "This section intends to help you install Python on your personal computer. Should you need to use Python on University computers rather than a personal computer the guide for this is above. It is worth giving this a read anyway even if you are using a personal computer as it contains some important information.\n",
    "\n",
    "The easiest way to set up everything you will need for the assessments and labs on your laptop or home PC, is by installing the [Anaconda software package)](https://www.anaconda.com). Anaconda is a `distribution' of Python that has several extra features that make it easier to improve Python's capabilities; one of the most important is its package manager, which we'll cover in detail later.\n",
    "\n",
    "Later in this module, you'll be introduced to **packages**. These are pieces of code that other people have written to expand Python's capabilities. One of the main strengths of Python is the vast array of packages that can be imported to make your life easier, why reinvent the wheel? For instance, there are specialist modules for Astrophysics that make it easier for us to do common calculations and operations, such as loading images from telescopes or working with cosmological calculations. Python itself has a built-in package manager for installing new packages called `pip`, but Anaconda adds a more sophisticated package manager which makes sure that all of the modules are the right versions and will work together (amongst other things). But I digress, we will cover this in more detail.\n",
    "\n",
    "**NOTE**: Anaconda is great when you are starting out. It will probably serve you well for the majority of your degree and maybe even beyond. HOWEVER, it does some nasty things in the background that can make it difficult to do more complex operations (particularly if you ever dabble in compiled languages like C and C++) and it hides a lot of complexity which is useful to learn in the long run. I purged Anaconda from my system years ago in favour of finer control over what I have installed. Of course, you don't need to worry about this now but in case you're confused down the line it is worth stating.\n",
    "\n",
    "Once you've opened the website, you should:\n",
    "\n",
    "    1. Scroll down until you find the download button under the OTT \"Unleash your innovation\".\n",
    "    2. Download the executable for your operating system (On Mac you wil need to choose between the intel and apple silicon versions).\n",
    "    3. Follow the instructions in the executable.\n",
    "\n",
    "If you do your assessments on a personal machine **please ensure that you have installed the correct version of Python** (a version >3.8). The installer should install the latest version by default but you can check by running `python --version` on the command line. If you fail to check this and your code doesn't work when we try to mark it then I'm afraid it's all on you! "
   ]
  },
  {
   "cell_type": "markdown",
   "id": "f85908ef-bf9b-4b6c-a99a-8b3810bc9924",
   "metadata": {},
   "source": [
    "### Running Jupyter Notebook\n",
    "\n",
    "Once you have opened Anaconda navigator you will be able to open Jupyter notebooks. From the launcher, open Jupyter Notebook as shown below.\n",
    "\n",
    "![Jupyter Launch](Figures/jupyter_launch.png)\n",
    "\n",
    "This will open a Jupyter Notebook session in your browser. This is where we will be doing the majority of our work in this module.\n",
    "\n",
    "**Important for the university system**: any Jupyter notebooks you create should be stored under the folder `OneDrive - University of Sussex` on the University system, otherwise they will only be saved on the particular PC that you are using.\n",
    "Open the `OneDrive - University of Sussex` folder and create a new sub-folder with a name such as `PIP_Python`.\n",
    "Open that sub-folder and create a new Jupyter notebook using the `New → Python 3` pull-down menu.\n",
    "\n",
    "![OneDrive](Figures/onedrive.png)\n",
    "\n",
    "![Python Launch](Figures/python_launch.png)\n",
    "\n",
    "On your personal machine, you do not need to worry about the is!\n",
    "\n",
    "Note you can also launch notebooks from the command line by inputting `jupyter notebook` and running it. This is how I launch them on my machine.\n",
    "\n",
    "### Whats next\n",
    "\n",
    "Now you are ready to download your copy of the notebooks either via git (following the instructions [here](https://github.com/WillJRoper/uos-python-y1#getting-your-own-copy-of-the-notebooks), or by downloading them from [Canvas](https://canvas.sussex.ac.uk/courses/27694/pages/the-python-notebooks). "
   ]
  },
  {
   "cell_type": "code",
   "execution_count": null,
   "id": "4fc4350b-d228-4888-b1c7-dfc9c465a857",
   "metadata": {},
   "outputs": [],
   "source": []
  }
 ],
 "metadata": {
  "kernelspec": {
   "display_name": "Python 3 (ipykernel)",
   "language": "python",
   "name": "python3"
  },
  "language_info": {
   "codemirror_mode": {
    "name": "ipython",
    "version": 3
   },
   "file_extension": ".py",
   "mimetype": "text/x-python",
   "name": "python",
   "nbconvert_exporter": "python",
   "pygments_lexer": "ipython3",
   "version": "3.10.4"
  }
 },
 "nbformat": 4,
 "nbformat_minor": 5
}

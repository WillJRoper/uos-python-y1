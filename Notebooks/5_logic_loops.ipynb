{
 "cells": [
  {
   "cell_type": "markdown",
   "id": "a5ae7946-63ac-4a23-bc78-991fb29f7e16",
   "metadata": {},
   "source": [
    "# Logic and Loops\n",
    "\n",
    "## Learning Outcomes\n",
    "\n",
    "By the end of this notebook, you should be able to:\n",
    "\n",
    "- Understand the use of tab indents and colons.\n",
    "- Use `if` statements.\n",
    "- Write `while` and `for` loops.\n",
    "- Incorporate the `range` function into your loops.\n",
    "- Interrupt an infinite loop.\n",
    "\n",
    "Now it's time to really introduce the power of coding and Python! We've covered basic data types, basic operators, and the data structures we can use to store and manipulate data. Now all we are missing is machinery to perform complex logic, apply operations to all the elements in our data structures, and write reusable code. The first two of these missing ingredients are what we will cover in this notebook."
   ]
  },
  {
   "cell_type": "markdown",
   "id": "2a946b1c-b49f-40d1-9829-205f862564d2",
   "metadata": {},
   "source": [
    "## Colons and Indentation\n",
    "\n",
    "Two important aspects of coding are indentation and colons, these help tell the program which parts of the code belong together when it comes to loops and if statements. These are not common to all programming languages (some use curly braces instead of indentation but often style dictates the necessity for indentation in addition to curly braces), but in Python they are vital for conditional statements, loops, and function definitions; three of the most important tools in programming.\n",
    "\n",
    "### Anatomy of Colons and Indentation\n",
    "\n",
    "<center><img width=800 src=\"../Figures/anatomyOfColonindent.png\"></center>\n",
    "Above is a diagram showing the general form of a snippet of Python code using colons and indentation. Note: (as mentioned later) You can't mix whitespaces and tab indents, they are purely here for illustration.\n",
    "\n",
    "**Colons** are easy to forget, but are straightforward to use. You need to put one at the end of any Python command that is declaring a loop, condition (like an `if` statement), or function (as shown above). If you forget to do that the code won't run and you'll be given a `SyntaxError` at the location of the line that is lacking one.\n",
    "\n",
    "**Indents** are similarly easy to forget, and you'll usually get an error message that tells you where you've forgotten to put one if you run the code. However, when things get a bit more complex and you have multiple nested loops and conditions it can be very easy to mis-indent a block or statement. This can be problematic, either introducing minor undesirable behaviours into your program or a seriously detrimental bug. \n",
    "\n",
    "An indent is, by convention, 4 \"columns\" (\"white spaces\") wide for Python, though it is possible to use one tab character instead - **using both in one script will not work**. In general, Jupyter will add them for you if you've put a colon at the end of the previous line and then hit `Enter`. If you need to put them in yourself, we recommend  using the tab key (although that does not work in all editors), rather than counting the number of times you've hit the space bar (which becomes extremely tedious).\n",
    "\n",
    "Once a line, or series of lines, of code is indented, it is referred to as a *block*. Like the blocks you have already seen without indentation. \n",
    "\n",
    "Learn to love indented code blocks: they are ubiquitous and powerful, and make the code more readable and easier to follow. Easily readable code is one of Python's main strengths and if you're ever handed a large program someone else has written you will truly begin to appreciate why this matters.\n",
    "\n",
    "Time for an anecdote: I once managed to make 12TB of data overnight by accidentally indenting a single line of code one step further than it should have been. This caused the University of Sussex's high performance computing (HPC) cluster to fill up overnight and induced mild panic in the department as everyone tried to clear unnecessary data out before important data was lost. So take this as a cautionary tale: **Check your indents**."
   ]
  },
  {
   "cell_type": "markdown",
   "id": "a151142b-06ae-497b-875b-4cd205c10348",
   "metadata": {},
   "source": [
    "## The if statement and branching logic\n",
    "\n",
    "The `if` statement is a conditional construct. If a stated condition is met (is True), the code then executes a command or series of commands in the indented block following the colon. `if` statements are very useful and are used all the time in real codes.\n",
    "\n",
    "There are three types of if statements that constitute \"branches\" of a logical expression, `if`, `elif`, and `else`. The `elif` statement is short for `else if`  and allows for another conditional statement to be added to an existing if statement. If the `if` condition is not met, then the elif condition is tested, if this `elif` condition is met then the `elif' block (statements indented below the `elif` condition) is executed. If the condition of the `elif` is not true then that code block is also skipped.  The `else` statement doesn't use an explicit condition (it has an implied condition simply meaning \"If none of the above was True\"). Below is a flowchart demonstrating this process.\n",
    "\n",
    "<center><img width=400 src=\"../Figures/if_elif_else_flowchart.png\"></center>\n",
    "\n",
    "Note that you can have as many `elif` statements in an `if` construct as you like, but only one `else` (this should make sense if you think about it). Neither statement is required though and each use case will define how the conditions should be approached. \n",
    "\n",
    "Also note that unlike in some programming languages, in Python you do not need to spell out where the `if` condition stops, i.e. there is no `endif` statement. This is because the condition only applies to the indented lines of code. This only matters if you're familiar with other languages where an end statement is required."
   ]
  },
  {
   "cell_type": "markdown",
   "id": "b6c071d1-529f-4684-840f-12e6d5006d8f",
   "metadata": {},
   "source": [
    "Here is a simple example of how to use an if statement in conjunction with an else and the `in` keyword we saw previously (notice the structure of colons and indentation). This code defines a list and then prints different strings based on whether 1 was in the string. "
   ]
  },
  {
   "cell_type": "code",
   "execution_count": 1,
   "id": "6ae85e60-7153-42db-91f3-96764446e9a6",
   "metadata": {},
   "outputs": [
    {
     "name": "stdout",
     "output_type": "stream",
     "text": [
      "There is a one in list1\n"
     ]
    }
   ],
   "source": [
    "# Define a list of integers\n",
    "list1 = [0, 1, 2, 4, 5]\n",
    "\n",
    "# Test if the list contains 1 \n",
    "if 1 in list1:\n",
    "    print('There is a one in list1')\n",
    "else:\n",
    "    print('There is not a one in list1')"
   ]
  },
  {
   "cell_type": "markdown",
   "id": "96a65ff1-f38a-4ef7-85fa-1a0375046a3f",
   "metadata": {},
   "source": [
    "Now edit the list definition to get the other print statement in the `else` block to be printed.\n",
    "\n",
    "Here is another example, comparing the value of a variable (like we saw in [notebook 3](3_errors_strings_bools.ipynb) ) this time using an `elif` statement. Note that this example introduces a way to do nothing in a code block, `pass`."
   ]
  },
  {
   "cell_type": "code",
   "execution_count": 3,
   "id": "105eddcf-69d5-4769-b7b4-df951f2c8f67",
   "metadata": {},
   "outputs": [
    {
     "name": "stdout",
     "output_type": "stream",
     "text": [
      "True\n",
      "Finished\n"
     ]
    }
   ],
   "source": [
    "# Define a variable containing an integer \n",
    "a = 50\n",
    "\n",
    "# Test the value of the variable a\n",
    "if a == 50:\n",
    "    print( 'Variable a is 50' )\n",
    "elif a > 100:\n",
    "    print( 'Variable a is more than 100' )\n",
    "# Note that the next two lines do nothing, and can be omitted\n",
    "else:\n",
    "    pass  # do nothing\n",
    "\n",
    "print ('Finished')"
   ]
  },
  {
   "cell_type": "markdown",
   "id": "0482f1be-db57-46d0-a8b9-00ac04ca35ff",
   "metadata": {},
   "source": [
    "Now modify the value of `a` so that each \"branch\" of the logic is executed, i.e. the `elif` statement is satisfied and then the `else` statement. \n",
    "\n",
    "Note that pass is rarely advised(!), it doesn't really have a real-world use but if you were to leave this blank then an indentation error would occur. \n",
    "\n",
    "Now in the cell below, I'm going to demonstrate the flow of the logic explicitly. I'm going to use some functions which we will cover shortly but you can ignore these completely. Focus on the logic and the output."
   ]
  },
  {
   "cell_type": "code",
   "execution_count": 4,
   "id": "86dea581-929b-4486-9334-a0aa82459470",
   "metadata": {},
   "outputs": [
    {
     "name": "stdout",
     "output_type": "stream",
     "text": [
      "Checking the if condition, it is False\n",
      "Checking the first elif condition, it is False\n",
      "Checking the second elif condition, it is False\n",
      "None of the above were True\n",
      "Finished\n"
     ]
    }
   ],
   "source": [
    "# Define some functions to replace the boolean expressions in the logic with a print\n",
    "def if_logic(condition):\n",
    "    print(\"Checking the if condition, it is\", condition)\n",
    "    return condition\n",
    "    \n",
    "def elif_logic1(condition):\n",
    "    print(\"Checking the first elif condition, it is\", condition)\n",
    "    return condition\n",
    "    \n",
    "def elif_logic2(condition):\n",
    "    print(\"Checking the second elif condition, it is\", condition)\n",
    "    return condition\n",
    "\n",
    "# Define a variable containing an integer \n",
    "a = 1\n",
    "\n",
    "# Test the value of the variable a\n",
    "if if_logic(a == 50):\n",
    "    print( 'Variable a is 50' )\n",
    "elif elif_logic1(a > 100):\n",
    "    print( 'Variable a is more than 100' )\n",
    "elif elif_logic2(a > 20):\n",
    "    print( 'Variable a is more than 20' )\n",
    "# Note that the next two lines do nothing, and can be omitted\n",
    "else:\n",
    "    print(\"None of the above were True so the else block was run.\")\n",
    "\n",
    "print ('Finished')"
   ]
  },
  {
   "cell_type": "markdown",
   "id": "3d0aef53-05f0-4faa-812d-b72649adc4c9",
   "metadata": {},
   "source": [
    "We'll cover them shortly but for now, note that functions can be used in `if` or `elif` statements as long as they return (produced/result in) a boolean.\n",
    "\n",
    "Note that `elif` and `else` statements are not mandatory, sometimes you won't want something to happen if the logic isn't satisfied (like where we used the `pass` above). For the rest of the notebook I will use pointless `else`s with `pass`s simply to drive home the structure but these are ultimately pointless.\n"
   ]
  },
  {
   "cell_type": "code",
   "execution_count": 5,
   "id": "17f3d7ee-804f-497e-bda2-4d7964b50253",
   "metadata": {},
   "outputs": [
    {
     "name": "stdout",
     "output_type": "stream",
     "text": [
      "Variable a is even\n"
     ]
    }
   ],
   "source": [
    "# Define a variable containing an integer \n",
    "a = 10\n",
    "\n",
    "# Test if a is even\n",
    "if a % 2 == 0:\n",
    "    print('Variable a is even')"
   ]
  },
  {
   "cell_type": "markdown",
   "id": "db4540bb-0fd2-4bc7-a146-1d3028d4e4b5",
   "metadata": {},
   "source": [
    "### Combining conditions\n",
    "\n",
    "As we have already seen, you can combine different conditions together using `and`. You can also do this in `if` and `elif` statements. You can combine conditions together using both `and`, `or` (one of the conditions either side must be `True`), or any other Boolean combination, as in the following."
   ]
  },
  {
   "cell_type": "code",
   "execution_count": 13,
   "id": "4c742e45-0cc4-4b65-8429-f1fd00ff3eaa",
   "metadata": {},
   "outputs": [
    {
     "name": "stdout",
     "output_type": "stream",
     "text": [
      "Edwin 'Buzz' Aldrin was the second man on the moon.\n"
     ]
    }
   ],
   "source": [
    "# Define a tuple of names \n",
    "b = (\"Neil\", \"Edwin\", \"Michael\")\n",
    "\n",
    "# Test if certain names are within the tuple\n",
    "if \"Edwin\" in b or \"Buzz\" in b:\n",
    "    print(\"Edwin 'Buzz' Aldrin was the second man on the moon.\")\n",
    "# Note that the next two lines do nothing, and can be omitted\n",
    "else:\n",
    "    pass"
   ]
  },
  {
   "cell_type": "markdown",
   "id": "814498a2-2d8f-46d6-b457-326d97645b1f",
   "metadata": {},
   "source": [
    "The Boolean `not` operator reverses the output of a boolean, i.e. True becomes False and vice-versa. It has some confusing syntax, however. For example, the `not` can be put after the if to act on the whole expression."
   ]
  },
  {
   "cell_type": "code",
   "execution_count": 16,
   "id": "77f28975-0131-4f21-a3a9-3c94cd5d1060",
   "metadata": {},
   "outputs": [
    {
     "name": "stdout",
     "output_type": "stream",
     "text": [
      "One of his names is missing from the list!\n"
     ]
    }
   ],
   "source": [
    "# Define a tuple of names without Edwin\n",
    "b = (\"Neil\", \"Michael\")\n",
    "\n",
    "# Test if certain names are within the tuple\n",
    "if not (\"Edwin\" in b and \"Buzz\" in b):\n",
    "    print(\"One of his names is missing from the list!\")\n",
    "# Note that the next two lines do nothing, and can be omitted\n",
    "else:\n",
    "    None"
   ]
  },
  {
   "cell_type": "markdown",
   "id": "facc9cd9-d57c-42d9-a3a9-36e6dc3ac962",
   "metadata": {},
   "source": [
    "Notice we needed brackets here, this ensure the `not` acts on the whole statement and not just the first condition of the two.\n",
    "\n",
    "In addition to the above syntax, Python allows for more grammatically correct use of `not` in certain circumstances such as using `in` or the `is` keywords. An example of this syntax is shown below."
   ]
  },
  {
   "cell_type": "code",
   "execution_count": 18,
   "id": "4beec96c-0e6e-4a06-98f5-05702dd1422b",
   "metadata": {},
   "outputs": [
    {
     "name": "stdout",
     "output_type": "stream",
     "text": [
      "One of his names is missing from the list!\n"
     ]
    }
   ],
   "source": [
    "# Define a tuple of names without Edwin\n",
    "b = (\"Neil\", \"Michael\")\n",
    "\n",
    "# Test if certain names are within the tuple\n",
    "if \"Edwin\" not in b and \"Buzz\" not in b:\n",
    "    print(\"One of his names is missing from the list!\")\n",
    "# Note that the next two lines do nothing, and can be omitted\n",
    "else:\n",
    "    None"
   ]
  },
  {
   "cell_type": "markdown",
   "id": "2dde67f8-f25d-4076-a9b8-eebccccb264c",
   "metadata": {},
   "source": [
    "As you have already seen we can also use the `and` "
   ]
  },
  {
   "cell_type": "markdown",
   "id": "d04101eb-8a0e-4e77-aa39-56e9a4b5feee",
   "metadata": {},
   "source": [
    "### Nesting\n",
    "\n",
    "Another way we can combine logical statements is by nesting them inside the blocks of another. You can combine (or \"nest\") `if` statements by doing the following."
   ]
  },
  {
   "cell_type": "code",
   "execution_count": 19,
   "id": "ef612ad4-6316-453d-b640-f1a9f2f31098",
   "metadata": {},
   "outputs": [
    {
     "name": "stdout",
     "output_type": "stream",
     "text": [
      "2, 4, 6 and 8 are in q\n"
     ]
    }
   ],
   "source": [
    "# Define a list of numbers\n",
    "q = [2, 4, 6, 8]\n",
    "\n",
    "# Test the contents of the list with nested if statements\n",
    "if 2 in q:\n",
    "    if 4 in q:\n",
    "        if 6 in q:\n",
    "            if 8 in q:\n",
    "                print ('2, 4, 6 and 8 are in q')\n",
    "            else:\n",
    "                print ('2, 4 and 6 are in q')\n",
    "        else:\n",
    "            print ('2 and 4 are in q')\n",
    "    else:\n",
    "        print ('2 is in q')\n",
    "# Note that the next two lines do nothing, and can be omitted\n",
    "else:\n",
    "    pass"
   ]
  },
  {
   "cell_type": "markdown",
   "id": "ef7b326a-b8ea-46f8-a0a6-a52afa2a38d2",
   "metadata": {},
   "source": [
    "The indentations also help you see what is happening when using multiple `if` statements, (i.e. they make the code more **readable**), since each corresponding pair of `if` and `else` statements line up."
   ]
  },
  {
   "cell_type": "markdown",
   "id": "eff0b71a-7aba-4727-b3b8-e63cdacb453f",
   "metadata": {},
   "source": [
    "## Exercises\n",
    "\n",
    "Try the following examples in the cells below. \n",
    "\n",
    "1. Create a list of names, then create a string variable containing your name.\n",
    "    - Use an `if` statement to check if your name is **not** in the list.\n",
    "    - If your name is not is not in the list, add the name to the list and print the list.\n",
    "    - If it is within the list, print the list. (Remember the `append` command?)\n",
    "\n",
    "2. Set a variable and assign an integer (a score) of between 0 and 100 to it.\n",
    "    - Using `if` statements `print (\"You have a first\")` if the score is 70 or above, `\"You have a 2:1\"` if the score is between 60 and 69, \"`You have a 2:2`\" if the score is between 50 and 59, `\"You have a third\"` if the score is between 40 and 49 and  `\"You have a not passed\"` if the score is below 40.\n",
    "    - Adapt your code so that if the score is above 100 or below 0, it replies that `\"The score is not within the correct boundaries\"`. (This is an example of \"defensive programming\", this broadly means putting checks into your code to ensure values are as expected. A very important concept in Scientific programming where we need the code to not just work but also obey physics correctly.)\n",
    "    - Adapt the code so that it asks for, and accepts, a value from the user. This value can be an integer or float. (Remember `input`?)\n",
    "\n",
    "3. A leap year is defined as a year which is:\n",
    "   - Divisible by 4. \\textbf{and}\n",
    "   - **Not** divisible by 100. **Unless**...\n",
    "   - It is divisible 400.\n",
    "   \n",
    "   Using a single Jupyter cell, write a section of code that allows the user to input a year, then outputs `True` if the year is a leap year or `False` if it is not. "
   ]
  },
  {
   "cell_type": "markdown",
   "id": "ba2ca203-51a2-4eb9-b5ae-111486ab4d03",
   "metadata": {},
   "source": [
    "<details>\n",
    "  <summary>Hint</summary> \n",
    "    Make use of the modulo operator (`%`). You want to take a number as input and then run it through branching logic that implements the above rules.\n",
    "</details>"
   ]
  },
  {
   "cell_type": "markdown",
   "id": "3091237b-a0ff-4c96-aa40-1c81254578c2",
   "metadata": {},
   "source": [
    "4. Write some Python commands in a Jupyter cell to check if an input number is positive, negative, or zero."
   ]
  },
  {
   "cell_type": "code",
   "execution_count": null,
   "id": "24cc74ac-b81c-4871-b4ae-2528f2f405c4",
   "metadata": {},
   "outputs": [],
   "source": []
  },
  {
   "cell_type": "code",
   "execution_count": null,
   "id": "2fab7d57-1456-4bd6-a696-10e75fac7f5d",
   "metadata": {},
   "outputs": [],
   "source": []
  },
  {
   "cell_type": "code",
   "execution_count": null,
   "id": "76ba28bc-c416-4efe-8b01-2442fe1471c5",
   "metadata": {},
   "outputs": [],
   "source": []
  },
  {
   "cell_type": "code",
   "execution_count": null,
   "id": "0aaa1c88-17ef-471c-b534-fe54a1943f6c",
   "metadata": {},
   "outputs": [],
   "source": []
  },
  {
   "cell_type": "markdown",
   "id": "aaa1152d-1bcb-4db6-801f-be5063da8d9b",
   "metadata": {},
   "source": [
    "## Loops\n",
    "\n",
    "We are slowly building up to having all the tools we need now. Now we will cover another fundamental building block of computer programmes: loops. When we want to perform a repetitive task in computing we call upon loops. There are two basic types of loop: `while` loops and a `for` loops. Each individual time the block of indented code is run is called an \"iteration\". On each iteration, the block of code inside the loop will be executed until the loop ends.\n",
    "\n",
    "### `while` loops\n",
    "\n",
    "A while loop executes a piece of code while a condition is considered true. Below is a flowchart showing the simple form of a while loop.\n",
    "\n",
    "<center><img width=400 src=\"../Figures/while_loop.png\"></center>\n",
    "\n",
    "Until the `while` condition is declared false, the code continues to execute the code block inside the `while` loop. In some cases, a counter is used to make sure the condition will be declared false at some point (if it is never declared false, the code enters an infinite loop, see below). \n",
    "\n",
    "In some cases, you may see an `else` statement after the `while` loop to invoke another code block after the `while` loop condition is `False`. In reality, this functionality is rarely used but all loops can be followed by an else. "
   ]
  },
  {
   "cell_type": "markdown",
   "id": "b0560ddb-41e9-4a61-b9af-73ef3ee5860d",
   "metadata": {},
   "source": [
    "A while loop is structured as follows:\n",
    "```\n",
    "while condition:\n",
    "    # code block 1\n",
    "else:\n",
    "    # code block 2\n",
    "```\n",
    "This essentially says \"while the condition is true: execute the while block, once it is not true: execute the else block\". \n",
    "\n",
    "Notice the colon and indentation in the structure, just like the `if` statements we were just looking at. The condition here is exactly the same as the conditions we have been using above, it can be a single expression that results in a boolean or any combination of boolean expressions combined in any way you need.\n",
    "\n",
    "Try to work out what these while loops do and add appropriate comments to describe their function."
   ]
  },
  {
   "cell_type": "code",
   "execution_count": null,
   "id": "6a17d511-8c32-486d-b187-dc6809234ccb",
   "metadata": {},
   "outputs": [],
   "source": [
    "x = 0\n",
    "while x <= 12:\n",
    "    print(x)\n",
    "    x = x + 1\n",
    "\n",
    "print('Done')"
   ]
  },
  {
   "cell_type": "markdown",
   "id": "ac7bc411-7f9c-4cbe-9407-486069607e82",
   "metadata": {},
   "source": [
    "We can put any valid code inside a loop. The example below contains an `if` statement nested in a while loop."
   ]
  },
  {
   "cell_type": "code",
   "execution_count": null,
   "id": "39b7adc6-22ee-43d7-b024-ada54e2de52b",
   "metadata": {},
   "outputs": [],
   "source": [
    "i = 1\n",
    "while i < 10:\n",
    "    if i % 2 == 0:\n",
    "        print (i, ' is an even number')\n",
    "    else:\n",
    "        print (i, 'is an odd number')\n",
    "    i = i + 1"
   ]
  },
  {
   "cell_type": "markdown",
   "id": "1024fa40-58ea-425b-b485-b3ed8f6df9e0",
   "metadata": {},
   "source": [
    "### A quick side note on assignment operators\n",
    "\n",
    "In the example above `i = i +1` is used, this takes the variable `i` and adds one to it. Python (and many other coding languages) provide an alternative syntax where a variable is modified in place which is a bit neater:"
   ]
  },
  {
   "cell_type": "code",
   "execution_count": 20,
   "id": "350f9e3d-b70b-41af-a82a-e6eeb80072bf",
   "metadata": {},
   "outputs": [
    {
     "data": {
      "text/plain": [
       "2"
      ]
     },
     "execution_count": 20,
     "metadata": {},
     "output_type": "execute_result"
    }
   ],
   "source": [
    "# Intialise a variable at 1\n",
    "i = 1\n",
    "\n",
    "# Increment it in place\n",
    "i += 1\n",
    "i"
   ]
  },
  {
   "cell_type": "markdown",
   "id": "ef998559-a6b9-4b8f-9d40-c564eaf4a38b",
   "metadata": {},
   "source": [
    "The use of `i += n`, takes the variable `i` and adds a number `n` to it and reassigns it to variable `i`. The examples below show how to similarly take a variable, and add, subtract, multiply or divide, in place without writing out the full expression used above. These assignment operators are particularly useful for counters."
   ]
  },
  {
   "cell_type": "code",
   "execution_count": 21,
   "id": "56065b25-df09-48a1-abda-af4ad25d2bb5",
   "metadata": {},
   "outputs": [
    {
     "name": "stdout",
     "output_type": "stream",
     "text": [
      "1\n",
      "5\n",
      "2.5\n"
     ]
    }
   ],
   "source": [
    "# Decrement in place\n",
    "i -= 1\n",
    "print(i)\n",
    "\n",
    "# Multiply in place\n",
    "i *= 5\n",
    "print(i)\n",
    "\n",
    "# Divide in place\n",
    "i /= 2.0\n",
    "print(i)"
   ]
  },
  {
   "cell_type": "markdown",
   "id": "6dabdb39-d769-4602-9640-44bbf9700f1f",
   "metadata": {},
   "source": [
    "### Infinite loops happen... and are very bad\n",
    "\n",
    "Using loops incorrectly in your code can lead to \"infinite loops\". These are loops that will never ever be complete because their condition/s are always true.\n",
    "\n",
    "If you suspect your code has gone into an infinite loop, then you need to stop it immediately. Otherwise, it may crash your computer (the first year this module was taught, the entire ITS network was disrupted by an infinite loop during a lab session). In Jupyter, you can go to the ``kernel'' tab and click ``interrupt''. Commit this to memory: infinite loops happen to everyone from time to time.\n",
    "\n",
    "If you find your screen becomes slow or unresponsive during the infinite loop - you can also double tap \"i\" on the keyboard when a cell is not selected - this should also interrupt the kernel.\n",
    "\n",
    "I won't make a cell with an infinite loop since it'll cause all the problems they cause but here are some examples.\n",
    "\n",
    "The simplest.\n",
    "```\n",
    "while True:\n",
    "    pass\n",
    "```\n",
    "In reality, you will see this sort of code. It can be used if there are conditions that will end the loop in the block of code executed in the while loop.\n",
    "\n",
    "A more realistic example would be when doing variable comparisons which accidentally lead to an always `True` condition.\n",
    "```\n",
    "while x < 10 and x > 10:\n",
    "    pass\n",
    "```\n",
    "no matter what the above will always be `True`!"
   ]
  },
  {
   "cell_type": "markdown",
   "id": "fba92e01-b64b-440a-abf4-1d5ef6f27bea",
   "metadata": {},
   "source": [
    "### Exercises\n",
    "\n",
    "1. In a single cell, write code to do the following:\n",
    "    - Ask a user to enter a start number, end number, and interval (i.e. step size).\n",
    "    - Using a loop, print out a series starting and ending at the defined values in steps of the desired interval.\n",
    "    - Bonus points if you can make it so that each print is not on a new line.\n",
    "2. Repeat the user input step from the previous exercise and:\n",
    "    - Create 2 empty lists to hold the results of the next step (use descriptive names).\n",
    "    - Using a loop store all numbers divisible by 4 times the interval in one list and all numbers where this isn't true in the other.\n",
    "    - Print the resulting lists."
   ]
  },
  {
   "cell_type": "markdown",
   "id": "0641439e-7c79-4970-9d69-01e7da869a3e",
   "metadata": {},
   "source": [
    "### `for` Loops\n",
    "\n",
    "`for` loops are similar to `while` loops but instead of waiting for a condition to be `False` they instead work through elements in a sequence, executing a block of code for each element. You will be using them a lot in this module. The workflow of a `for` loop is shown in the flow chart below.\n",
    "\n",
    "<center><img width=400 src=\"../Figures/for_loop.png\"></center>\n",
    "\n",
    "One way to think of a for loop is that it is just a while loop with a counter that extracts an element at the counter position in a sequence. The loop performs a task until the counter reaches a certain number that is equal to the total number of elements in a sequence and then ends. In reality, this is what a `for` loop is.\n",
    "\n",
    "Just like `if` statements and `while` loops, `for` loops are written in the same way with a colon and an indented block telling Python what code should be executed during the iteration.\n",
    "\n",
    "Similar to `while` loops `else` statements can be used to perform an operation after the loop is complete. `for` loops can also be nested within each other to perform operations. An example layout of a for loop can be found below.\n",
    "\n",
    "```\n",
    "for item in sequence:\n",
    "    # code block 1\n",
    "else:\n",
    "    # code block 2\n",
    "```\n",
    "\n",
    "The sequence can be a range of numbers, a `list`, `tuple`, or even a string. The item is commonly referred to as `i` as it is the \"iteration variable\" that starts at the beginning of the sequence and stops at the end, however, we can of course name this variable anything within reason. (`i` being so commonly used as a counter, is one reason why Python uses `j` to denote complex numbers.\n",
    "\n",
    "Below are some examples of `for` loops in action."
   ]
  },
  {
   "cell_type": "markdown",
   "id": "0203d81e-fc8c-4908-9a76-47732f879e3b",
   "metadata": {
    "jp-MarkdownHeadingCollapsed": true
   },
   "source": [
    "This example prints out the result of a simple maths operation on a list of numbers."
   ]
  },
  {
   "cell_type": "code",
   "execution_count": 23,
   "id": "067cdc58-8c69-4daf-9ec8-b13acad89ccd",
   "metadata": {
    "jp-MarkdownHeadingCollapsed": true
   },
   "outputs": [
    {
     "name": "stdout",
     "output_type": "stream",
     "text": [
      "1\n",
      "4\n",
      "9\n",
      "16\n",
      "25\n",
      "36\n"
     ]
    }
   ],
   "source": [
    "# Define a list of numbers\n",
    "number_list = [1, 2, 3, 4, 5, 6]\n",
    "\n",
    "# Loop over the elements in the list squaring them\n",
    "for i in number_list:\n",
    "    print (i*i)"
   ]
  },
  {
   "cell_type": "markdown",
   "id": "66db1d7a-c3ad-44bf-bfa6-7e18d24486ce",
   "metadata": {
    "jp-MarkdownHeadingCollapsed": true
   },
   "source": [
    "This example prints each letter of a word on a new line. Here the sequence is a string, i.e. `word`."
   ]
  },
  {
   "cell_type": "code",
   "execution_count": 25,
   "id": "e4d60be6-9f29-4d98-8f0b-00b0d5f13f0e",
   "metadata": {},
   "outputs": [
    {
     "name": "stdout",
     "output_type": "stream",
     "text": [
      "w\n",
      "o\n",
      "r\n",
      "d\n"
     ]
    }
   ],
   "source": [
    "# Loop over the characters in a string printing each\n",
    "for letter in 'word':\n",
    "    print(letter)"
   ]
  },
  {
   "cell_type": "markdown",
   "id": "13cc5986-1f4c-4654-830f-43157739dbc2",
   "metadata": {},
   "source": [
    "This example loops through a list of strings, printing the string and then its length. Here the sequence is a list, i.e. `list1`."
   ]
  },
  {
   "cell_type": "code",
   "execution_count": 26,
   "id": "aa450c37-9e4f-4493-b927-df11f8438662",
   "metadata": {},
   "outputs": [
    {
     "name": "stdout",
     "output_type": "stream",
     "text": [
      "Monty has 5 letters\n",
      "Python has 6 letters\n",
      "Spam has 4 letters\n",
      "Eggs has 4 letters\n"
     ]
    }
   ],
   "source": [
    " # Define a list of strings\n",
    "list1 = ['Monty', 'Python', 'Spam', 'Eggs']\n",
    "\n",
    "# Loop over the list printing the word and it's length\n",
    "for word in list1:\n",
    "    print (word, 'has', len(word), 'letters')"
   ]
  },
  {
   "cell_type": "markdown",
   "id": "e27449cb-2712-4f77-bc0f-b18073cad3a5",
   "metadata": {},
   "source": [
    "### Range function\n",
    "\n",
    "We obviously don't want to be writing out large sequences of numbers all the time. This would get unwieldy quickly! This is where the `range` function comes in, allowing us to create a range of numbers automatically."
   ]
  },
  {
   "cell_type": "code",
   "execution_count": 28,
   "id": "cc23b0df-86c4-44b3-9eab-d3baf5fa3286",
   "metadata": {},
   "outputs": [
    {
     "name": "stdout",
     "output_type": "stream",
     "text": [
      "0 1 2 3 4 5 6 7 8 9\n"
     ]
    }
   ],
   "source": [
    "# Define a sequence using the range command containing \n",
    "# integers from 0 to 9 (inclusive)\n",
    "list1 = range(10)\n",
    "print(*list1)"
   ]
  },
  {
   "cell_type": "markdown",
   "id": "2dc73102-b4a8-4301-a92b-4a6b1cdad402",
   "metadata": {},
   "source": [
    "This is the `range` command in its simplest form, `range(n)`. In this form, it creates a sequence starting at zero with increments of 1 going all the way up to `n - 1` (remember Python is exclusive in the upper index? Same story here too). \n",
    "\n",
    "Note the `*` in the print statement, this operator unpacks all the elements of a list (or tuple).\n",
    "\n",
    "We can also provide the `range` function with `start` and `end` arguments if we don't want to start from 0. To do this we invoke the `range` function with 2 arguments: `range(start, end)`. This will create a sequence starting at `start` and ending at `end - 1`."
   ]
  },
  {
   "cell_type": "code",
   "execution_count": 29,
   "id": "6e2fc290-fa24-4660-bacc-2b042eb0ec04",
   "metadata": {},
   "outputs": [
    {
     "name": "stdout",
     "output_type": "stream",
     "text": [
      "1 2 3 4 5 6 7 8 9 10\n"
     ]
    }
   ],
   "source": [
    "# Define a new sequence using range with a start and end point\n",
    "list2 = range(1, 11)\n",
    "print(*list2)"
   ]
  },
  {
   "cell_type": "markdown",
   "id": "2c52f759-ef88-4e16-8425-e56f2192ccd7",
   "metadata": {},
   "source": [
    "Finally, we can use the `range` function with all its possible arguments. The 3rd and final argument lets us define a step size for the iteration. We can now invoke `range(start, end, step)` to create a sequence starting at `start` and ending at `end - step` with an interval of `step` between elements in the sequence.\n",
    "\n",
    "Note that all of the inputs need to be integers as the range command only works with integers and not floats. We see a float compatible version later on in the course."
   ]
  },
  {
   "cell_type": "code",
   "execution_count": 30,
   "id": "dc12f2cc-4376-4e15-8bb8-3e66f5378639",
   "metadata": {},
   "outputs": [
    {
     "name": "stdout",
     "output_type": "stream",
     "text": [
      "2 4 6 8 10 12 14 16 18 20 22 24 26 28\n"
     ]
    }
   ],
   "source": [
    "# Define a list using range with a start, end and step size\n",
    "list3 = range(2, 30, 2)\n",
    "print(*list3)"
   ]
  },
  {
   "cell_type": "markdown",
   "id": "00342304-4b48-4b8d-8445-e3d0c84e68a6",
   "metadata": {
    "jp-MarkdownHeadingCollapsed": true
   },
   "source": [
    "To summarise, here are `range`'s various uses in a nice table.\n",
    "\n",
    "| Command             | Description                                                       |\n",
    "|---------------------|-------------------------------------------------------------------|\n",
    "| **Note: range command only works with integers** |\n",
    "| `range(j)`          | Creates a list starting at 0 and ending at *j-1* with increments of 1 |\n",
    "| `range(i,j)`        | Creates a list starting at *i* and ending at *j-1* with increments of 1 |\n",
    "| `range(i,j,k)`      | Creates a list starting at *i* and ending at *j-1* with increments of *k* |\n",
    "\n",
    "\n",
    "Of course, in reality, we want to do something with the sequences we are creating. Below is an example using the `range` function in a `for` loop. "
   ]
  },
  {
   "cell_type": "code",
   "execution_count": 32,
   "id": "aa5e60d6-6814-4601-b21f-a17ae00fa0bb",
   "metadata": {},
   "outputs": [
    {
     "name": "stdout",
     "output_type": "stream",
     "text": [
      "2 times table\n",
      "2\n",
      "4\n",
      "6\n",
      "8\n",
      "10\n",
      "12\n",
      "14\n",
      "16\n",
      "18\n",
      "20\n",
      "3 times table\n",
      "3\n",
      "6\n",
      "9\n",
      "12\n",
      "15\n",
      "18\n",
      "21\n",
      "24\n",
      "27\n",
      "30\n",
      "4 times table\n",
      "4\n",
      "8\n",
      "12\n",
      "16\n",
      "20\n",
      "24\n",
      "28\n",
      "32\n",
      "36\n",
      "40\n",
      "5 times table\n",
      "5\n",
      "10\n",
      "15\n",
      "20\n",
      "25\n",
      "30\n",
      "35\n",
      "40\n",
      "45\n",
      "50\n"
     ]
    }
   ],
   "source": [
    "# Loop through a range \n",
    "for i in range(2,6):\n",
    "\n",
    "    print (f'{i} times table')\n",
    "    \n",
    "    # Within the outer loop, loop over numbers between 1-10 \n",
    "    for j in range(1,11):\n",
    "    \n",
    "        # Compute product of outer loop and inner loop integers\n",
    "        print(i * j)"
   ]
  },
  {
   "cell_type": "markdown",
   "id": "25468c29-ab6b-4a98-88f4-32c3be6c71ac",
   "metadata": {
    "jp-MarkdownHeadingCollapsed": true
   },
   "source": [
    "Note that here we have nested a for loop inside the `for` loop. Again, I reiterate that you are free to put any valid code inside a `for` loop, just like `while` loops and `if` statements. However, **beware** nested loops, this way lies slow code! We'll see plenty of ways around them later on and sometimes you can simply think around the problem and find a way that avoids them. Of course, sometimes they are unavoidable."
   ]
  },
  {
   "cell_type": "markdown",
   "id": "6b5d2b19-f515-4b59-85fe-a65e63d12aa2",
   "metadata": {},
   "source": [
    "## Using the separator command\n",
    "\n",
    "Now for a quick aside about a nice feature of the print function: the separator. If we want to print a large list of numbers we can control what separates each individual element by passing a separator to the `sep` argument."
   ]
  },
  {
   "cell_type": "code",
   "execution_count": 33,
   "id": "1702d4b6-b3f1-4b17-8610-b3dac68a1457",
   "metadata": {},
   "outputs": [
    {
     "name": "stdout",
     "output_type": "stream",
     "text": [
      "1 , 2 , 3 , 4 , 5 , 6 , 7 , 8 , 9 , 10\n"
     ]
    }
   ],
   "source": [
    "# Define a list from a range \n",
    "list4 = range(1, 11)\n",
    "\n",
    "# Print the list separated by whitespaces and commas\n",
    "print(*list4, sep=' , ')"
   ]
  },
  {
   "cell_type": "markdown",
   "id": "ec26b18d-5fe2-497e-9eef-2ead95ccec87",
   "metadata": {
    "jp-MarkdownHeadingCollapsed": true
   },
   "source": [
    "The separator can indeed be anything, including ridiculous things."
   ]
  },
  {
   "cell_type": "code",
   "execution_count": 34,
   "id": "ccf0d862-0fba-4469-a9e3-e50b820f4b12",
   "metadata": {},
   "outputs": [
    {
     "name": "stdout",
     "output_type": "stream",
     "text": [
      "1  [banana] 2  [banana] 3  [banana] 4  [banana] 5  [banana] 6  [banana] 7  [banana] 8  [banana] 9  [banana] 10\n"
     ]
    }
   ],
   "source": [
    "print(*list4, sep='  [banana] ')"
   ]
  },
  {
   "cell_type": "markdown",
   "id": "934eb9cf-c34c-424e-8040-fc7da9d3c15d",
   "metadata": {},
   "source": [
    "## Exercises\n",
    "\n",
    "Try the following examples in the cells below.\n",
    "\n",
    "1.  Use a `for` loop and the `range` command to find the first 10 terms of the following series: $$\\frac{1}{2}+\\frac{1}{4}+\\frac{1}{8}+\\frac{1}{16}+\\ldots$$ starting at 0.\n",
    "2. Using `range`, a `for` loop and `if`, `elif` and `else` conditions, print: `\"1 potato 2 potato 3 potato 4, 5 potato 6 potato 7 potato more.\"`.\n",
    "3. Define a list of names.\n",
    "    - Write a program that asks for the user's name.\n",
    "    - It should then check if the user's name is within the list of names.\n",
    "    - If the name is in the list, it should then print a message telling the user that their name is on the list.\n",
    "    - If not, loop over the letters of the name.\n",
    "    - if any of the latters are in the lisadd the users name to the list and inform them their name has been added to the list.\n",
    "\n",
    "5. Write a program using a for loop that allows the user to input a word then print out the word backwards."
   ]
  },
  {
   "cell_type": "code",
   "execution_count": null,
   "id": "b2816762-1486-4788-a3d8-d24f6246337d",
   "metadata": {},
   "outputs": [],
   "source": []
  },
  {
   "cell_type": "code",
   "execution_count": null,
   "id": "5488faf5-c0fd-47b9-9ea1-a54526d42ed0",
   "metadata": {},
   "outputs": [],
   "source": []
  },
  {
   "cell_type": "code",
   "execution_count": null,
   "id": "2c1c049d-ad14-4607-bc03-a50d6ed52492",
   "metadata": {},
   "outputs": [],
   "source": []
  },
  {
   "cell_type": "code",
   "execution_count": null,
   "id": "b4459f07-b756-44bf-9395-ef8a434769a4",
   "metadata": {},
   "outputs": [],
   "source": []
  }
 ],
 "metadata": {
  "kernelspec": {
   "display_name": "Python 3 (ipykernel)",
   "language": "python",
   "name": "python3"
  },
  "language_info": {
   "codemirror_mode": {
    "name": "ipython",
    "version": 3
   },
   "file_extension": ".py",
   "mimetype": "text/x-python",
   "name": "python",
   "nbconvert_exporter": "python",
   "pygments_lexer": "ipython3",
   "version": "3.10.4"
  }
 },
 "nbformat": 4,
 "nbformat_minor": 5
}

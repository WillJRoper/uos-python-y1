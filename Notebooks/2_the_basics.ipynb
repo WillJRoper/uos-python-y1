{
 "cells": [
  {
   "cell_type": "markdown",
   "id": "b3ea1485-63df-42df-81d6-f608d066e50e",
   "metadata": {},
   "source": [
    "# Print, Data types, and Commenting\n",
    "\n",
    "## Learning Outcomes\n",
    "\n",
    "By the end of this notebook you will know how to:\n",
    "- Use the `print` function.\n",
    "- Use Python as a simple calculator.\n",
    "- Use three different Python data types: integer, float, and complex.\n",
    "- Understand the anatomy of code.\n",
    "- Add comments to your Python codes.\n"
   ]
  },
  {
   "cell_type": "markdown",
   "id": "b94df15a-dbdd-4807-9663-ef479d0841c4",
   "metadata": {},
   "source": [
    "## `Hello World`\n",
    "\n",
    "Learning how to print \"Hello world\" to the console is the standard starting when learning any coding language. Believe it or not, in some coding languages this can be quite complicated (e.g. [Shakespeare](https://esolangs.org/wiki/Shakespeare)). In Python this is trivial as shown below."
   ]
  },
  {
   "cell_type": "code",
   "execution_count": 1,
   "id": "098a9211-af4c-43ef-86d4-fc0da5abe994",
   "metadata": {},
   "outputs": [
    {
     "name": "stdout",
     "output_type": "stream",
     "text": [
      "Hello world\n"
     ]
    }
   ],
   "source": [
    "print(\"Hello world\")"
   ]
  },
  {
   "cell_type": "markdown",
   "id": "c83c9de0-69f0-45bd-89ca-b245cc4387d9",
   "metadata": {},
   "source": [
    "Above we have used Python's `print` function used to output anything placed in between the parenthesis to either the command line or, as we have used here, the output section of the Jupyter notebook cell. You'll see this shortly but this function can print any Python data type or \"object\". In this `\"Hello world\" example we have passed the print function a \"string\". We will cover these in detail shortly.\n",
    "\n",
    "As with any of the cells in these notebooks, feel free to play around with the code inside. It's far easier to understand coding by messing around and \"doing\" than to simply read."
   ]
  },
  {
   "cell_type": "markdown",
   "id": "cf8b27c4-49f2-4ac3-9135-91f7c0630560",
   "metadata": {},
   "source": [
    "## Saving your work\n",
    "\n",
    "Time for a quick side note: When working on your own notebooks, make sure to save your work regularly, either by pressing the save button found directly beneath the `file` tab, or by pressing `ctrl+s`. You can then load that file later to start back where you left off. Over the course of the term you may build up a lot of these files, so give them sensible names (e.g. `Assignment1.ipynb` etc.).\n",
    "\n",
    "You may have noticed that all the worksheets for this module contain underscores. This is to avoid using spaces in file names. This is somewhat of a style convention but it avoids some misbehavior that can happen in Unix-based operating systems (Mac or Linux). This probably won't matter during this module but swapping spaces for underscores in directory or file names is a good rule to live by."
   ]
  },
  {
   "cell_type": "markdown",
   "id": "8f878c57-e83a-4063-8912-ef9a3be7eae0",
   "metadata": {},
   "source": [
    "## The Worksheets\n",
    "\n",
    "We'll be using notebooks throughout the module for both the lab sessions and assessments. You should aim to complete at least 1 notebook per week, except assessment weeks where we will run the labs as a chance to get help with the assessed problem sets and week 1 where you should complete notebooks 1, 2, and preferably 3. You can go at your own pace but try to keep to this schedule. The sooner you get to the later notebooks with more complex subjects the quicker you'll be able to start using Python in other modules (and the more fun you'll be able to have in my opinion).\n",
    "\n",
    "If you find any typos or explanations which could improved, don't hesitate to raise this! These notebooks are a set of living documents I'm happy to adapt if it improves there content and makes learning Python easier and more enjoyable. \n",
    "\n",
    "Throughout these notebooks, you will see dropdowns like the one shown below. Open these by clicking anywhere on the collapsed cell."
   ]
  },
  {
   "cell_type": "markdown",
   "id": "03620040-68d7-45ac-bcdc-2405f810aad5",
   "metadata": {},
   "source": [
    "<details>\n",
    "  <summary>Extra information!</summary> \n",
    "These will contain more advanced information which is useful to know but is arguably beyond the scope of this course. I nonetheless encourage you to read them as you go through. Just don't worry if the information goes over your head at the time. The coding rabbit hole is **deep** and you can build up your understanding over time.\n",
    "</details>"
   ]
  },
  {
   "cell_type": "markdown",
   "id": "9a3d6a55-a2af-4b8a-9b06-2196e4babc99",
   "metadata": {},
   "source": [
    "## Anatomy of code\n",
    "\n",
    "Here we'll quickly cover some important terms and the anatomy of code. Some of it won't be covered in detail for a few notebooks but you always use this as a quick look-up!\n",
    "- A **script** is a single file containing code that does something (not necessarily Python). We'll focus on notebooks in this course but if you write some stand-alone code to run on the command line you would write a `my_py_script.py` file and run this \"script\" on the command line by invoking `python my_py_script.py`. These Python files do not have cells, when you run the script the whole script is run from top to bottom.\n",
    "- A **notebook** is a single file containing a mixture of code and text \"cells\". You are in one currently so this should come as no surprise. Notebooks are extremely useful if you want to rerun individual cells of code without rerunning previously run code in other cells or if you need to present information alongside your code, like when writing a course teaching Python or an assessment for instance...\n",
    "- A **variable** is exactly what you think it is: a name representing a value. More specifically in code, a variable represents a value stored at a particular address in the memory of your computer. This distinction is unimportant in Python but still worth knowing.\n",
    "- An **operator** is a symbol which acts on a variable in some way. Much like in mathematics `+`, `-`, `*` etc are all operators. However, in coding `=` is also an operator, specifically the \"assignment\" operator. There are many operators, so many I'm not convinced I will cover an exhaustive list during this course or that I know all of them in the first place.\n",
    "- A **comment** is a piece of descriptive \"code\" that is not executed (i.e. does nothing). More on this below.\n",
    "- A **line** is self-explanatory, it's a single line of code.\n",
    "- A code **block** is a single collection of lines. As an example see the cell below containing 2 code blocks, don't worry about the specifics of the code itself we'll cover the specifics shortly."
   ]
  },
  {
   "cell_type": "code",
   "execution_count": 40,
   "id": "2b3789fb-7fe3-4d58-9b64-adf575258f02",
   "metadata": {},
   "outputs": [],
   "source": [
    "# Block 1\n",
    "x = 1\n",
    "y = 2\n",
    "z = 3\n",
    "\n",
    "# Block 2\n",
    "add = x + z\n",
    "subtract = x - y\n",
    "list_of_powers = [z ** i for i in (x, y, z)]"
   ]
  },
  {
   "cell_type": "markdown",
   "id": "0129fdde-c517-4e74-ae4e-d2eadd15b925",
   "metadata": {},
   "source": [
    "- A **function** is a piece of reusable code that can be \"called\" with arguments. We will cover these later in the course too but you'll use built-in functions extensively before then such as `print`.\n",
    "- An **argument** is a variable passed to a function inside the parenthesises used to call the function.\n",
    "- A **data type** describes what sort of data is stored in a variable (or indeed just a value used explicitly).\n",
    "- A **package** is a collection of code written by someone else that can imported into your code. These mean you don't need to reinvent the wheel if someone else has already done what you want to do.\n",
    "- An **object** is hard to describe without fully going into Object Orientated Programming. It is essentially a \"thing\" that carries meaning and/or data and functionality. Technically a number, a set of characters (string), or a list are all objects. "
   ]
  },
  {
   "cell_type": "markdown",
   "id": "9d04a0df-1b09-499a-a235-21a7fddc4dea",
   "metadata": {},
   "source": [
    "## Variables and Data types in Python\n",
    "\n",
    "In coding, variables are used to store information and give it a descriptive label (the variable name). Python variables can have many different data types, the most common of which are:\n",
    "- Integer - These are just integer numbers $(\\mathbb{Z})$ such as 1, 53, 8651247 etc.\n",
    "- Floats - These represent the real numbers $(\\mathbb{R})$ to a certain precision. Integers, fractions, and irrational numbers can all be stored as floats. E.g, 2.0, 12.5, 6.3215314, $\\pi$ etc.\n",
    "- Complex - These are complex numbers $(\\mathbb{C})$, of the form: a+b$i$, 3+5$i$, 7-4$i$ etc. You should have used these in your maths course. **Note: In Python the complex number $i$ is represented with $j$, following the engineering convention.** We will barely use these but they are good to know about.\n",
    "- Strings - These are a sequence of characters. You set the beginning and end of the sequence by enclosing the characters in quotation marks, e.g. `Hello', ``F\", `This is also a string'. **Note: The quotation marks can be double or single. Choose a convention and stick with it. My personal convention, due to apostrophes, is to use ``double quotation marks\" but neither is incorrect.**\n",
    "- Boolean - These represent the two values of Boolean logic, True or False.\n",
    "- Lists - These contain multiple elements and can be different data types. They are also mutable, a concept we will cover shortly. \n",
    "- Tuples - Tuples are the same as lists in most respects. However, they are **immutable*, again, more on this later.\n",
    "- Dictionaries - This data type contains a set of key:value pairs, with the value being mapped to a *unique* key. Like lists, they are mutable. These are one of the most powerful tools in Python and will be covered in a later practical session.\n",
    "- Sets - These are like lists in that they store a collection of values but for sets only a single instance of a value can exist in a set, i.e. any value in a set is guaranteed to be unique. Like dictionaries, these can be incredibly powerful but we will not use them explicitly in this module.\n",
    "\n",
    "During this first lab Session, you'll only need to work with integers, floats, and strings. We'll work with the rest later in the term."
   ]
  },
  {
   "cell_type": "markdown",
   "id": "d970b835-98a3-4e26-90f0-e6b1edba2b18",
   "metadata": {},
   "source": [
    "## Simple calculations with Python\n",
    "\n",
    "With integers, floats, and complex numbers we can use Python to perform calculations.\n",
    "\n",
    "Below are some examples of using different operators. It'll come as no surprise that the mathematical operators you are used to do exactly what you expect. Try modifying the examples to see what the output is and get a feel for performing calculations in Python.\n",
    "\n",
    "Note: Normally we would need to use the print function to see the output (like the Hello world above), but as you are using Jupyter and we're only doing one calculation per cell the result will appear in the output without invoking a print function. Anytime you're using a Jupyter notebook the final line of a cell will be output automatically without a print statement. This is also true of iPython on the command line should you use this later on.\n",
    "\n",
    "If you want to add a cell below to play around click the `+` button, beneath the `File` tab. This will add a new cell below the currently selected cell. Equally, please modify the existing cells in any of these notebooks to get a feel for the code. \n",
    "\n",
    "Adding two integers and complex numbers:"
   ]
  },
  {
   "cell_type": "code",
   "execution_count": 2,
   "id": "1940bb90-79bc-4aaa-8b3c-3aae6855ad58",
   "metadata": {},
   "outputs": [
    {
     "data": {
      "text/plain": [
       "17"
      ]
     },
     "execution_count": 2,
     "metadata": {},
     "output_type": "execute_result"
    }
   ],
   "source": [
    "14 + 3"
   ]
  },
  {
   "cell_type": "code",
   "execution_count": 3,
   "id": "1078ff11-c80c-4924-910e-9098c8695ae5",
   "metadata": {},
   "outputs": [
    {
     "data": {
      "text/plain": [
       "(9-7j)"
      ]
     },
     "execution_count": 3,
     "metadata": {},
     "output_type": "execute_result"
    }
   ],
   "source": [
    "5 + 2j + 4 - 9j"
   ]
  },
  {
   "cell_type": "markdown",
   "id": "ffa453b4-5520-465d-8aa8-66faf91fc856",
   "metadata": {},
   "source": [
    "Subtracting two integers:"
   ]
  },
  {
   "cell_type": "code",
   "execution_count": 4,
   "id": "6da9997b-9b8f-48bb-ae01-327be96b0a35",
   "metadata": {},
   "outputs": [
    {
     "data": {
      "text/plain": [
       "24"
      ]
     },
     "execution_count": 4,
     "metadata": {},
     "output_type": "execute_result"
    }
   ],
   "source": [
    "32 - 8"
   ]
  },
  {
   "cell_type": "markdown",
   "id": "0a31d4a2-3d94-4dcb-bafd-1631b9f844e4",
   "metadata": {},
   "source": [
    "Multiplying two integers."
   ]
  },
  {
   "cell_type": "code",
   "execution_count": 5,
   "id": "0b71a7e1-8112-426e-b066-5301db963b00",
   "metadata": {},
   "outputs": [
    {
     "data": {
      "text/plain": [
       "63"
      ]
     },
     "execution_count": 5,
     "metadata": {},
     "output_type": "execute_result"
    }
   ],
   "source": [
    "7 * 9"
   ]
  },
  {
   "cell_type": "markdown",
   "id": "28389f4e-d8f3-4441-84d6-3cb9144cdc0c",
   "metadata": {},
   "source": [
    "Computing exponents, in Python this is done using $x\\ast\\ast y$ syntax:"
   ]
  },
  {
   "cell_type": "code",
   "execution_count": 6,
   "id": "4756cb1c-bad5-42f4-9358-58ff7f45daba",
   "metadata": {},
   "outputs": [
    {
     "data": {
      "text/plain": [
       "8"
      ]
     },
     "execution_count": 6,
     "metadata": {},
     "output_type": "execute_result"
    }
   ],
   "source": [
    "2 ** 3"
   ]
  },
  {
   "cell_type": "code",
   "execution_count": 7,
   "id": "57c2621a-62e7-4f6f-9642-73de9413515b",
   "metadata": {},
   "outputs": [
    {
     "data": {
      "text/plain": [
       "5.0"
      ]
     },
     "execution_count": 7,
     "metadata": {},
     "output_type": "execute_result"
    }
   ],
   "source": [
    "25**0.5"
   ]
  },
  {
   "cell_type": "markdown",
   "id": "bfdb4689-990b-4a51-b01c-37fc25848b32",
   "metadata": {},
   "source": [
    "You can also combine any of these operations. The rules regarding the order of execution of mathematical operators are the same as you're used to; multiplication and division happen before addition and subtraction etc."
   ]
  },
  {
   "cell_type": "code",
   "execution_count": 8,
   "id": "72134590-d18b-4a91-82ca-521c2016849e",
   "metadata": {},
   "outputs": [
    {
     "data": {
      "text/plain": [
       "2526"
      ]
     },
     "execution_count": 8,
     "metadata": {},
     "output_type": "execute_result"
    }
   ],
   "source": [
    "(4 * (723 + 67)) - 634"
   ]
  },
  {
   "cell_type": "markdown",
   "id": "274826b5-f2ff-4fc0-a307-1ed5d6af64f6",
   "metadata": {},
   "source": [
    "All of these calculations also work with floats (decimal numbers). Python 3 uses float division (normal division) by default, therefore when trying out the following calculation with integers we expect the output to be 4.5."
   ]
  },
  {
   "cell_type": "code",
   "execution_count": 9,
   "id": "9c3c29a4-56d4-4d6a-a10f-12a40ff01bd8",
   "metadata": {},
   "outputs": [
    {
     "data": {
      "text/plain": [
       "4.5"
      ]
     },
     "execution_count": 9,
     "metadata": {},
     "output_type": "execute_result"
    }
   ],
   "source": [
    "27 / 6"
   ]
  },
  {
   "cell_type": "markdown",
   "id": "98f2fcac-9309-47a6-a0f9-25a6fc306e47",
   "metadata": {},
   "source": [
    "However, we can explictly use floats:"
   ]
  },
  {
   "cell_type": "code",
   "execution_count": 10,
   "id": "afa6707e-4d8f-4b7e-a1f4-19c511091e23",
   "metadata": {},
   "outputs": [
    {
     "data": {
      "text/plain": [
       "4.5"
      ]
     },
     "execution_count": 10,
     "metadata": {},
     "output_type": "execute_result"
    }
   ],
   "source": [
    "27.0 / 6.0"
   ]
  },
  {
   "cell_type": "markdown",
   "id": "9a3877a6-adfa-4312-93f1-896cf6375919",
   "metadata": {},
   "source": [
    "Or any combination of intergers and floats. Python will always assume float division for the `/` operator:"
   ]
  },
  {
   "cell_type": "code",
   "execution_count": 11,
   "id": "5bb2e2a9-bc97-4f98-89dc-22f53f5d1405",
   "metadata": {},
   "outputs": [
    {
     "data": {
      "text/plain": [
       "4.5"
      ]
     },
     "execution_count": 11,
     "metadata": {},
     "output_type": "execute_result"
    }
   ],
   "source": [
    "27.0 / 6"
   ]
  },
  {
   "cell_type": "code",
   "execution_count": 12,
   "id": "34d64990-fffa-4f77-86e9-5f13144cf45e",
   "metadata": {},
   "outputs": [
    {
     "data": {
      "text/plain": [
       "4.5"
      ]
     },
     "execution_count": 12,
     "metadata": {},
     "output_type": "execute_result"
    }
   ],
   "source": [
    "27 / 6.0"
   ]
  },
  {
   "cell_type": "markdown",
   "id": "19a4958b-bda6-4003-9b4e-2fea1c9ba526",
   "metadata": {},
   "source": [
    "The alternative is integer division, where the result of the calculation is rounded down to an integer. This was the default in Python 2 for reasons I will never understand and caused a lot of confusion for new programmers. This behaviour is nonetheless useful and can be achieved using the `//` operator:"
   ]
  },
  {
   "cell_type": "code",
   "execution_count": 13,
   "id": "f839dccc-8351-4620-b728-e5ad67cfa58f",
   "metadata": {},
   "outputs": [
    {
     "data": {
      "text/plain": [
       "4.0"
      ]
     },
     "execution_count": 13,
     "metadata": {},
     "output_type": "execute_result"
    }
   ],
   "source": [
    "27.0 // 6.0"
   ]
  },
  {
   "cell_type": "markdown",
   "id": "c8bab15f-914a-47fe-9976-6dccffae94b3",
   "metadata": {},
   "source": [
    "Notice how in this case Python respects the data type of the inputs, i.e. the floats provided to the interger division above resulted in a float in the output. If we pass only integers we will get an integer:"
   ]
  },
  {
   "cell_type": "code",
   "execution_count": 14,
   "id": "44a55f8e-1a3e-4253-b586-9f7a7be1792c",
   "metadata": {},
   "outputs": [
    {
     "data": {
      "text/plain": [
       "4"
      ]
     },
     "execution_count": 14,
     "metadata": {},
     "output_type": "execute_result"
    }
   ],
   "source": [
    "27 // 6"
   ]
  },
  {
   "cell_type": "markdown",
   "id": "4a62619b-4523-421a-9685-66eff1a089ac",
   "metadata": {},
   "source": [
    "If either input is a float then a float is returned:"
   ]
  },
  {
   "cell_type": "code",
   "execution_count": 17,
   "id": "03feb9c3-65bb-4445-8a3b-6964b04aead4",
   "metadata": {},
   "outputs": [
    {
     "name": "stdout",
     "output_type": "stream",
     "text": [
      "4.0\n",
      "4.0\n"
     ]
    }
   ],
   "source": [
    "print(27 // 6.0)\n",
    "print(27.0 // 6)"
   ]
  },
  {
   "cell_type": "markdown",
   "id": "83a7bca9-90b5-47d5-acda-fc4e44c0ed48",
   "metadata": {},
   "source": [
    "To perform modulus division (i.e find the remainder) we use the `%` operator:"
   ]
  },
  {
   "cell_type": "code",
   "execution_count": 18,
   "id": "4b9dbf66-19ba-4787-9538-052fba204e3b",
   "metadata": {},
   "outputs": [
    {
     "data": {
      "text/plain": [
       "2"
      ]
     },
     "execution_count": 18,
     "metadata": {},
     "output_type": "execute_result"
    }
   ],
   "source": [
    "42 % 5"
   ]
  },
  {
   "cell_type": "markdown",
   "id": "0452d851-fc7e-4474-8fd2-065e5372bc6c",
   "metadata": {},
   "source": [
    "Here is a table containing the maths commands that come as standard with \\texttt{Python}.\n",
    "| Operator   | Calculation        |\n",
    "|------------|--------------------|\n",
    "| `+`        | Addition           |\n",
    "| `-`        | Subtraction        |\n",
    "| `*`        | Multiplication     |\n",
    "| `**`       | Exponent           |\n",
    "| `/`        | Division (Float)    |\n",
    "| `//`       | Division (Integer) |\n",
    "| `%`        | Modulus            |"
   ]
  },
  {
   "cell_type": "markdown",
   "id": "4966b711-8fd9-44d5-8e83-81bbd41b792c",
   "metadata": {},
   "source": [
    "### Problems\n",
    "\n",
    "Now use the cell below (and more if you want to add them) to work out the following examples yourself.\n",
    "1. 2 + 5\n",
    "2. 4 - 5\n",
    "3. 7 $\\times$ 8\n",
    "4. (4 + 7$j$) - (12 - 5$j$)\n",
    "5. 20$\\div$8 (integer division) \n",
    "6. 20$\\div$8 (float division)\n",
    "7. 56$\\div$9 (integer division) \n",
    "8. 6$^{22}$\n",
    "9. (32 $\\times$ 7)$^{2}$\n",
    "10. (3 + 8$j$) + (1 - 9$j$)\n",
    "11. $\\sqrt{2}$\n",
    "12. $0^{0}$ (this should be troubling!)"
   ]
  },
  {
   "cell_type": "code",
   "execution_count": null,
   "id": "b42a8575-28c7-4d4d-83b1-8b3c92d7c969",
   "metadata": {},
   "outputs": [],
   "source": []
  },
  {
   "cell_type": "markdown",
   "id": "f04154ca-31ba-4fa8-92a6-2a409428239d",
   "metadata": {},
   "source": [
    "<details>\n",
    "  <summary>Extra information!</summary> \n",
    "In fact, with regards to $0^0$, you might not want this behaviour in your code. In that case, like many other odd behaviours in programming, you are trapped by how the programming language (mis-)behaves. You need to stay aware and code accordingly, and in extreme circumstances use error handling (discussed later). \n",
    "</details>"
   ]
  },
  {
   "cell_type": "markdown",
   "id": "d992f607-8d0e-4dcb-8568-b8113de8546d",
   "metadata": {},
   "source": [
    "## Using variables for simple maths operations\n",
    "\n",
    "We can also assign values to variables, and continue to manipulate them. If you feel a bit hazy about what we mean by a variable, it's the $x$ and $y$ in an equation like $y = f(x)$, but in coding it could just as well be $b=f(a)$ or $banana=f(apple)$. \n",
    "\n",
    "As you may have just noticed variable names don't just have to be letters, they can be words or multiple words too (as long as the word does not match any of Python's built-in functions like print, round, or int etc.). If your variable name uses multiple words you can't use spaces, Python will raise a syntax error if you try. Instead, use no space or preferably underscores (this is what \"Python\" style dictates so good to get into good habits).\n",
    "\n",
    "Always try and give your variables useful and informative names, so you'll remember what they're for if you come back to a program after a break. They can be anything... but the variable `banana` doesn't really carry extra meaning unless it literally describes a banana (but then I have deeper questions about what you're coding). If you had a density in a calculation it makes sense to call that variable `density` not `batman`.\n",
    "\n",
    "Here we assign 5 to `a`, 12 to `b`, -3 to `c`, and 10.4 to `d`, and then perform some calculations using these variables. Note that we can pass all these variables to `print` at once and get an output of their value at any time. The `print` function can print any number of \"things\"."
   ]
  },
  {
   "cell_type": "code",
   "execution_count": 22,
   "id": "9137a311-7d83-4dc7-847c-d6f68225fb61",
   "metadata": {},
   "outputs": [
    {
     "name": "stdout",
     "output_type": "stream",
     "text": [
      "5 12 -3 10.4\n"
     ]
    }
   ],
   "source": [
    "a = 5\n",
    "b = 12\n",
    "c = -3\n",
    "d = 10.4\n",
    "print(a, b, c, d)"
   ]
  },
  {
   "cell_type": "code",
   "execution_count": 23,
   "id": "85aa6e73-1499-46ba-8863-4bcee008c9c6",
   "metadata": {},
   "outputs": [
    {
     "data": {
      "text/plain": [
       "14"
      ]
     },
     "execution_count": 23,
     "metadata": {},
     "output_type": "execute_result"
    }
   ],
   "source": [
    "a + b + c"
   ]
  },
  {
   "cell_type": "code",
   "execution_count": 24,
   "id": "7bc8a7ab-60e3-43f6-8033-e7a4bf9eba4b",
   "metadata": {},
   "outputs": [
    {
     "data": {
      "text/plain": [
       "8"
      ]
     },
     "execution_count": 24,
     "metadata": {},
     "output_type": "execute_result"
    }
   ],
   "source": [
    "a - c"
   ]
  },
  {
   "cell_type": "code",
   "execution_count": 25,
   "id": "b64f1d7b-d112-4c60-9b37-e3818bf01b3d",
   "metadata": {},
   "outputs": [
    {
     "data": {
      "text/plain": [
       "19"
      ]
     },
     "execution_count": 25,
     "metadata": {},
     "output_type": "execute_result"
    }
   ],
   "source": [
    "b + 7"
   ]
  },
  {
   "cell_type": "markdown",
   "id": "1703e412-b328-4b43-960c-ef808afdfc5b",
   "metadata": {},
   "source": [
    "Just to drive home what we did previously: we could perform float and integer division discarding the remainder."
   ]
  },
  {
   "cell_type": "code",
   "execution_count": 26,
   "id": "f14cc4ba-357c-45b7-8b92-01c1c2fbef54",
   "metadata": {},
   "outputs": [
    {
     "name": "stdout",
     "output_type": "stream",
     "text": [
      "2.5\n"
     ]
    },
    {
     "data": {
      "text/plain": [
       "2"
      ]
     },
     "execution_count": 26,
     "metadata": {},
     "output_type": "execute_result"
    }
   ],
   "source": [
    "print(a / 2)\n",
    "a // 2"
   ]
  },
  {
   "cell_type": "markdown",
   "id": "6dbed0e6-0418-4e58-915a-bfa8c1ea9d43",
   "metadata": {},
   "source": [
    "We can also assign the result to a new variable, and use that for further calculations."
   ]
  },
  {
   "cell_type": "code",
   "execution_count": 27,
   "id": "e063dcd4-a3df-47f3-8eff-ad07a9689e9c",
   "metadata": {},
   "outputs": [
    {
     "name": "stdout",
     "output_type": "stream",
     "text": [
      "2.5\n"
     ]
    }
   ],
   "source": [
    "r = a / 2\n",
    "print(r)"
   ]
  },
  {
   "cell_type": "markdown",
   "id": "7fdb9412-86ff-40cc-b001-45789a44eb76",
   "metadata": {},
   "source": [
    "<details>\n",
    "  <summary>Extra information!</summary> \n",
    "This style of output is specific to this cell-based interface with Python (found in Jupyter and another Python interface called iPython). These will print the contents of **the last** variable or computation of a cell without the need for a `print` statement. If you find yourself running a Python script from a `.py` file or using another Integrated Development Environment (IDE, we will go into these later) then this will no longer print an output. Another difference is that Python scripts (`.py` files) will be run as a whole when run from the command line, and not individually cell-by-cell as in Jupyter.\n",
    "</details>"
   ]
  },
  {
   "cell_type": "markdown",
   "id": "7dfad92a-6a99-4eda-a6f6-a4d0eee3bbfd",
   "metadata": {},
   "source": [
    "## Test your understanding\n",
    "\n",
    "Now in the cell below carry out this task: \n",
    "- Define the three variables `day_me`, `month_me`, `year_me` according to your birth date.\n",
    "- Define the three variables `day_now`, `month_now`, `year_now` according to today's date.\n",
    "- Figure out how many days you have been alive. This doesn't need to be exact; aim to get within $\\pm 200$ days. You can check your answer using one of the many online tools available (use Google to find them).\n",
    "\n",
    "By now you should have seen that it is more efficient to write several lines of code into a single Jupyter cell, and you can use the `Enter` key to move to a new line. If you need to create a new cell you can either press the `+` button under the `File` tab or, if you're in the last cell of a notebook, use the keyboard shortcut `Shift+Enter`, which will run your current cell before making a new one."
   ]
  },
  {
   "cell_type": "code",
   "execution_count": null,
   "id": "36512c4c-6b7d-4b1e-bf5d-6a2454b58a4b",
   "metadata": {},
   "outputs": [],
   "source": []
  },
  {
   "cell_type": "markdown",
   "id": "870d4199-1b7d-4bf7-9f9b-836744bce4b0",
   "metadata": {},
   "source": [
    "## Changing A Variable's Data Type\n",
    "\n",
    "You may find yourself in a situation where you need to change the data type of a variable. If we need to convert `a` to a float we can simply use the `float` function.\n",
    "\n",
    "Note: we defined `a` above but haven't used it in the cell below. It nonetheless still exists! This is an important thing to keep in mind when working with Jupyter notebooks. When you define a variable it exists in memory until you close or restart the notebook. Even if you deleted the code that made the variable!  "
   ]
  },
  {
   "cell_type": "code",
   "execution_count": 28,
   "id": "920fd114-384b-4da1-a905-142a53a9a89d",
   "metadata": {},
   "outputs": [
    {
     "name": "stdout",
     "output_type": "stream",
     "text": [
      "5\n",
      "5.0\n"
     ]
    }
   ],
   "source": [
    "print(a)\n",
    "print(float(a))"
   ]
  },
  {
   "cell_type": "markdown",
   "id": "8271d5df-4857-476d-b2bd-452873752b28",
   "metadata": {},
   "source": [
    "Conversely, if we need to convert to an integer we can use the `int` function."
   ]
  },
  {
   "cell_type": "code",
   "execution_count": 29,
   "id": "4c993205-00de-4939-b34d-47898c42bec4",
   "metadata": {},
   "outputs": [
    {
     "data": {
      "text/plain": [
       "10"
      ]
     },
     "execution_count": 29,
     "metadata": {},
     "output_type": "execute_result"
    }
   ],
   "source": [
    "int(d)"
   ]
  },
  {
   "cell_type": "markdown",
   "id": "4c9bde4e-07dd-4cdd-b2c5-daec1829042d",
   "metadata": {},
   "source": [
    "Keep in mind that the value of a variable is not changed by converting it to another data type:"
   ]
  },
  {
   "cell_type": "code",
   "execution_count": 30,
   "id": "c3e8455e-9659-4f8a-b0ae-162c14f7b48f",
   "metadata": {},
   "outputs": [
    {
     "name": "stdout",
     "output_type": "stream",
     "text": [
      "5.0\n",
      "5\n"
     ]
    }
   ],
   "source": [
    "print(float(a))\n",
    "print(a)"
   ]
  },
  {
   "cell_type": "markdown",
   "id": "54d75a4e-8b19-4a8d-9c45-f511e5e4ac44",
   "metadata": {},
   "source": [
    "If we wish to convert `a` permanently into a float we need to assign it to a new variable, this could be called anything but naming it `a` will overwrite the old value stored in `a`. We can then proceed with the new variable `a` containing a float."
   ]
  },
  {
   "cell_type": "code",
   "execution_count": 32,
   "id": "047ce88c-5789-49b4-8236-21c52ae8c4f9",
   "metadata": {},
   "outputs": [
    {
     "name": "stdout",
     "output_type": "stream",
     "text": [
      "5.0\n"
     ]
    }
   ],
   "source": [
    "a = float(a)\n",
    "print(a)"
   ]
  },
  {
   "cell_type": "markdown",
   "id": "0c82c9c3-cb76-4e89-ad29-b5b049010169",
   "metadata": {},
   "source": [
    "It's important to understand that the int function **does not** round a float up or down, it just truncates it, i.e. removes the decimal places. Let's demonstrate this by defining 'd' so that it would round up to 11 and converting it to an int."
   ]
  },
  {
   "cell_type": "code",
   "execution_count": 35,
   "id": "c1c34108-ffe8-4486-9ef8-546dfeab4a50",
   "metadata": {},
   "outputs": [
    {
     "name": "stdout",
     "output_type": "stream",
     "text": [
      "10\n"
     ]
    }
   ],
   "source": [
    "d = 10.55\n",
    "print(int(d))"
   ]
  },
  {
   "cell_type": "markdown",
   "id": "682cb389-f7ac-4b8e-baca-3de7c2df3f3e",
   "metadata": {},
   "source": [
    "If we wish to actually round a number then we can use the `round` function."
   ]
  },
  {
   "cell_type": "code",
   "execution_count": 36,
   "id": "5fbeda00-43da-4a5f-bf20-f10a80e0c530",
   "metadata": {},
   "outputs": [
    {
     "name": "stdout",
     "output_type": "stream",
     "text": [
      "10.6\n"
     ]
    }
   ],
   "source": [
    "e = round(d, 1)\n",
    "print(e)"
   ]
  },
  {
   "cell_type": "markdown",
   "id": "a2b78786-edbf-40e0-8bf7-87c3297ab3f7",
   "metadata": {},
   "source": [
    "The second argument in the call to `round` is the number of digits to round to (arguments are values that you pass into a function, here the second argument is 1 and the first is the variable to be rounded). If you didn't give `round` a second argument, it would round to the nearest whole number and give you the result as an integer."
   ]
  },
  {
   "cell_type": "code",
   "execution_count": 37,
   "id": "761e3455-7ecd-441a-82a0-063a6cfe8388",
   "metadata": {},
   "outputs": [
    {
     "data": {
      "text/plain": [
       "11"
      ]
     },
     "execution_count": 37,
     "metadata": {},
     "output_type": "execute_result"
    }
   ],
   "source": [
    "round(d)"
   ]
  },
  {
   "cell_type": "markdown",
   "id": "8f384af5-2595-4c84-9039-6bbfb6b109d0",
   "metadata": {},
   "source": [
    "## Commenting\n",
    "\n",
    "Comments are added to code to explain the function of lines in a way that a human can understand. They are essential for any project that's more than a few lines long, especially if you're working with other people in a professional setting or you expect to use this code again in the future. Other people may need explanations of code that you think is self-explanatory, and you may not remember how a project works when you come back to it in 6 months.\n",
    "\n",
    "When writing code just ask yourself this question: Is it immediately clear what a line of code does? e.g. `x + 2` and `print(`Comments are great!!!)'` are obvious, but things may be less obvious as things get more complex. If the answer is no, or you're not sure, then put a comment! \n",
    "\n",
    "We will be repeatedly telling you to add comments, both during the workshops and the assessments. Comment quality will actually factor into your assessment marks, so get into good habits now.\n",
    "\n",
    "In Python, comments start with a hash (`#`). Comments can appear anywhere in a line and anything that follows the `#` is `commented out', i.e. won't be run as code by Python (strictly: comments are not executable code and are thus ignored). \n",
    "\n",
    "There are two types, inline comments and block comments. Block comments go above the block of code they describe and should take the general form:"
   ]
  },
  {
   "cell_type": "code",
   "execution_count": null,
   "id": "a500f38e-06c6-4c4d-9f7a-08ae3f519d43",
   "metadata": {},
   "outputs": [],
   "source": [
    "# This is a block comment describing the following block of code\n",
    "# I am going to do something because... \n",
    "ive_done_something = 1"
   ]
  },
  {
   "cell_type": "markdown",
   "id": "ea7be27e-cf4c-4271-9c03-4a4d2144f628",
   "metadata": {},
   "source": [
    "Inline comments go after a particular line to add a small amount of information. These should start with a lower case letter and have 2 spaces between the code and the hash:"
   ]
  },
  {
   "cell_type": "code",
   "execution_count": 38,
   "id": "91f3089d-c502-420d-9613-e1f8151845b8",
   "metadata": {},
   "outputs": [],
   "source": [
    "particular_line = 1  # an inline comment about this particular line"
   ]
  },
  {
   "cell_type": "markdown",
   "id": "8088802e-dccd-4aef-b73b-11d87c8d2de2",
   "metadata": {},
   "source": [
    "From this point on the examples will have useful comments adhering to the correct style. If you don't think I'm living by what I preach feel free to call me out with what you think could be done better."
   ]
  },
  {
   "cell_type": "markdown",
   "id": "6c9f3924-b39a-4f5f-86a7-64b0b32f2885",
   "metadata": {},
   "source": [
    "## Testing the type of a variable\n",
    "\n",
    "We don't just assign integers and floats to variables, we can also assign strings and any other Python datatype (which, you guessed it, we will cover later). \n",
    "\n",
    "The fact that variables can be multiple different data types means you may need to find the type of a variable. You can test a variable's type very simply using the `type` function. See the example below."
   ]
  },
  {
   "cell_type": "code",
   "execution_count": 42,
   "id": "47e81ec6-1192-400b-9bd6-4d8f4c148fca",
   "metadata": {},
   "outputs": [
    {
     "name": "stdout",
     "output_type": "stream",
     "text": [
      "<class 'int'> <class 'float'> <class 'complex'>\n"
     ]
    },
    {
     "data": {
      "text/plain": [
       "int"
      ]
     },
     "execution_count": 42,
     "metadata": {},
     "output_type": "execute_result"
    }
   ],
   "source": [
    "# Define variables to demonstrate type testing\n",
    "f = 45  # integer\n",
    "g = 5.2341  # float\n",
    "h = 3 + 5j  # complex\n",
    "        \n",
    "print(type(f), type(g), type(h))  # test the type of each variable\n",
    "type(f)"
   ]
  },
  {
   "cell_type": "markdown",
   "id": "0a4c3ae2-35b6-4511-b2f4-c2558dba6f75",
   "metadata": {},
   "source": [
    "You can see we have printed the type of each value and the result is as we expect. For now you can ignore the \"class\" part (or read below). Notice that without the print statement we simply get `int` returned in the output, this doesn't really matter but I highlight it nonetheless."
   ]
  },
  {
   "cell_type": "markdown",
   "id": "98133ff3-b2a7-46be-900a-99f28d798170",
   "metadata": {},
   "source": [
    "<details>\n",
    "  <summary>Extra information!</summary> \n",
    "When combined with a print statement the Python object itself is printed. This object is an instance of the float class. If this is jibberish don't worry, it is mostly unimportant for the entirety of this module but plenty of resources exist online for learning about Python classes and a quick introduction to classes is available at the end of this module for those that are interested in the \"Advanced_concepts\" directory.\n",
    "</details>"
   ]
  },
  {
   "cell_type": "markdown",
   "id": "1119d0ef-d28d-4925-ac43-38ef3a6effc6",
   "metadata": {},
   "source": [
    "## A note on the horrors of the insert key\n",
    "\n",
    "Every year the same issue comes up: it is very easy to inadvertently press the insert key. At first, it will appear that nothing has happened, but if you try to type anything within the text you've already written, you will start to overwrite the existing characters.\n",
    "\n",
    "Say you are typing out a print statement,\n",
    "```\n",
    "print('I want to prit stuff')\n",
    "```\n",
    "but here you have mistyped and accidentally forgotten the 'n' in print! So you go back to edit, if the insert key is on you will get \n",
    "```\n",
    "print('I want to prin stuff')\n",
    "```\n",
    "as the 'n' has overwritten the 't'. If you encounter this behaviour then insert is the cause, simply press insert and the problem is solved."
   ]
  },
  {
   "cell_type": "markdown",
   "id": "d9787256-b7b3-47c0-b5e5-7d5bc5b74019",
   "metadata": {},
   "source": [
    "<details>\n",
    "  <summary>Extra information!</summary> \n",
    "    \n",
    "## Integrated Development Environments\n",
    "\n",
    "As I've said, we'll be using notebooks exclusively for this module but if you want to write your own Python scripts you'll want a piece of software in which to write them. Software used for this purpose is called Integrated Development Environments or IDEs.\n",
    "\n",
    "A loose definition of an IDE might be \"a piece of software that provides everything a user needs to write code\". They are essentially text editors with extra functionality. IDEs exist for every programming language, and normally include (at the very least):\n",
    "- A source code editor - Lets the user write and edit their code.\n",
    "- A debugger - Tools to check for issues with the code.\n",
    " - A compiler - This assembles and runs the code. Different types of programming languages approach this differently; languages like C or C++ have to be compiled (like assembling a machine before you use it) into an `executable' before they're run. Python, on the other hand, is an interpreted language and is executed line-by-line (like reading a recipe and doing as instructed on each line).\n",
    "\n",
    "There are a huge number of IDEs to choose from, especially for a popular language such as Python, and ultimately you just have to try a few until you find your favourite. We will summarise a few of the most popular options here, and if you're interested in the subject you can do your own research. Many IDEs are free, but those that do charge often have a student discount option, so look out for that.\n",
    "\n",
    "- Text Editors - Although not technically IDEs, text editors like Notepad and Gedit get an honorable mention as you can write code in them and then run it from the terminal. For instance, you could write `print(\"hello world\")` in a file called test.py, save it, and then run it by typing `python test.py` in terminal.\n",
    "- VSCode - is now widely used due to its simplicity and the \"ease\" with which it can be customised. One bonus of VScode is it has a very nice interface to interact with Jupyter Notebooks so could be used for this module! I personally don't use it but many do and it is very good with a relatively small learning curve and lots of videos and documents online to learn how to use it.\n",
    "- Spyder - A more traditional Python IDE packaged with Anaconda, with some more features. It works for some, but I would not personally recommend it.\n",
    "- PyCharm - This was my personal favourite IDE until a few years ago. It has basically every feature you can ever imagine needing. There is a free version and a paid professional version (though students can get both for free). It requires a relatively good computer to run it, otherwise, it can be a little laggy. The reason I no longer recommend it is the learning curve is steeper than others and VSCodes improvements have outstripped PyCharm. (PyCharm's Jupyter Notebook interface is also plain horrible.) That said, if you want a fully featured IDE and are willing to learn a bit it is still very good.\n",
    "- Command line editors - Many choose to use text editors written in the 70s, 80s, and early 90s. Examples of these are `vim`, `emacs`, and `nano`. Nano is awful, do not consider it! Vim and Emacs are fantastic though. I personally use Emacs with a Vim plugin to use the best of both worlds. These are infinitely customisable and provide methods for editing text that outstrip anything a modern editor can provide. So, do I recommend using one now? Absolutely **NOT**!! The learning curve for these is astronomical. Even exiting Vim is a challenge that has become a meme online. However, I highlight that they exist because learning to use one can be a huge boon in productivity in the future and also earns you \"god-like\" status amongst programmers.\n",
    "</details>"
   ]
  }
 ],
 "metadata": {
  "kernelspec": {
   "display_name": "Python 3 (ipykernel)",
   "language": "python",
   "name": "python3"
  },
  "language_info": {
   "codemirror_mode": {
    "name": "ipython",
    "version": 3
   },
   "file_extension": ".py",
   "mimetype": "text/x-python",
   "name": "python",
   "nbconvert_exporter": "python",
   "pygments_lexer": "ipython3",
   "version": "3.10.4"
  }
 },
 "nbformat": 4,
 "nbformat_minor": 5
}

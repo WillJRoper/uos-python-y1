{
 "cells": [
  {
   "cell_type": "markdown",
   "id": "e4b68e65-c6f3-4de2-bc39-0d455b50344a",
   "metadata": {},
   "source": [
    "# Errors, Strings, Booleans, Tuples and Lists\n",
    "\n",
    "## Learning Outcomes\n",
    "\n",
    "By the end of this notebook, you should be able to:\n",
    "\n",
    "- Understand Python Errors.\n",
    "- Manipulate strings.\n",
    "- Use Boolean variables.\n",
    "- Use the `input` function.\n",
    "\n",
    "In the previous notebook, we learned about data types, mathematical operations in Python, and commenting. In this notebook, we'll move beyond using Python as a glorified calculator and you'll be introduced to errors (how Python tells you something has gone wrong), strings (a non-numeric data type), and booleans (true and false values). Things are starting out slow now, but as we progress things will get more complex and the power of Python will become evident. But first...\n",
    "\n",
    "## A reminder about collusion and plagiarism\n",
    "\n",
    "Don't do it. Just don't. We'll know. It's not worth it. Really. Please. Just don't. I don't want the paperwork.\n",
    "\n",
    "By all means work together on the exercises during the lab sessions, and by all means *talk* to each other about ways to approach the assessments. However, if find yourself de-bugging a friend's code for an assessment, you've gone too far -  you've got to let them figure this stuff out themselves. If you find yourself cutting and pasting from a friend's code, then that's even more serious. If incidences of plagiarism and collusion do come to light, (and they have in the past, it's always obvious) those involved will be referred to the appropriate disciplinary committee. \n",
    "\n",
    "## Sourcing Help\n",
    "\n",
    "When coding, in this module or in the future, you may run into concepts you don't understand, inexplicable errors, or wonder what the best approach to a problem is. By all means, ask me or the ATs for help but you should also be aware of the wealth of tools on the internet. \n",
    "- [Stack Overflow](www.stackoverflow.com) is a community-driven forum where people post their problems and users attempt to provide solutions. If you run into a problem it's almost certain that somebody else has already had it, and asked about it somewhere on the internet, so it's worth having a look.\n",
    "- Simply googling \"\\<thing I am currently doing\\> in Python\" (e.g. \"String splitting in Python\") will give you a treasure trove of information from the basic to the intensely complex. Due to Python's popularity, there are helpful learning tools everywhere. In fact, googling something like this will normally result in top hits that link to Stack Overflow but there are also plenty of blogs and Python specific sites too.\n",
    "- And yes... the big baddy: **ChatGPT**. I'm sure most modules will tell you not to use it. I, on the other hand, highly recommend using it if you have an account or can make one. As a tool for coding it is amazing. Learning to use it effectively is an important skill and one which I'm sure is going to be ever more important in a decade's time. You can ask it to clarify concepts, show you example code for doing something, and tailor its responses to your level. That said, **don't be tempted to use it for assessments!** It is highly fallible, and will readily give you \"working\" code that isn't quite right in some subtle way. It also tends to give code with certain odd quirks that are easily spotted. Moreover, you aren't really gaining knowledge if you just let chatGPT do your assessments. TL;DR: it's a fantastic **tool** for learning, finding information, and clarifying concepts (think google on steroids) but a rubbish tool for **doing**."
   ]
  },
  {
   "cell_type": "markdown",
   "id": "a896afb5-6789-480c-93fa-b7c15b71e1e1",
   "metadata": {},
   "source": [
    "# Errors\n",
    "\n",
    "You may have already seen an error when doing the problems in the previous notebook, or when editing the existing cells. These are what happens when you do something Python doesn't like. No matter how experienced you become you will always see errors, they are a fact of life. \n",
    "\n",
    "Errors come in many shapes and sizes. They'll normally come with:\n",
    "- A \"TraceBack\" showing all of the lines of code that led to an error (indicated by arrows on the left-hand side).\n",
    "- If you are lucky an upwards pointing arrow indicating the offending part of the line.\n",
    "- An error type including (but not limited to) `SyntaxError`, `ValueError`, `KeyError`, or `IndexError`.\n",
    "- A short description of the issue.\n",
    "\n",
    "Some errors are more helpful than others but all of them do give an indication of what's going wrong so (in the words of my past supervisor) \"Always read your errors!\". \n",
    "\n",
    "If you are using Python >3.10 the errors you will get are far more descriptive and much more useful. One of the big changes between 3.9 and 3.10 is the improvement of the error reports. This is the main reason I recommend using at least this version. \n",
    "\n",
    "The simplest form of error is a `SyntaxError` this is when you have made a mistake in the actual code expression itself. Below I'll intentionally demonstrate by making mistakes in code, some using concepts you haven't seen yet. Can you fix them?\n"
   ]
  },
  {
   "cell_type": "code",
   "execution_count": 1,
   "id": "dfcfd776-775b-47fe-9e73-51d16249f953",
   "metadata": {},
   "outputs": [
    {
     "ename": "SyntaxError",
     "evalue": "invalid syntax (2293077453.py, line 2)",
     "output_type": "error",
     "traceback": [
      "\u001b[0;36m  Cell \u001b[0;32mIn[1], line 2\u001b[0;36m\u001b[0m\n\u001b[0;31m    x = ,1\u001b[0m\n\u001b[0m        ^\u001b[0m\n\u001b[0;31mSyntaxError\u001b[0m\u001b[0;31m:\u001b[0m invalid syntax\n"
     ]
    }
   ],
   "source": [
    "# Assign 1 to a variable\n",
    "x = ,1"
   ]
  },
  {
   "cell_type": "code",
   "execution_count": 2,
   "id": "f777296e-4e75-465f-b6e4-83d74440bc38",
   "metadata": {},
   "outputs": [
    {
     "ename": "SyntaxError",
     "evalue": "invalid syntax. Perhaps you forgot a comma? (4193028009.py, line 2)",
     "output_type": "error",
     "traceback": [
      "\u001b[0;36m  Cell \u001b[0;32mIn[2], line 2\u001b[0;36m\u001b[0m\n\u001b[0;31m    my_list = [3. 1, 4, 1, 5, 9, 2, 6, 5, 3, 5, 9]\u001b[0m\n\u001b[0m               ^\u001b[0m\n\u001b[0;31mSyntaxError\u001b[0m\u001b[0;31m:\u001b[0m invalid syntax. Perhaps you forgot a comma?\n"
     ]
    }
   ],
   "source": [
    "# Define a list of integers\n",
    "my_list = [3. 1, 4, 1, 5, 9, 2, 6, 5, 3, 5, 9]"
   ]
  },
  {
   "cell_type": "code",
   "execution_count": 6,
   "id": "01210664-76e5-4955-a85e-f4bcb5a5f09b",
   "metadata": {},
   "outputs": [
    {
     "ename": "SyntaxError",
     "evalue": "unterminated string literal (detected at line 2) (2656018139.py, line 2)",
     "output_type": "error",
     "traceback": [
      "\u001b[0;36m  Cell \u001b[0;32mIn[6], line 2\u001b[0;36m\u001b[0m\n\u001b[0;31m    s = \"You will see string manipulations in the next section'\u001b[0m\n\u001b[0m        ^\u001b[0m\n\u001b[0;31mSyntaxError\u001b[0m\u001b[0;31m:\u001b[0m unterminated string literal (detected at line 2)\n"
     ]
    }
   ],
   "source": [
    "# Define a string\n",
    "s = \"You will see string manipulations in the next section'"
   ]
  },
  {
   "cell_type": "markdown",
   "id": "91683f4b-5f52-468b-a9b4-900fc2ab9708",
   "metadata": {},
   "source": [
    "Admittedly, asking you to fix concepts you haven't seen is possibly (definitely) unfair. However, I hope you can see what an error looks like and that (in some cases) it is clear what has gone wrong. Hopefully, you have also seen that some errors aren't entirely helpful: \"unterminated string literal\" isn't particularly informative if you don't know all the jargon. In reality, I mixed a double quote and a single quote in the same string which makes Python think I didn't terminate/finish the string because it was waiting for the second `\"`.\n",
    "\n",
    "As for the other error types I mentioned, I'm sure we'll see plenty of those later but first, we'll need to cover some more ground."
   ]
  },
  {
   "cell_type": "markdown",
   "id": "eeeda9e8-e242-499f-8d88-ea2c3d872048",
   "metadata": {},
   "source": [
    "## String manipulations\n",
    "\n",
    "In the previous notebook, you were briefly introduced to strings, a data type containing characters. Strings can be manipulated very easily with inbuilt operators such as `+`, which can be used to add strings together (concatenate them). Strings can also be \"indexed\" to extract specific characters at a specific position or sliced with the `:` operator to extract a set of multiple characters between two positions. These positions are defined by their \"index\", literally their position in the string. **Note that Python starts counting elements from zero**, which means that the first character in a string is character zero **and whitespaces are also characters**. \n",
    "\n",
    "Below are some examples of manipulating strings in different ways.\n",
    "\n",
    "We can add strings to concatenate them."
   ]
  },
  {
   "cell_type": "code",
   "execution_count": 7,
   "id": "d2244f00-b659-4d1b-994e-d2b8ad95679b",
   "metadata": {},
   "outputs": [
    {
     "name": "stdout",
     "output_type": "stream",
     "text": [
      "This is a string\n"
     ]
    }
   ],
   "source": [
    "# Define strings for manipulation\n",
    "s1 = \"This is a\"\n",
    "s2 = \"string\"\n",
    "        \n",
    "print(s1 + ' ' + s2)"
   ]
  },
  {
   "cell_type": "markdown",
   "id": "98d6a8b2-a95f-4893-97ae-6b8b87e532ca",
   "metadata": {},
   "source": [
    "We can index a specific element by indexing with square brackets."
   ]
  },
  {
   "cell_type": "code",
   "execution_count": 8,
   "id": "b922220a-dfaf-4fa5-b7b7-2ee14e6ea9d2",
   "metadata": {},
   "outputs": [
    {
     "name": "stdout",
     "output_type": "stream",
     "text": [
      "T a\n"
     ]
    }
   ],
   "source": [
    "# Print the first and last element of s1 to demonstrate indexing\n",
    "print(s1[0], s1[-1])"
   ]
  },
  {
   "cell_type": "markdown",
   "id": "b3909ac6-8047-4d10-88c7-90db2946864c",
   "metadata": {},
   "source": [
    "Notice we can extract the final element by indexing with -1. In fact, we can count back from the end of a string with n characters by using a negative index (i.e. -1 extracts the n$^{\\text{th}}$ character `a`, -3 extracts the n-2$^{\\text{th}}$ character `s`, -4 extracts the n-3$^{\\text{th}}$ character `i`, etc.). Test this in the above cell to ensure this makes sense.\n",
    "\n",
    "We can also slice with indices by using the `:` operator, [start index:end index]. Bear in mind that Python indexing is \"inclusive\" of the start index and \"exclusive\" of the end index, so [0:4] would only retrieve characters 0, 1, 2, and 3."
   ]
  },
  {
   "cell_type": "code",
   "execution_count": 9,
   "id": "20c9dc8f-fbc3-41df-9ff7-39e17c584d06",
   "metadata": {},
   "outputs": [
    {
     "name": "stdout",
     "output_type": "stream",
     "text": [
      "This is\n"
     ]
    }
   ],
   "source": [
    "# Slice the string to get the first 6 elements\n",
    "print(s1[0:7])\n",
    "\n",
    "# Get the second to the 4th elements\n",
    "print(s1[1:4])"
   ]
  },
  {
   "cell_type": "markdown",
   "id": "7459662c-265c-4e11-b890-75c7218aea8a",
   "metadata": {},
   "source": [
    "Additionally, strings can be multiplied by integers to make them repeat. "
   ]
  },
  {
   "cell_type": "code",
   "execution_count": 10,
   "id": "5565d021-8ca3-46d9-b5b5-8dbbb0803bfa",
   "metadata": {},
   "outputs": [
    {
     "name": "stdout",
     "output_type": "stream",
     "text": [
      "This This This \n"
     ]
    }
   ],
   "source": [
    "# Print 'This' three times separated by spaces\n",
    "print(s1[:5] * 3)"
   ]
  },
  {
   "cell_type": "markdown",
   "id": "8eb7cd5a-30f6-4391-ba1e-9556aeccdb38",
   "metadata": {},
   "source": [
    "One final thing to note with slicing is that the 0 (first index) can be omitted as in the previous example. Python sees this as \"from the beginning\", and the same is true for the end. If the second index is omitted i.e. `[2:]`, Python will interpret this as \"the 3rd element to the end\"."
   ]
  },
  {
   "cell_type": "markdown",
   "id": "fc3ef9b6-5edc-4cd2-95e2-6f50151d8649",
   "metadata": {},
   "source": [
    "### String Formatting\n",
    "\n",
    "Something else you might want to do with a string is populate it with other data from other variables. There are multiple ways to do this but I'll focus on format strings here which were introduced in version 3.6.\n",
    "\n",
    "Format strings make it trivial to input variables into strings. You simply need to include an `f` at the start of your string and curly braces (`{}`) in the body of the string containing the variable to print. Below is a simple example, notice that the data type of the variable does not matter."
   ]
  },
  {
   "cell_type": "code",
   "execution_count": 2,
   "id": "b4268f2e-0d9b-445a-ac9c-b606d024227c",
   "metadata": {},
   "outputs": [
    {
     "name": "stdout",
     "output_type": "stream",
     "text": [
      "I made some variables: 1, A string, 3.14159\n"
     ]
    }
   ],
   "source": [
    "# Define some variables to print\n",
    "x = 1\n",
    "s = \"A string\"\n",
    "y = 3.14159\n",
    "\n",
    "f_string = f\"I made some variables, they contained: {x}, {s}, {y}\"\n",
    "print(f_string)"
   ]
  },
  {
   "cell_type": "markdown",
   "id": "1dc522b2-e164-4234-826f-2ac44c905281",
   "metadata": {},
   "source": [
    "Format strings can do much more though. Lets say I don't want to print all the decimal places of `y`, I can enforce the number of decimal places by including the following."
   ]
  },
  {
   "cell_type": "code",
   "execution_count": 3,
   "id": "e988af25-2c90-4679-aa29-c403b5f9bdd6",
   "metadata": {},
   "outputs": [
    {
     "name": "stdout",
     "output_type": "stream",
     "text": [
      "I made some variables, they contained: 1, A string, 3.14\n"
     ]
    }
   ],
   "source": [
    "# Create the string again but limit the number of decimal places\n",
    "f_string = f\"I made some variables, they contained: {x}, {s}, {y:.2f}\"\n",
    "print(f_string)"
   ]
  },
  {
   "cell_type": "markdown",
   "id": "31ace2f2-655d-44d2-b0b3-1ee0ad304f6c",
   "metadata": {},
   "source": [
    "The `.2f` here says I want to 2 decimal places in a float representation. If I instead wanted scientific notation (represented with an `E` in computer speak) I could instead replace the `f` with an `e`. "
   ]
  },
  {
   "cell_type": "code",
   "execution_count": 4,
   "id": "9dc41d48-9296-40b5-9776-b4bc94c0f6ea",
   "metadata": {},
   "outputs": [
    {
     "name": "stdout",
     "output_type": "stream",
     "text": [
      "I made some variables, they contained: 1, A string, 3.14e+00\n"
     ]
    }
   ],
   "source": [
    "# Create the string again but limit the number of decimal places in scientific notation\n",
    "f_string = f\"I made some variables, they contained: {x}, {s}, {y:.2e}\"\n",
    "print(f_string)"
   ]
  },
  {
   "cell_type": "markdown",
   "id": "3e1085fa-2123-4ac0-941c-409057a71c0b",
   "metadata": {},
   "source": [
    "## Exercises\n",
    "\n",
    "Use the cells below to do the following.\n",
    "\n",
    "1.\n",
    "    - Assign the strings \"hello\" and \"world\" to two separate variables.\n",
    "    - Using the two strings print out `\\texttt{hello world}'.\n",
    "    - Print the word hello 20 times with no spaces using the assigned string.\n",
    "\n",
    "2.\n",
    "    - Declare a variable and assign the following string to it \"Do not push the red button\".\n",
    "    - Slice the string to form \"Do not push\".\n",
    "    - Slice the string to form \"push the red button\"\n",
    "\n",
    "3.\n",
    "    - Create a string variable `myname` that is your full name - first, middle (if you have them), and last (family name).\n",
    "    - Slice the string so that it prints your last name only.\n",
    "    - Slice the string such that it prints your first name, middle initial, and then your last name.\n",
    "    - Print `I am' and your name as if you were \"Bond, James Bond\"."
   ]
  },
  {
   "cell_type": "code",
   "execution_count": null,
   "id": "05a64f69-49bb-4b81-a4c2-9853e3074e84",
   "metadata": {},
   "outputs": [],
   "source": []
  },
  {
   "cell_type": "code",
   "execution_count": null,
   "id": "6fbcdb05-1cfd-4b09-b929-07b20c4a1b8b",
   "metadata": {},
   "outputs": [],
   "source": []
  },
  {
   "cell_type": "code",
   "execution_count": null,
   "id": "535cbabb-8f8c-46ec-a345-d33936871143",
   "metadata": {},
   "outputs": [],
   "source": []
  },
  {
   "cell_type": "markdown",
   "id": "95a46eb7-03ab-421a-9828-8908424e40b5",
   "metadata": {},
   "source": [
    "## Booleans\n",
    "\n",
    "The **Boolean** data type represents the two values of Boolean logic, `True` or `False`. These appear in many guises which we'll explore as we go along. \n",
    "\n",
    "To begin with, we'll start with a simple application: variable comparisons, if the variables are the same then the result will be True, and if they are not then the result will be False.\n",
    "\n",
    "Note that floats and integers with the same value will result in `True`, for instance, `1 == 1.0`. However, this is not true when comparing a string and a float or integer, e.g.`\"1\" == 1` will return `False`.\n",
    "\n",
    "Below are some examples of variable comparisons using various operators (explained in detail below)."
   ]
  },
  {
   "cell_type": "code",
   "execution_count": null,
   "id": "c97a50b9-e1fc-498a-9a0c-9b936dd9b26e",
   "metadata": {},
   "outputs": [],
   "source": [
    "# Define variables to demonstrate Boolean operations\n",
    "a = 12\n",
    "b = 5\n",
    "c = 7.8\n",
    "        \n",
    "# Test if a is equal to b\n",
    "a == b"
   ]
  },
  {
   "cell_type": "code",
   "execution_count": 6,
   "id": "37fb3e80-9007-4bdd-9639-8e463c66c8a5",
   "metadata": {},
   "outputs": [
    {
     "data": {
      "text/plain": [
       "True"
      ]
     },
     "execution_count": 6,
     "metadata": {},
     "output_type": "execute_result"
    }
   ],
   "source": [
    "# Test if a is greater than or equal to c\n",
    "a >= c"
   ]
  },
  {
   "cell_type": "markdown",
   "id": "7bcf07fc-7963-4978-b61a-5b498e3e2d6c",
   "metadata": {},
   "source": [
    "Just like in boolean arithmetic multiple boolean expressions can be combined using an `and`."
   ]
  },
  {
   "cell_type": "code",
   "execution_count": 7,
   "id": "d0cdde2c-2c9a-4188-81b0-81dd4e550be2",
   "metadata": {},
   "outputs": [
    {
     "name": "stdout",
     "output_type": "stream",
     "text": [
      "False\n"
     ]
    }
   ],
   "source": [
    "# Test if b is greater and c and b is greater than a\n",
    "print(b > c and b > a)"
   ]
  },
  {
   "cell_type": "markdown",
   "id": "714fb545-acc8-4ffb-b7ee-4c186614f8ee",
   "metadata": {},
   "source": [
    "Although you don't always need to use `and` if you can simply write out a valid system of inequalities. "
   ]
  },
  {
   "cell_type": "code",
   "execution_count": 8,
   "id": "272af8a8-ce41-48fe-8910-03ec4603afde",
   "metadata": {},
   "outputs": [
    {
     "name": "stdout",
     "output_type": "stream",
     "text": [
      "True\n"
     ]
    }
   ],
   "source": [
    "# Test whether a is greater than c and c is greater than b,\n",
    "# without using and\n",
    "print( b < c < a )"
   ]
  },
  {
   "cell_type": "markdown",
   "id": "b877bdc1-85dc-4ffd-9a37-4463fd6481d3",
   "metadata": {},
   "source": [
    "When comparing two **scalar** variables any of the operators in the table below can be used.\n",
    "\n",
    "| Operator   | Description              |\n",
    "|------------|--------------------------|\n",
    "| `==`       | Equal to                 |\n",
    "| `!=`       | Not Equal to             |\n",
    "| `>=`       | More than or equal to   |\n",
    "| `<=`       | Less than or equal to   |\n",
    "| `>`        | More than               |\n",
    "| `<`        | Less than               |\n",
    "\n",
    "However, there are two more operators often used during comparisons. \n",
    "\n",
    "### `in`\n",
    "\n",
    "`in` is used when trying to see if a \"container\" contains a certain value. The only container we've seen thus far is a string but `in` is also applicable to any Python data structures including lists, tuples, dictionaries, and sets. Below is an example using `in` with a string."
   ]
  },
  {
   "cell_type": "code",
   "execution_count": 10,
   "id": "6aca8a10-bbc5-4387-95e0-ef967f150c46",
   "metadata": {},
   "outputs": [
    {
     "name": "stdout",
     "output_type": "stream",
     "text": [
      "k is in the string False\n",
      "s is in the string True\n"
     ]
    }
   ],
   "source": [
    "# Create a string to test in with\n",
    "in_str = \"A string to test in with\"\n",
    "\n",
    "# Test whether characters are in the string with in\n",
    "print(\"k is in the string\", \"k\" in in_str)\n",
    "print(\"s is in the string\", \"s\" in in_str)"
   ]
  },
  {
   "cell_type": "markdown",
   "id": "c2225ec7-b551-4ce3-bca8-626518e68c5f",
   "metadata": {},
   "source": [
    "### `is`\n",
    "\n",
    "`is` is a bit more complex and thus is a bit beyond the scope of this course, but it is extremely useful when needed. \n",
    "\n",
    "Sometimes you will have to check if 2 Python objects are **literally** the same object not just equal, this is what `is` is used for. It's a subtlety to appreciate but two variables can be **equal** but not the **same**. This is because they are two distinct values in memory (to get truly technical they are stored at different addresses in memory, but you can ignore that fact for now). \n",
    "\n",
    "Below is a contrived example showing how `is` behaves."
   ]
  },
  {
   "cell_type": "code",
   "execution_count": 13,
   "id": "53725698-930c-4ee6-9dea-22865f9deb97",
   "metadata": {},
   "outputs": [
    {
     "name": "stdout",
     "output_type": "stream",
     "text": [
      "12 12\n",
      "True\n",
      "True\n"
     ]
    }
   ],
   "source": [
    "# Define a new variable which is just a copy of a\n",
    "d = a\n",
    "\n",
    "# Test these variables with == and is\n",
    "print(a, d)\n",
    "print(a == d)\n",
    "print(a is d)"
   ]
  },
  {
   "cell_type": "markdown",
   "id": "e72088d3-3b59-4dad-99fb-a670c4e90ded",
   "metadata": {},
   "source": [
    "With variables defined as integers, floats, or strings `is` behaves the same as `==`. The important thing to keep in mind is that when using data structures (coming very soon) `is` will return `False` even when two variables contain the same elements. This is because the two variables are different instances of the Python object and are located at different memory addresses.\n",
    "\n",
    "## Exercises\n",
    "\n",
    "Once again use the cells below (and however many others you would like to use) to do the following.\n",
    "\n",
    "1. Assign 13 to a variable $q$, 2 to a variable $w$, and 6.5 to a variable $e$.\n",
    "    - Show the smallest value.\n",
    "    - Show the largest value.\n",
    "    - Using an expression containing 2 `<`s show which is the middle value.\n",
    "2. Define your name as a string and show whether there are any of the following letters *in* your name: \"a\", \"g\", \"d\", or \"e\". Use an individual print statement for each."
   ]
  },
  {
   "cell_type": "code",
   "execution_count": null,
   "id": "bc01e6aa-501e-43de-a086-fa937d6c01da",
   "metadata": {},
   "outputs": [],
   "source": []
  },
  {
   "cell_type": "code",
   "execution_count": null,
   "id": "8e9d8e84-4c40-4649-943a-6646381e881f",
   "metadata": {},
   "outputs": [],
   "source": []
  },
  {
   "cell_type": "markdown",
   "id": "2c9152ec-6f49-418f-856f-3e87db730292",
   "metadata": {},
   "source": [
    "## Input function\n",
    "\n",
    "The `input` function is used to get a response from the user of a program, this will be your first interactive use of Python! An example can be seen below."
   ]
  },
  {
   "cell_type": "code",
   "execution_count": 14,
   "id": "bb23e8e4-ecd5-4499-86d9-e56cbf81a99d",
   "metadata": {},
   "outputs": [
    {
     "name": "stdin",
     "output_type": "stream",
     "text": [
      "Name:  Batman\n"
     ]
    },
    {
     "name": "stdout",
     "output_type": "stream",
     "text": [
      "Hello Batman\n"
     ]
    }
   ],
   "source": [
    "# Get the users name and assign it to a variable\n",
    "name = input('Name: ')\n",
    "        \n",
    "print('Hello ' + name)"
   ]
  },
  {
   "attachments": {},
   "cell_type": "markdown",
   "id": "ce4e09de-6122-4822-800b-26fca551fc00",
   "metadata": {},
   "source": [
    "The input function will print the provided string and then the output will hang waiting for user input. Above the user has written \"Batman\", after receiving this input the rest of the code following the input statement is executed with Batman assigned to the `name` variable. Rerun the above cell to see this in action.\n",
    "\n",
    "The `input` function will always return a string, so don't let this catch you out. If you need an integer or float input from the user you have to convert the string returned by `input` to an integer/float, like so:"
   ]
  },
  {
   "cell_type": "code",
   "execution_count": 15,
   "id": "dbabc125-adbd-474e-a3b1-30dadf888565",
   "metadata": {},
   "outputs": [
    {
     "name": "stdout",
     "output_type": "stream",
     "text": [
      "Choose a number\n"
     ]
    },
    {
     "name": "stdin",
     "output_type": "stream",
     "text": [
      "Number:  5\n"
     ]
    },
    {
     "name": "stdout",
     "output_type": "stream",
     "text": [
      "5 times your number is:\n",
      "25\n"
     ]
    }
   ],
   "source": [
    "# Get a number from the user, convert to an integer\n",
    "print('Choose a number')\n",
    "num = int(input('Number: '))\n",
    "        \n",
    "# Multiply this number by 5 and print the result\n",
    "print('5 times your number is:')\n",
    "print(5 * num)"
   ]
  },
  {
   "cell_type": "markdown",
   "id": "c397b0db-8c4c-46a1-9d29-d2c58f942d8f",
   "metadata": {},
   "source": [
    "The above code takes the passed number and multiplies it by 5. Once again rerun it to see it in action."
   ]
  },
  {
   "cell_type": "markdown",
   "id": "be6de4d9-4c62-4285-b2cb-92e08536335d",
   "metadata": {},
   "source": [
    "\n",
    "\n",
    "### Issues with Jupyter\n",
    "Sometimes with the `input` function (though occasionally with others), you might see a Jupyter cell that looks like this\n",
    "```\n",
    "    In  [*]:\n",
    "```\n",
    "this means the cell is \"running\" and you will be unable to get any outputs from any of the cells in your notebook. If this happens and you're sure nothing is being computed, essentially Jupyter has frozen. To combat this simply click on the \"Kernel\" dropdown menu and restart the notebook. Bear in mind that restart and clear all will remove all of your `Out` cells. Any form of restart will remove all previously defined variables from memory, meaning you'll have to run all your code again. I recommend using \"Restart Kernel and Run All Cells\" which will rerun everything for you.\n",
    "\n",
    "\n",
    "## Exercises\n",
    "\n",
    "1. Calculating a tip for a meal.\n",
    "    - Create a short set of commands (in one Jupyter cell), that allows the user to enter the price of their meal in a restaurant.\n",
    "    - Then print out a message displaying a price including a 15% and 20% tip.\n",
    "\n",
    "2. Calculating your age in seconds.\n",
    "    - Create a short set of commands (in one Jupyter cell), that allows the user to enter their age at their last birthday. Assign this value to a variable.\n",
    "    - Use this variable to calculate their approximate age in seconds (ignore leap years).\n",
    "    - Print `You are over N seconds old', where N is their age in seconds."
   ]
  },
  {
   "cell_type": "markdown",
   "id": "430a2514-277d-4721-8932-356e240b39e7",
   "metadata": {},
   "source": []
  },
  {
   "cell_type": "code",
   "execution_count": null,
   "id": "2522ad25-87e9-4e75-afeb-a6e0b1fbd9fb",
   "metadata": {},
   "outputs": [],
   "source": []
  }
 ],
 "metadata": {
  "kernelspec": {
   "display_name": "Python 3 (ipykernel)",
   "language": "python",
   "name": "python3"
  },
  "language_info": {
   "codemirror_mode": {
    "name": "ipython",
    "version": 3
   },
   "file_extension": ".py",
   "mimetype": "text/x-python",
   "name": "python",
   "nbconvert_exporter": "python",
   "pygments_lexer": "ipython3",
   "version": "3.10.4"
  }
 },
 "nbformat": 4,
 "nbformat_minor": 5
}

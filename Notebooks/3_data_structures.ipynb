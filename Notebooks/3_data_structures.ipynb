{
 "cells": [
  {
   "cell_type": "markdown",
   "id": "8b6e41aa-3104-4f71-bc47-98cdcbf8cde1",
   "metadata": {},
   "source": [
    "# Data Structures\n",
    "\n",
    "## Learning Outcomes\n",
    "\n",
    "By the end of this notebook, you should be able to:\n",
    "\n",
    "- Create and access tuples.\n",
    "- Understand mutability.\n",
    "- Create, access, and manipulate lists.\n",
    "- Create, access, and manipulate dictionaries.\n",
    "\n",
    "Up until now, we've mainly worked with variables that contain single entities in the form of integers, floats, and strings (although strings are technically arrays of multiple characters). You may have wondered what's so great about Python after seeing the past few notebooks and I wouldn't blame you. We've essentially used it like a glorified calculator and text manipulator, all with much more complexity than is necessary for those simple jobs. The fact of the matter is we barely scratched the surface thus far. \n",
    "\n",
    "When we work in Python we are rarely working on variables containing single entities. Instead, we are working on collections of data stored in data structures. This data could be derived from an experiment or arrays of values derived empirically. No matter how it is derived things get much more interesting when your variables contain multiple values. \n",
    "\n",
    "The simplest forms of data structures in Python are lists and tuples. Any Python object can be stored in a list or tuple. That includes other lists and tuples, so it is possible (and sometimes useful) to have a list of lists. \n",
    "\n",
    "As mentioned in [notebook 1](1_the_basics.ipynb), lists and tuples are essentially the same; the key difference is that lists are mutable (editable) and tuples immutable (are not editable). \n",
    "\n",
    "## Anatomy of Lists and Tuples\n",
    "<center><img width=800 src=\"Figures/ListTup.png\"></center>\n",
    "Above is a diagram showing the anatomy of Python Tuples and Lists. Lists, tuples, and strings all have the same index conventions where the first element is the zeroth element. The way a list is differentiated from a tuple is the symbol used to denote the beginning and end of each; for a list `[]` and for a tuple `()`. We refer to each value stored at an index as an element. The value stored at index 0 is the zeroth element and the value stored at index $n$ is $n$th element."
   ]
  },
  {
   "cell_type": "markdown",
   "id": "9bb747cf-d927-488f-a77d-80ceee455da2",
   "metadata": {},
   "source": [
    "## Tuples\n",
    "\n",
    "Since a tuple is immutable once it has been declared, it cannot be changed or edited in any way. A tuple is declared using parentheses `()` to surround the elements (the contents of the tuple), which must be separated by commas. You can also create a tuple containing only one element by putting a comma after the first entry in the tuple. "
   ]
  },
  {
   "cell_type": "code",
   "execution_count": null,
   "id": "1deb5903-ff75-4d50-b1c7-997d8a379fea",
   "metadata": {},
   "outputs": [],
   "source": [
    "# Define a simple 1 element tuple\n",
    "simpletuple = (5, )\n",
    "\n",
    "print(simpletuple)"
   ]
  },
  {
   "cell_type": "code",
   "execution_count": null,
   "id": "ae8c2c7a-4a90-4451-bdad-0334ca86200e",
   "metadata": {},
   "outputs": [],
   "source": [
    "# Redefine the simple tuple contain multiple elements\n",
    "simpletuple = (5, 4, 3, 2, 1)\n",
    "\n",
    "print(simpletuple)"
   ]
  },
  {
   "cell_type": "markdown",
   "id": "2b539420-1338-43e0-ac49-98eccd33b660",
   "metadata": {},
   "source": [
    "We can index a tuple just as we have indexed strings to extract individual elements."
   ]
  },
  {
   "cell_type": "code",
   "execution_count": null,
   "id": "9e216f5f-a77a-4a3e-950f-8d35c1cf9291",
   "metadata": {},
   "outputs": [],
   "source": [
    "# Extract and print the third element in the tuple\n",
    "print(simpletuple[2])"
   ]
  },
  {
   "cell_type": "markdown",
   "id": "40ccdb94-3009-4d54-a026-ce21f38ced6b",
   "metadata": {},
   "source": [
    "Rather than indexing every time we want a specific element from a tuple we can also extract each element into its own variable, effectively naming that element of the tuple. Notice here the LHS has the right number of variables to extract each element into its own individual variable; if this is not the case an error well be raised telling you there were \"Too many values to unpack\"."
   ]
  },
  {
   "cell_type": "code",
   "execution_count": null,
   "id": "971daba2-68e8-433f-b533-15585dc90994",
   "metadata": {},
   "outputs": [],
   "source": [
    "# Define a new tuple of strings\n",
    "name = ('Bruce', 'Batman', 'Wayne')\n",
    "print(name)\n",
    "\n",
    "# `Name' (assign to a variable) each element of the tuple\n",
    "firstname, superHeroName, lastname = name\n",
    "print(firstname)"
   ]
  },
  {
   "cell_type": "markdown",
   "id": "54daab92-1ed1-447f-a833-34f6e9e6680b",
   "metadata": {},
   "source": [
    "Quick understanding test: What happens if you leave out the quotation marks around Bruce? What is Python confused about?\n",
    "\n",
    "Since we \"unpacked\" the tuple we can now use the variables containing the individual elements of the tuple."
   ]
  },
  {
   "cell_type": "code",
   "execution_count": null,
   "id": "240fadc7-9458-447c-a0dd-5dbd89b95887",
   "metadata": {},
   "outputs": [],
   "source": [
    "print(\"*Gruff Voice* I am \" + superHeroName)"
   ]
  },
  {
   "cell_type": "markdown",
   "id": "dd23baaf-4fc4-41fe-9ad8-c68228546b4d",
   "metadata": {},
   "source": [
    "As with a string, we can slice the tuple to extract a range of elements, here the first and second. Lists can be sliced in exactly the same way."
   ]
  },
  {
   "cell_type": "code",
   "execution_count": null,
   "id": "5f79a5fb-3820-49ef-8edc-d02192b12662",
   "metadata": {},
   "outputs": [],
   "source": [
    "# Extract the first and second element of the tuple and print\n",
    "print(name[0:2])"
   ]
  },
  {
   "cell_type": "markdown",
   "id": "55548178-3eae-435d-9f49-44133374c34d",
   "metadata": {},
   "source": [
    "We can also combine all of these together along with some string slicing (remember what adding strings together is called?)."
   ]
  },
  {
   "cell_type": "code",
   "execution_count": null,
   "id": "d24c091c-f3b8-46bf-8739-05718d8b08d3",
   "metadata": {},
   "outputs": [],
   "source": [
    "print(\"*Gruff Voice* I am \" + name[0] + \" \" + lastname[0:2] + \"... I mean \" + superHeroName)"
   ]
  },
  {
   "cell_type": "markdown",
   "id": "c71be921-865c-42a5-99a5-8f9336d6cf75",
   "metadata": {},
   "source": [
    "## Lists\n",
    "\n",
    "Lists, unlike tuples, are mutable, so can be edited. This means they tend to be used a lot more than tuples. Lists are defined by using square brackets `[ ]` with elements separated by commas (just as in a tuple).\n",
    "\n",
    "Lists have a number of useful methods built into them. (A method is a function used by putting a dot after a variable.) These include:\n",
    "- `append` - adds an element to the end of a list.\n",
    "- `extend` - add a list of elements to the end of a list.\n",
    "- `insert` - allows you to add an element at a given position.\n",
    "- `pop` - removes and returns an element at a given position.\n",
    "- `remove` - removes and **does not** return a given value from the list. Errors if the value does not exist.\n",
    "\n",
    "We'll cover each of these in examples shortly.\n",
    "\n",
    "### `len`\n",
    "\n",
    "Another very useful function is `len`, which will return the number of elements in a list."
   ]
  },
  {
   "cell_type": "code",
   "execution_count": null,
   "id": "ebd525f4-5a9d-402b-8251-67f2a25f8813",
   "metadata": {},
   "outputs": [],
   "source": [
    "# Define a list\n",
    "alist = [2, 4, 6]\n",
    "\n",
    "len(alist)  # get the length of the list"
   ]
  },
  {
   "cell_type": "markdown",
   "id": "6ce2edf1-b7dd-4f77-a194-61775a601e36",
   "metadata": {},
   "source": [
    "This also works for any data structure or with strings. \n",
    "\n",
    "We can also convert between lists, tuples, and strings (and indeed any other Python data structure) freely by wrapping the object in the corresponding function as shown below. However, notice that going from a list/tuple to a string does not return the original string!"
   ]
  },
  {
   "cell_type": "code",
   "execution_count": null,
   "id": "714e56f7-bf62-40e1-a4c1-3eb23bb9ed76",
   "metadata": {},
   "outputs": [],
   "source": [
    "# Get the length of a string\n",
    "print(len(\"python\"))\n",
    "\n",
    "# Convert the string to a list\n",
    "str_2_list = list(\"python\")\n",
    "print(str_2_list)\n",
    "\n",
    "# Convert the list to a tuple\n",
    "list_2_tup = tuple(str_2_list)\n",
    "print(list_2_tup)\n",
    "\n",
    "# Show that converting a list to a string does not return the original string\n",
    "print(str(list_2_tup))\n",
    "\n",
    "# Get the length of a tuple\n",
    "print(len(list_2_tup))"
   ]
  },
  {
   "cell_type": "markdown",
   "id": "6a16cd05-ed15-485a-97fd-5e775c74bb42",
   "metadata": {},
   "source": [
    "Just like strings and tuples, lists can be indexed and sliced to extract certain elements."
   ]
  },
  {
   "cell_type": "code",
   "execution_count": null,
   "id": "c9c1a489-a6dc-4823-ab1c-7c92458963e7",
   "metadata": {},
   "outputs": [],
   "source": [
    "# Print the 3rd element in the list\n",
    "print(alist[2])\n",
    "\n",
    "# Print the first two elements in the list\n",
    "print(alist[:2])"
   ]
  },
  {
   "cell_type": "markdown",
   "id": "67867cab-3b2e-4c91-92fe-bc846bd88c0b",
   "metadata": {},
   "source": [
    "## Appending and extending lists\n",
    "\n",
    "If we want to add values to the end of our list we can use either the `append` or `extend` methods. The former adds a single entry while the latter adds multiple values from another data structure. "
   ]
  },
  {
   "cell_type": "code",
   "execution_count": null,
   "id": "d216ac9d-5294-4816-84e7-82889bf663ae",
   "metadata": {},
   "outputs": [],
   "source": [
    "print(\"Before appending:\", alist)\n",
    "\n",
    "# Append 10 to the end of the list \n",
    "# (add an element to the end) \n",
    "alist.append(10) \n",
    "\n",
    "print(\"After appending:\", alist)\n",
    "\n",
    "# Define another list to extend alist\n",
    "another_list = [12, 13, 14]\n",
    "\n",
    "# Extend the list with multiple elements\n",
    "alist.extend(another_list) \n",
    "\n",
    "print(\"After extending:\", alist)"
   ]
  },
  {
   "cell_type": "markdown",
   "id": "7eaa837f-5cdb-49b0-b5a7-211883af81a2",
   "metadata": {},
   "source": [
    "## Inserting values\n",
    "\n",
    "Instead of adding elements to the end of a list, you may want to put them in a specific location. To do this we use the `insert` method which takes 2 arguments: first the index at which to insert (shifting back any elements after that index), and second the value to insert.\n",
    "\n",
    "Here is an example of the use of the insert method compared to simply overwriting elements in the list."
   ]
  },
  {
   "cell_type": "code",
   "execution_count": null,
   "id": "6d548ea1-2b8d-46b9-b115-2ae1b97f629d",
   "metadata": {},
   "outputs": [],
   "source": [
    "# Insert 8 into the 4th element (index 3) within the list\n",
    "alist.insert(3, 8)\n",
    " \n",
    "print(alist)\n",
    "\n",
    "# Instead, overwrite the 4th element\n",
    "alist[3] = 7\n",
    "\n",
    "print(alist)"
   ]
  },
  {
   "cell_type": "markdown",
   "id": "3be0113b-e618-4205-8c92-639f0e32201d",
   "metadata": {},
   "source": [
    "If we want to overwrite a range of values with another list of values we can simply assign to the slice."
   ]
  },
  {
   "cell_type": "code",
   "execution_count": null,
   "id": "f0c60bae-965e-47f3-bd68-a3808f108c4a",
   "metadata": {},
   "outputs": [],
   "source": [
    "# Overwrite elements 3 and 4 (index 2 and 3) with strings\n",
    "alist[2:5] = [\"Something\", \"to\", \"add\"]\n",
    "\n",
    "print(alist)"
   ]
  },
  {
   "cell_type": "markdown",
   "id": "46fdf955-c10f-4b65-8a82-a6873e247407",
   "metadata": {},
   "source": [
    "Notice that here we have mixed data types in the list. This is the case in any Python data structure, there is no rule stating all values must be the same type in a data structure."
   ]
  },
  {
   "cell_type": "markdown",
   "id": "da160360-c374-4624-9494-e0e3c516c111",
   "metadata": {},
   "source": [
    "## Removing items from a list\n",
    "\n",
    "We can remove values from a list using the `remove` method. However, note that this will error if the value does not exist in the list."
   ]
  },
  {
   "cell_type": "code",
   "execution_count": null,
   "id": "b67228d6-6507-4784-a38f-2055e071a288",
   "metadata": {},
   "outputs": [],
   "source": [
    "# Remove the strings we just added\n",
    "alist.remove(\"Something\")\n",
    "print(alist)\n",
    "alist.remove(\"to\")\n",
    "print(alist)\n",
    "alist.remove(\"remove\")"
   ]
  },
  {
   "cell_type": "markdown",
   "id": "2f86b119-4466-4d4f-b856-dabaf8249def",
   "metadata": {},
   "source": [
    "## String, List, and Tuple Manipulations: A Summary\n",
    "\n",
    "I have not given a complete run down of everything you can do with strings, lists, and tuples, but I have hopefully sufficiently covered the basic and most common usage. Below is a table summarising all the different methods and functions which can be applied to these objects.\n",
    "\n",
    "| Operator          | Description                                   |\n",
    "|-------------------|-----------------------------------------------|\n",
    "| **For use with strings, tuples, and lists:** |\n",
    "| `a + b`           | Joins items together                         |\n",
    "| `a[i:j]`          | Outputs elements from *i* to *j*-1 of *a*   |\n",
    "| `a[i]`            | Outputs *i*-th element of *a*               |\n",
    "| `x * a`           | Produces *x* copies of *a*                  |\n",
    "| `len(a)`          | Outputs length of *a*                       |\n",
    "| **For use with a tuple or a list only:** |\n",
    "| `min(a)`          | Outputs minimum value in *a*                |\n",
    "| `max(a)`          | Outputs maximum value in *a*                |\n",
    "| `x in a`          | Outputs true if element *n* is in *a*       |\n",
    "| **For use with lists only:** |\n",
    "| `a.append(x)`     | Adds element *x* to list *a* at the end     |\n",
    "| `a.extend(x_list)`| Adds the elements in *x_list* to list *a* at the end |\n",
    "| `a.insert(n,x)`   | Adds element *x* to list *a* in position *n* |\n",
    "| `a.pop(x_list)`   | Removes and returns an element at a given position |"
   ]
  },
  {
   "cell_type": "markdown",
   "id": "1e179cd2-0b91-4d9a-bde5-1e7590948336",
   "metadata": {},
   "source": [
    "## Exercises\n",
    "\n",
    "1. Create a tuple variable `top5` with 5 elements containing your favourite animals.\n",
    "    - Check if `dog' is in your tuple, such that it displays `True` or `False`.\n",
    "    - Print the 3$^{\\text{rd}}$ item in your tuple.\n",
    "\n",
    "2. Create a list called `mylist` containing 10 numbers.\n",
    "    - Print the length of the list.\n",
    "    - Print the minimum value in the list.\n",
    "    - Print the maximum value in the list.\n",
    "    - Add the number 14 to your list of numbers and print the new length, minima and maxima.\n",
    "    - Insert (using the insert function) the number 8 to the 9$^{th}$ place in the list.\n",
    "    - Print the elements 5 through 9 (i.e. 5 numbers) in your list. Note the last element printed should be 8."
   ]
  },
  {
   "cell_type": "code",
   "execution_count": null,
   "id": "bc8b5c21-cbc1-4639-ac48-6d7019558135",
   "metadata": {},
   "outputs": [],
   "source": []
  },
  {
   "cell_type": "code",
   "execution_count": null,
   "id": "669e432d-4b0e-4c93-8846-51c65d79a623",
   "metadata": {},
   "outputs": [],
   "source": []
  },
  {
   "cell_type": "markdown",
   "id": "1567ab58-c875-4ece-b6f0-9b065ff0e28a",
   "metadata": {},
   "source": [
    "## A Return to the `is` Keyword\n",
    "\n",
    "Even when two variables contain the same elements `is` will return `False`. This is because the two variables are different instances of the Python object and are thus located at different memory addresses. As far as Python is concerned under the hood that means the two variables couldn't be more different, one **is not** the other."
   ]
  },
  {
   "cell_type": "code",
   "execution_count": null,
   "id": "2a3ec2f1-4265-460c-a89b-54fd372b21a8",
   "metadata": {},
   "outputs": [],
   "source": [
    "# Define new variables containing the same list\n",
    "list1 = [1, 2, 3]\n",
    "list2 = [1, 2, 3]\n",
    "list3 = list1  # Making an alias!\n",
    "\n",
    "# Test if list1 equals list2 and if it equals list3\n",
    "print(list1==list2, list1==list3)\n",
    "\n",
    "# Test if list1 is list2 and if it is list3\n",
    "print(list1 is list2, list1 is list3)"
   ]
  },
  {
   "cell_type": "markdown",
   "id": "3b72d0ed-9018-4d67-8663-b6662d4e41dc",
   "metadata": {},
   "source": [
    "If you **assign a list to a new variable** (this is called aliasing - like the example above) and edit the new variable you will be **editing the original**! This can really trip you up if you are not expecting it."
   ]
  },
  {
   "cell_type": "code",
   "execution_count": null,
   "id": "22528343-5041-496d-935d-41a68c4ca9b0",
   "metadata": {},
   "outputs": [],
   "source": [
    "print(list3)\n",
    "\n",
    "# Change the zeorth element of the alias\n",
    "list3[0] = 0\n",
    "\n",
    "print(list3)\n",
    "print(list1)"
   ]
  },
  {
   "cell_type": "markdown",
   "id": "bf05ef29-e5aa-4e69-a9e8-90ffd45c6a70",
   "metadata": {},
   "source": [
    "Above we only edited `list3` but ended up with `list1` changing too! To avoid this you can test using `is`. The same rules also stand for tuples, though remember they are immutable and can't be edited.\n",
    "\n",
    "Essentially the linked copy is just another name (an alias) for the original variable. To make an independent copy you can use the slice operator (but omit the start and end indices to take the whole list) or you can use the `copy` method."
   ]
  },
  {
   "cell_type": "code",
   "execution_count": null,
   "id": "19e80a0e-74f0-4eae-a656-11b1bd3a35b2",
   "metadata": {},
   "outputs": [],
   "source": [
    "# Define a list\n",
    "lst = ['Aliasing', 'causes', 'me', 'so', 'many', 'problems']\n",
    "\n",
    "# Create an alias for the list\n",
    "alias_lst = lst\n",
    "\n",
    "# Create a copy with each method\n",
    "lst_copy1 = lst[:]\n",
    "lst_copy2 = lst.copy()\n",
    "\n",
    "# Test if the list is equal to the alias and copies\n",
    "print(lst == alias_lst, lst == lst_copy1, lst == lst_copy2)\n",
    "\n",
    "# Test if the list is the alias and copies\n",
    "print(lst is alias_lst, lst is lst_copy1, lst is lst_copy2)"
   ]
  },
  {
   "cell_type": "markdown",
   "id": "ea008b7e-50f4-471a-a0f5-ce0c20e1dbbd",
   "metadata": {},
   "source": [
    "## Dictionaries\n",
    "\n",
    "Although not used heavily in this course, dictionaries are one of the most powerful data structures in \\texttt{Python}.\n",
    "\n",
    "The dictionary data type holds pairs of **keys** and **values**, and are defined using curly braces `{ }`. The key, value pairs are defined as items with commas and a key separated by a `:`.\n",
    "\n",
    "An example of how to create a dictionary can be seen below, it also shows how to retrieve information from a particular key using the indexing syntax you've already been introduced to. Note that the values do not need to be strings, they can be numbers, or even Python objects (as long as they are \"hashable\" which I will not go into but you'll see the error if you try something to isn't hashable).  "
   ]
  },
  {
   "cell_type": "code",
   "execution_count": null,
   "id": "2dbb5d22-e415-4e4a-a66d-4cca370c686b",
   "metadata": {},
   "outputs": [],
   "source": [
    "# Define a dictionary\n",
    "dictionary = {'key': 'value', 'another key': 'another value'}\n",
    "\n",
    "# Extract a value\n",
    "print(dictionary['key'])\n",
    "\n",
    "# Extract another value\n",
    "print(dictionary['another key'])"
   ]
  },
  {
   "cell_type": "markdown",
   "id": "80336239-6e23-42c4-a3c2-ca2cef78060b",
   "metadata": {},
   "source": [
    "A dictionary cannot have any repeating keys, however, it can have repeating values, i.e. different keys can point to the same value. "
   ]
  },
  {
   "cell_type": "code",
   "execution_count": null,
   "id": "9020d851-7346-4e24-b2b6-6f1423858e8c",
   "metadata": {},
   "outputs": [],
   "source": [
    "# Define a dictionary with 2 of the same key\n",
    "double_key = {'key':1, 'key':2}\n",
    "print(double_key)\n",
    "\n",
    "# Define a dictionary with 2 of the same value\n",
    "double_val = {'key1':2, 'key2':2}\n",
    "print(double_val)"
   ]
  },
  {
   "cell_type": "markdown",
   "id": "b8294c9d-3ec5-4fdf-9514-510513f457a7",
   "metadata": {},
   "source": [
    "From the example above, you can see that if there is a repeating key the last value will be taken. Below are some more examples of manipulating dictionaries.\n",
    "\n",
    "Here we reassign a string to an existing key overwriting the old value."
   ]
  },
  {
   "cell_type": "code",
   "execution_count": null,
   "id": "838fd6a1-b940-4ad6-9c0b-386098d95095",
   "metadata": {},
   "outputs": [],
   "source": [
    "# Define a new dictionary\n",
    "dictionary = {'key':'old', 'Hello':'World'}\n",
    "print(dictionary)\n",
    "\n",
    "# Overwrite the value of 'key'\n",
    "dictionary['key'] = 'new'\n",
    "dictionary['key']"
   ]
  },
  {
   "cell_type": "markdown",
   "id": "7916e609-3462-41a0-a4c3-d95171d05d98",
   "metadata": {},
   "source": [
    "We can delete a key using Python's `del` function. This function deletes what follows it from memory (technically only removes the label/memory address) and is not specific to dictionaries. If you have a list that is hogging memory, but you no longer need it you can free up that memory using the `del` function (sort of: memory management is a somewhat mystic art in Python, ask if you are interested)."
   ]
  },
  {
   "cell_type": "code",
   "execution_count": null,
   "id": "a0a3362d-1e1a-44d5-8850-84a4bef9e7aa",
   "metadata": {},
   "outputs": [],
   "source": [
    "# Delete the entry under the key 'Hello'\n",
    "del dictionary['Hello']\n",
    "dictionary"
   ]
  },
  {
   "cell_type": "markdown",
   "id": "222939f1-1662-4ae6-b6b2-bd9df345ba77",
   "metadata": {},
   "source": [
    "You can add new keys."
   ]
  },
  {
   "cell_type": "code",
   "execution_count": null,
   "id": "4a9fc904-10eb-426c-b2e2-a60ae2e0f7ea",
   "metadata": {},
   "outputs": [],
   "source": [
    "# Assign a new entry to the dictionary\n",
    "dictionary['Good'] = 'bye'\n",
    "dictionary"
   ]
  },
  {
   "cell_type": "markdown",
   "id": "59c4aa64-16ae-4afa-add5-9b2368831a9a",
   "metadata": {},
   "source": [
    "You can get the length of the dictionary which corresponds to the number of key, value pairs."
   ]
  },
  {
   "cell_type": "code",
   "execution_count": null,
   "id": "71a67d5e-1a17-4c91-b2ef-dc7f67d1d12d",
   "metadata": {},
   "outputs": [],
   "source": [
    "# Get the length of the dictionary\n",
    "len(dictionary)"
   ]
  },
  {
   "cell_type": "markdown",
   "id": "1e0adee1-4892-4584-8094-102095d29006",
   "metadata": {},
   "source": [
    "You can also wipe a dictionary completely without deleting the data structure itself."
   ]
  },
  {
   "cell_type": "code",
   "execution_count": null,
   "id": "867b45a8-abbb-4d30-ab2f-862941cb19a1",
   "metadata": {},
   "outputs": [],
   "source": [
    "# Wipe the contents of the dictionary\n",
    "dictionary.clear()"
   ]
  },
  {
   "cell_type": "markdown",
   "id": "77ae6607-b533-4550-b9b5-0fe54ca5a8c4",
   "metadata": {},
   "source": [
    "Below is a set of examples showing how you can access specific parts of a dictionary and interact with them.\n",
    "\n",
    "We can get a list containing the items."
   ]
  },
  {
   "cell_type": "code",
   "execution_count": null,
   "id": "b3664fcd-0e3d-4e92-9699-3774052ef4dd",
   "metadata": {},
   "outputs": [],
   "source": [
    "# Define 2 dictionaries for manipulation\n",
    "dict1 = {'Hello':'World','Good':'Bye'}\n",
    "dict2 = {'Game':'Over','You':'Lose'}\n",
    "\n",
    "# Get the items in a dictionary\n",
    "list(dict1.items())"
   ]
  },
  {
   "cell_type": "markdown",
   "id": "d597eafa-c98c-4681-8099-6b3b6a234fea",
   "metadata": {},
   "source": [
    "We can get a list containing the keys."
   ]
  },
  {
   "cell_type": "code",
   "execution_count": null,
   "id": "fb36f28e-b159-4326-8df7-a3b10add5f82",
   "metadata": {},
   "outputs": [],
   "source": [
    "# Get a list of the keys of a dictionary\n",
    "list(dict2.keys())"
   ]
  },
  {
   "cell_type": "markdown",
   "id": "6ddf47cc-0063-41ee-96ce-38cf362b68ad",
   "metadata": {},
   "source": [
    "We can get a list containing the values."
   ]
  },
  {
   "cell_type": "code",
   "execution_count": null,
   "id": "b9b8b306-1bc0-437c-aa68-51767eb3630a",
   "metadata": {},
   "outputs": [],
   "source": [
    "# Get a list of the values of a dictionary\n",
    "list(dict1.values())"
   ]
  },
  {
   "cell_type": "markdown",
   "id": "a947fe79-9862-4ce8-8693-5bb9a2fcfd27",
   "metadata": {},
   "source": [
    "We can test if a key is within a dictionary."
   ]
  },
  {
   "cell_type": "code",
   "execution_count": null,
   "id": "64a964eb-6ece-4607-9df5-2930c173d248",
   "metadata": {},
   "outputs": [],
   "source": [
    "# Test if 'Hello' is in either dictionary\n",
    "print('Hello' in dict1)\n",
    "print('Hello' in dict2)"
   ]
  },
  {
   "cell_type": "markdown",
   "id": "f3e32603-cdf2-406a-b168-40e9c9f14b0d",
   "metadata": {},
   "source": [
    "We can combine dictionaries with the update method."
   ]
  },
  {
   "cell_type": "code",
   "execution_count": null,
   "id": "bd20aba9-fb39-4354-af75-995dd41d5621",
   "metadata": {},
   "outputs": [],
   "source": [
    "# Combine the 2 dictionaries\n",
    "dict1.update(dict2)\n",
    "dict1"
   ]
  },
  {
   "cell_type": "markdown",
   "id": "d840437a-7130-48e8-aeb7-8f5e828a7073",
   "metadata": {},
   "source": [
    "The `.items()` method lists all the keys and values as tuples and the `.keys()` and `.values()` methods give the keys and values of the dictionary respectively. Note that all of these actually return Python objects called \"iterators\" rather than lists, hence why they are being converted to lists before being output in the above. \n",
    "\n",
    "In all of the above examples the `()` is important, this \"calls\" the methods - the `.keys`, etc. operations would not do anything without being called.\n",
    "\n",
    "The `.update()` method adds the keys and values from one dictionary to another. Note that when the same key exists in both dictionaries `update` will take the value from the dictionary being used to update (the one in the brackets)."
   ]
  },
  {
   "cell_type": "markdown",
   "id": "2146bbff-27be-46a4-aae4-9aab00afb604",
   "metadata": {},
   "source": [
    "## Advanced Exercises - Some independent learning may be required\n",
    "\n",
    "1. Print out \"Hello World\" so it looks like this using only one print command:\n",
    "```\n",
    "Out [1]: Hello\n",
    "         World!\n",
    "```"
   ]
  },
  {
   "cell_type": "markdown",
   "id": "73797d15-1ea7-4b1d-9d80-2242ed0fe2e2",
   "metadata": {},
   "source": [
    "<details>\n",
    "  <summary>Hint</summary> \n",
    "    Find out how to insert a \"line break\". Remember google is your friend!\n",
    "</details>"
   ]
  },
  {
   "cell_type": "markdown",
   "id": "2e062de8-2752-494e-9b8c-f9fa9cd20292",
   "metadata": {},
   "source": [
    "2. Given the diameter of the Sun is 1,391,000 km, print out the time in years (as an integer) it would take to drive around the Sun's circumference at 100 kilometres per hour. (Take $\\pi$ as 3.141)\n",
    "3. Create a string variable called `animal` and assign a string with an animal's name to it. Using one print command print `animal` on five different lines.\n",
    "4. Create a list called colours, containing two elements \"red\" and \"green\".\n",
    "    - Add \"blue\" and \"yellow\" to the list, put it in alphabetical order, and print it.\n",
    "    - Remove \"yellow\" from the list.\n",
    "    - Print the list in reverse."
   ]
  },
  {
   "cell_type": "markdown",
   "id": "f8cf3e01-2221-48cf-94e0-d5dd08f685c6",
   "metadata": {},
   "source": [
    "<details>\n",
    "  <summary>Hint</summary> \n",
    "    Remember google is your friend! How do you reverse a list?\n",
    "</details>"
   ]
  },
  {
   "cell_type": "markdown",
   "id": "53725b15-9b7d-4d8e-8c5f-4cc3439997b8",
   "metadata": {},
   "source": [
    "4. (cont)\n",
    "    - Make an independent copy of `colours` called `RGB'\n",
    "    - Add `yellow' back to colours.\n",
    "    - Print `colours=` and `RGB=`, note: `colours` should contain one more entry than `RGB`.\n",
    "    - Show (using a Boolean) that `colours` and `RGB` are not equal in length.\n",
    "\n",
    "6. Create a tuple called `words` containing 5 words of your choice and print the elements.\n",
    "    - Using the slice operator, slice words such that the second and third words are printed.\n",
    "    - Find an alternate slicing method to produce the same result as above."
   ]
  },
  {
   "cell_type": "code",
   "execution_count": null,
   "id": "fe495e9c-2bb5-47ad-853b-153d3111f810",
   "metadata": {},
   "outputs": [],
   "source": []
  }
 ],
 "metadata": {
  "kernelspec": {
   "display_name": "Python 3 (ipykernel)",
   "language": "python",
   "name": "python3"
  },
  "language_info": {
   "codemirror_mode": {
    "name": "ipython",
    "version": 3
   },
   "file_extension": ".py",
   "mimetype": "text/x-python",
   "name": "python",
   "nbconvert_exporter": "python",
   "pygments_lexer": "ipython3",
   "version": "3.10.4"
  }
 },
 "nbformat": 4,
 "nbformat_minor": 5
}

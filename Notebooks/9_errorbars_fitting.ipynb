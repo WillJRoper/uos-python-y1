{
 "cells": [
  {
   "cell_type": "markdown",
   "metadata": {},
   "source": [
    "# Plotting Errorbars and Simple Fitting\n",
    "\n",
    "## Learning Outcomes\n",
    "\n",
    "By the end of this notebook you should:\n",
    "\n",
    "- Be able to control the style of scatter plots.\n",
    "- Be able to plot errorbars.\n",
    "- Be able to contorl the style of errorbars.\n",
    "- Be able to perform simple fitting.\n",
    "\n",
    "## Plotting data with error bars\n",
    "\n",
    "## Data points\n",
    "\n",
    "In the plotting [notebook](7_plotting.ipynb) you were introduced to some basic plotting with the `matplotlib` library. In addition, the last [notebook](8_pandas.ipynb) already showed an example of the scatter plot function. In this notebook we will expand on this, showing some basic tools for handling and fitting data in Python with the help of `pandas` to interface with data.\n",
    "\n",
    "However, to begin with we are going to create some random data to plot. Unlike the random numbers we have generated previously, here we will use the `numpy.random` sub-module. We will cover this in greater detail in future notebooks. The reason for the switch up is that we now want multiple of random values not just individual values. This is much more easily achieved with `numpy` than `random`."
   ]
  },
  {
   "cell_type": "code",
   "execution_count": null,
   "metadata": {},
   "outputs": [],
   "source": [
    "import numpy as np\n",
    "import matplotlib.pyplot as plt\n",
    "\n",
    "# Set the seed so that we all get the same result.\n",
    "np.random.seed(1234)\n",
    "\n",
    "# Create random data for x and y\n",
    "x_data = np.random.random_sample(100)\n",
    "y_data = np.random.random_sample(100)\n",
    "\n",
    "# Plot the random data\n",
    "plt.figure()\n",
    "plt.scatter(x_data,y_data,marker='x',color='r')\n",
    "plt.show()\n"
   ]
  },
  {
   "cell_type": "markdown",
   "metadata": {},
   "source": [
    "In the cell above we've simply generated some random data and plotted it with red (`color=\"r\"`) crosses (`marker=\"x\"`). There are lots of color and marker options available, below is a selection of possible marker and color options available to most `matplotlib` functions.\n",
    "\n",
    "| Marker/Color | Description  |\n",
    "|--------------|--------------|\n",
    "| **Colors:**  |              |\n",
    "| b            | blue         |\n",
    "| g            | green        |\n",
    "| r            | red          |\n",
    "| c            | cyan         |\n",
    "| m            | magenta      |\n",
    "| y            | yellow       |\n",
    "| k            | black        |\n",
    "| w            | white        |\n",
    "| **Markers:** |              |\n",
    "| s            | square       |\n",
    "| p            | pentagon     |\n",
    "| *            | star         |\n",
    "| h            | hexagon      |\n",
    "| o            | circle       |\n",
    "| +            | plus         |\n",
    "| x            | cross        |\n",
    "| D            | diamond      |\n",
    "| -            | line         |\n",
    "\n",
    "### Plotting error bars\n",
    "\n",
    "`matplotlib` also allows you to plot error bars using the `errorbar` function instead of `plot` or `scatter`. Below are a few examples of the different ways you can plot error bars for different situations.\n",
    "\n",
    "If you have symmetrical errors on each point (upper and lower errors are the same) and the error is the same on all data points you can just pass those values to `xerr` and `yerr` (the keyword arguments for the errors).\n"
   ]
  },
  {
   "cell_type": "code",
   "execution_count": null,
   "metadata": {},
   "outputs": [],
   "source": [
    "\n",
    "plt.figure()\n",
    "plt.errorbar(\n",
    "        x_data, \n",
    "        y_data, \n",
    "        yerr=0.05, \n",
    "        xerr=0.05, \n",
    "        fmt='ro', \n",
    "        ecolor=\"k\", \n",
    "        capsize=2\n",
    ")\n",
    "plt.show()"
   ]
  },
  {
   "cell_type": "markdown",
   "metadata": {},
   "source": [
    "There are a few new keyword arguments in the above code. The `fmt` argument defines the \"marker format\" (a combination of `color` and `marker`), where `r` denotes the color red, and the `o` denotes circle markers (my personal preference is for using `color` and `marker` explictly but then you also need to set the linestyle explictly to `\"none\"`). For the errorbar color, we use the `ecolor` argument. The `capsize` argument` is an optional choice, that sets the size of the little orthogonal bars on the end of each error bar. Feel free to play around with these settings.\n",
    "\n",
    "If you have symetrical errors, but each data point has a different error you can instead pass multiple values (a list or, as used here, an array. More on these later) for the errors."
   ]
  },
  {
   "cell_type": "code",
   "execution_count": null,
   "metadata": {},
   "outputs": [],
   "source": [
    "# Get random errors for the x axis \n",
    "xerr = np.random.random_sample(100)/10\n",
    "yerr = np.random.random_sample(100)/10\n",
    "        \n",
    "# Plot the result\n",
    "plt.figure()\n",
    "plt.errorbar(\n",
    "        x_data,\n",
    "        y_data,\n",
    "        yerr=yerr,\n",
    "        xerr=xerr,\n",
    "        color=\"red\",\n",
    "        marker=\"o\",\n",
    "        linestyle=\"none\",\n",
    "        ecolor=\"k\",\n",
    "        capsize=2\n",
    ")\n",
    "plt.show()\n"
   ]
  },
  {
   "cell_type": "markdown",
   "metadata": {},
   "source": [
    "Finally, if the errors are not symmetrical (they have different upper and lower values) and differ for each point, you can pass a list of two arrays. The first for the lower error and the second for the upper error."
   ]
  },
  {
   "cell_type": "code",
   "execution_count": null,
   "metadata": {},
   "outputs": [],
   "source": [
    "\n",
    "# Get random upper and lower errors for both x and y\n",
    "xerr = [np.random.random_sample(100)/10,\n",
    "        np.random.random_sample(100)/10]\n",
    "yerr = [np.random.random_sample(100)/10,\n",
    "        np.random.random_sample(100)/10]\n",
    "        \n",
    "# Plot the result\n",
    "plt.figure()\n",
    "plt.errorbar(\n",
    "        x_data,\n",
    "        y_data,\n",
    "        yerr=yerr,\n",
    "        xerr=xerr,\n",
    "        color=\"red\",\n",
    "        marker=\"o\",\n",
    "        linestyle=\"none\",\n",
    "        ecolor=\"k\",\n",
    "        capsize=2\n",
    ")\n",
    "plt.show()\n"
   ]
  },
  {
   "cell_type": "markdown",
   "metadata": {},
   "source": [
    "## Exercises\n",
    "\n",
    "1. Create a range from $0$ to $5$ with steps of $0.01$. Then apply the function $f(t)= t\\sin(10t)$ and plot with data points as yellow stars.\n",
    "2. Plot the following data with its associated errors, with the data point as blue diamonds and error bar colour as green:\n",
    "    - `y = [1.474, 1.021, 0.506]`\n",
    "    - `x = [0.00400, 0.00270, 0.00120]`\n",
    "    - `x_lower = [0.001, 0.0002, 0.0003]`\n",
    "    - `x_upper = [0.001, 0.001, 0.001]`\n",
    "    - `y_lower = [0.003, 0.002, 0.003]`\n",
    "    - `y_upper = [0.004, 0.004, 0.01]`\n",
    "3. Using your DataFrame from the `pandas` [notebook](8_pandas.ipynb) (the one with the calculated errors that you saved in the Exercises), plot `\"Mean_y\"`` against `\"Mean_X\"` with your calculated error bars. Limit the $x$ axis between 0 and 12 and select a nice marker and color combination. (Note that in the previous notebook we set `ecolor` to differ from the markers, you rarely see this in publications... for obvious reasons, its pretty ugly!)\n",
    "4. Plot $y=sin(x)$ with the $x$ being a range from $0$ to $5$ with increments of $0.1$, with y-error = $0.5$, x-error = $0$.\n",
    "5. Plot $y=sin(x)$ with the $x$ being a range from $0$ to $5$ with increments of $0.1$, with y-upper-error = $+0.5$, y-lower-error = $-2$, x-error = $0$.  With the data points being in red and the error bar coloured green.\n",
    "6. Using the file containing Exoplanet data `PythonExampleCSVfile2.csv`, plot Semi-Major axis (AU) vs. Orbital Period (day). Apply the associated errors, again select a nice marker and color combination. Label each axis and add a title. The table below describes the data stored in this CSV file.\n",
    "\n",
    "\n",
    "| Column    | Description             |\n",
    "|-----------|-------------------------|\n",
    "| Column A: | name                    |\n",
    "| Column B: | X (Semi-Major axis)    |\n",
    "| Column C: | X error                |\n",
    "| Column D: | Y (Orbital period)     |\n",
    "| Column E: | Y lower error bound    |\n",
    "| Column F: | Y upper error bound    |\n"
   ]
  },
  {
   "cell_type": "code",
   "execution_count": null,
   "metadata": {},
   "outputs": [],
   "source": []
  },
  {
   "cell_type": "code",
   "execution_count": null,
   "metadata": {},
   "outputs": [],
   "source": []
  },
  {
   "cell_type": "code",
   "execution_count": null,
   "metadata": {},
   "outputs": [],
   "source": []
  },
  {
   "cell_type": "code",
   "execution_count": null,
   "metadata": {},
   "outputs": [],
   "source": []
  },
  {
   "cell_type": "code",
   "execution_count": null,
   "metadata": {},
   "outputs": [],
   "source": []
  },
  {
   "cell_type": "code",
   "execution_count": null,
   "metadata": {},
   "outputs": [],
   "source": []
  },
  {
   "cell_type": "markdown",
   "metadata": {},
   "source": [
    "## Fitting *simple* straight lines to data\n",
    "\n",
    "There are numerous ways of fitting lines to data in Python, we'll cover some more robust methods towards the end. Here we'll use a simple fitting function provided by `numpy` for fitting polynomials, here a 1st order polynomial (a straight line).\n"
   ]
  },
  {
   "cell_type": "code",
   "execution_count": null,
   "metadata": {},
   "outputs": [],
   "source": [
    "\n",
    "# Generate mock data to fit\n",
    "x = [1, 2, 3, 4, 5, 6, 7, 8] \n",
    "y = [1.5, 2, 3.6, 4, 5, 6.7, 7.45, 8.1]\n",
    "\n",
    "# Using numpy, fit the line with a first order polynomial\n",
    "coeff = np.polyfit(x, y, 1) \n",
    "poly_func = np.poly1d(coeff)\n",
    "\n",
    "# Some x values to plot the fit with\n",
    "x_fit = np.linspace(0, 10, 100)\n",
    "\n",
    "# And plot the results\n",
    "plt.figure()\n",
    "plt.plot(x, y, color=\"r\", marker=\"o\", linestyle=\"none\", label='Data' )\n",
    "plt.plot(x_fit, poly_func(x_fit), label='Best fit line') \n",
    "plt.legend(loc=\"best\") \n",
    "plt.show()\n"
   ]
  },
  {
   "cell_type": "markdown",
   "metadata": {},
   "source": [
    "\n",
    "Here I've have introduced yet another plotting capability! Here we are using the `label` argument to label the fit and data points. Then by using the `legend` method a legend is added to the plot showing these labels. Lets go through the rest of the example:\n",
    "\n",
    "- We define some `x`` and `y` data as lists. \n",
    "\n",
    "- Next we call the `polyfit`` function which takes the `x` and `y` data to compute the coefficients for an 'n' degree polynomial (here $n=1$). For higher order polynomials we can simply pass a larger value to the final argument (see the example below).\n",
    "\n",
    "- The resulting coefficients (here the slope of the line and the intercept) are then assigned to a variable called `coeff`. \n",
    "\n",
    "- The next command `poly1d` converts the `polyfit` output to a polynomial function in the form $ax^{n}+bx^{n-1}+...+cx+d$. We can see what this function contains by printing it.\n"
   ]
  },
  {
   "cell_type": "code",
   "execution_count": null,
   "metadata": {},
   "outputs": [],
   "source": [
    "print(poly_func)"
   ]
  },
  {
   "cell_type": "markdown",
   "metadata": {},
   "source": [
    "\n",
    "\n",
    "- The `linspace` function creates an array to evaluate the fit, similar to `arange` that we've used before. The general syntax for `linspace` is `linspace(start, end, n_elements)`, where the array runs from `start` to `end` (**inclusive of `end`**) using `n_elements` evenly spaced values. \n",
    "\n",
    "- We then plot the `x` and `y` data and evaluate the fitting function (`poly_func`) at the `x_fit` values and plot a line. Notice here that we have not used the scatter function and instead told `plot` to use markers and a no line for the data. There is nothing wrong with this approach, although scatter offers more options when things get a bit more complex.\n",
    "\n",
    "- Finally, as mentioned above, the `legend` function uses the labels from the plots and draws a legend. We hav eused the `loc` argument to define the legend's location, in this case `\"best\"` means it places the legend in the best location (which avoids the data). The default location is indeed `\"best\"`, but as previously mentioned it's good to be specific!\n",
    "\n",
    "Just to demonstrate: We can get a \"better\" (but meaningless) fit to this (entirely fake) data by using a higher order polynomial.\n"
   ]
  },
  {
   "cell_type": "code",
   "execution_count": null,
   "metadata": {},
   "outputs": [],
   "source": [
    "# Using numpy, fit the line with a sixth order polynomial\n",
    "coeff = np.polyfit(x, y, 6) \n",
    "poly_func = np.poly1d(coeff)\n",
    "print(poly_func)\n",
    "\n",
    "# Some x values to plot the fit with\n",
    "x_fit = np.linspace(1, 8, 100)\n",
    "\n",
    "# And plot the results\n",
    "plt.figure()\n",
    "plt.plot(x, y, color=\"r\", marker=\"o\", linestyle=\"none\", label='Data' )\n",
    "plt.plot(x_fit, poly_func(x_fit), label='Best fit line') \n",
    "plt.legend(loc=\"best\") \n",
    "plt.show()"
   ]
  },
  {
   "cell_type": "markdown",
   "metadata": {},
   "source": [
    "\n",
    "## Exercises\n",
    "1. Plot the following $x$ and $y$ data against each other. Use `polyfit`` to fit a line of best fit as a green dashed line and add a legend. Try to find the lowest order polynomial which fits the data well. You can just decide by eye which is the best fit, no need to quantify it just yet.\n",
    "```\n",
    "    x = 0.0, 0.5, 1.0, 1.5, 2.0, 2.5, 3.0, 3.5, 4.0, 4.5, 5.0, 5.5, 6.0, 6.5, 7.0, 7.5, 8.0, 8.5, 9.0, 9.5.\n",
    "    y = -0.23, 0.53, 3.8, -3.16, -7.45, -11.76, 2.38, -14.65, 12.64, -13.2, 2.99, 21.08, -3.48, 26.74, -19.49, 8.03, -4.63, -49.06, 29.73, 54.69\n",
    "```\n",
    "2. Fitting noisy data (some research necessary):\n",
    "    - Plot $f(x)=2x^2+6$ in the range $x \\in [-5,5]$. \n",
    "    - Add random Gaussian noise to $f(x)$ with $\\mu=0,\\sigma=|x|$ without using loops.\n",
    "    - Fit a 2nd order polynomial to your altered $f(x)$.\n",
    "    - Plot the residuals between your fit and $f(x)$ (fit $-$ data).\n"
   ]
  },
  {
   "cell_type": "code",
   "execution_count": null,
   "metadata": {},
   "outputs": [],
   "source": []
  },
  {
   "cell_type": "code",
   "execution_count": null,
   "metadata": {},
   "outputs": [],
   "source": []
  }
 ],
 "metadata": {
  "kernelspec": {
   "display_name": ".venv",
   "language": "python",
   "name": "python3"
  },
  "language_info": {
   "codemirror_mode": {
    "name": "ipython",
    "version": 3
   },
   "file_extension": ".py",
   "mimetype": "text/x-python",
   "name": "python",
   "nbconvert_exporter": "python",
   "pygments_lexer": "ipython3",
   "version": "3.10.4"
  }
 },
 "nbformat": 4,
 "nbformat_minor": 2
}

{
 "cells": [
  {
   "cell_type": "markdown",
   "metadata": {},
   "source": [
    "# Working with units in Python\n",
    "\n",
    "As physicists we almost exclusively solve problems with physical interpretations and therefore dimensions and units. Whether coding or working on paper we need to ensure our calculations use and produce the correct units! Thankfully there are a couple packages we can use to include units in our calculations. These packages not only provide our answers with the correct units, meaning we can always be sure our equations are dimensionally correct, they can also capture situations where we try to combine incompatible units.\n",
    "\n",
    "There are two packages that enable the inclusion of units: `astropy` and `unyt`. Both are very similar in what they include and how they can be used.\n",
    "\n",
    "## `astropy.units`\n",
    "\n",
    "`astorpy` ([docs here](https://www.astropy.org/)) is actually a much larger package than just the units submodule. It contains a lot of cosmological functionality, general astrophysical calculations, units and constants. It is an incredible useful package in its own right and the non-unit functionality is unique to it. However, my personal preference is not to use its `units` submodule (but note that you may see it used). Instead I use...\n",
    "\n",
    "## `unyt`\n",
    "\n",
    "`unyt` ([docs here]((https://unyt.readthedocs.io/en/stable/index.html)) is a module focused on units and in my opinion its implementation is cleaner, it has some nice quality of life features, and its documentation is much more user friendly. I'll focus on `unyt` in this notebook but do note that a lot of the syntax and functionality is the same for both `astropy` and `unyt`.\n",
    "\n",
    "### Installing packages\n",
    "\n",
    "This is the first package you've encountered that is not packaged in Anaconda as standard. We will have to install it. To do so we can use the Python package manager (`pip`). Anaconda comes prepackaged with a lot of packages but you'll often find yourself needing to install extras. This is an easy process, either on the command line or in a Jupyter cell we can just invoke `pip install` followed by the package name. \n",
    "\n"
   ]
  },
  {
   "cell_type": "code",
   "execution_count": null,
   "metadata": {},
   "outputs": [],
   "source": [
    "!pip install unyt"
   ]
  },
  {
   "cell_type": "markdown",
   "metadata": {},
   "source": [
    "Note that here I've included a `!`, this is specific to using a Jupyter notebook and tells it to run the code on the command line. There's no need to include a `!` on the command line.\n",
    "\n",
    "## Using unyt in calculations\n",
    "\n",
    "To use `unyt` we can simply import the units we want from the package and multiple a value or variable by a unit to associated them. \n",
    "\n",
    "For example..."
   ]
  },
  {
   "cell_type": "code",
   "execution_count": null,
   "metadata": {},
   "outputs": [],
   "source": [
    "from unyt import kg, km, s\n",
    "\n",
    "# Define a mass and velocity\n",
    "mass = 10 * kg\n",
    "vel = 50 * km / s\n",
    "\n",
    "print(f\"m = {mass}, v = {vel}\")"
   ]
  },
  {
   "cell_type": "markdown",
   "metadata": {},
   "source": [
    "That's all well and good but what makes this really useful is these units are carried through calculations. In the cell below we will calculate kinetic energy to demonstrate this."
   ]
  },
  {
   "cell_type": "code",
   "execution_count": null,
   "metadata": {},
   "outputs": [],
   "source": [
    "# Calculate the kinetic energy\n",
    "kin_nrg = 0.5 * mass * vel ** 2\n",
    "\n",
    "print(kin_nrg)"
   ]
  },
  {
   "cell_type": "markdown",
   "metadata": {},
   "source": [
    "### The `to` function\n",
    "\n",
    "Of course, what's been printed in the above isn't particularly helpful since it's still in the input units. We know this should really be in the compound unit Joules.\n",
    "\n",
    "Thankfully, `unyt` provides a function to convert units and apply the conversion to the value they are attached to. This is the `to` function. To use it we simply do `<varibale_with_units>.to(<new_unit>)`."
   ]
  },
  {
   "cell_type": "code",
   "execution_count": null,
   "metadata": {},
   "outputs": [],
   "source": [
    "# Convert to Joules\n",
    "kin_nrg.to(\"J\")"
   ]
  },
  {
   "cell_type": "markdown",
   "metadata": {},
   "source": [
    "Notice here we didn't import `J` at any point. If you want to convert to a unit you can pass it as a string or a variable. "
   ]
  },
  {
   "cell_type": "code",
   "execution_count": null,
   "metadata": {},
   "outputs": [],
   "source": [
    "from unyt import J\n",
    "\n",
    "\n",
    "# Convert to Joules (with the J object)\n",
    "kin_nrg.to(J)"
   ]
  },
  {
   "cell_type": "markdown",
   "metadata": {},
   "source": [
    "In fact, we can freely convert to any set of compatible units. "
   ]
  },
  {
   "cell_type": "code",
   "execution_count": null,
   "metadata": {},
   "outputs": [],
   "source": [
    "# Convert to ergs\n",
    "kin_nrg = kin_nrg.to(\"erg\")\n",
    "print(kin_nrg)\n",
    "\n",
    "# Convert to Watt hours\n",
    "kin_nrg = kin_nrg.to(\"W * hr\")\n",
    "print(kin_nrg)\n",
    "\n",
    "# Convert to a ridiculous unit system\n",
    "kin_nrg = kin_nrg.to(\"Msun * Mpc * km / s * Hz * erg / J\")\n",
    "print(kin_nrg)"
   ]
  },
  {
   "cell_type": "markdown",
   "metadata": {},
   "source": [
    "As you can see in the above, as long as the unit has the correct dimensions `unyt` will merrily apply the conversion and report the result. "
   ]
  },
  {
   "cell_type": "markdown",
   "metadata": {},
   "source": [
    "## Extracting units\n",
    "\n",
    "When we have a variable with units we have two new properties we can extract: \n",
    "- The `value` - the data itself.\n",
    "- The `units` - an object containing the units.\n",
    "\n",
    "To extract these we simply invoke the same `.` syntax we've seen a few times now."
   ]
  },
  {
   "cell_type": "code",
   "execution_count": null,
   "metadata": {},
   "outputs": [],
   "source": [
    "# Get the value\n",
    "val = kin_nrg.value\n",
    "print(val)\n",
    "\n",
    "# Get the unit\n",
    "unit = kin_nrg.units\n",
    "print(unit)"
   ]
  },
  {
   "cell_type": "markdown",
   "metadata": {},
   "source": [
    "Now that we have the unit itself we can do some useful things. Firstly, we can get the \"dimension\" of the unit which can be useful when doing dimensional analysis."
   ]
  },
  {
   "cell_type": "code",
   "execution_count": null,
   "metadata": {},
   "outputs": [],
   "source": [
    "# Print the dimensions \n",
    "print(unit.dimensions)"
   ]
  },
  {
   "cell_type": "markdown",
   "metadata": {},
   "source": [
    "As you can see, the nonsense unit I contrived above is in reality extremely simple dimensionally (go figure... its an energy). \n",
    "\n",
    "As well as simplifying the unit by seeing the dimensions, we can also simplify the unit itself with the `simplify` function. "
   ]
  },
  {
   "cell_type": "code",
   "execution_count": null,
   "metadata": {},
   "outputs": [],
   "source": [
    "# Simplify the units to something sensible\n",
    "new_unit = unit.simplify()\n",
    "print(new_unit)"
   ]
  },
  {
   "cell_type": "markdown",
   "metadata": {},
   "source": [
    "Although this isn't perfect (it's nonsense after all), we can see we've now simplified the unit a bit. Next we'll see something a bit more concrete but first...\n",
    "\n",
    "## Constants\n",
    "\n",
    "Another really helpful thing `unyt` includes is a whole host of commonly used constants defined to high precision and importable. To get these we import them just like units. Below we import the speed of light, the mass of the sun, and Newton's gravitational constant."
   ]
  },
  {
   "cell_type": "code",
   "execution_count": null,
   "metadata": {},
   "outputs": [],
   "source": [
    "from unyt import c, Msun, G"
   ]
  },
  {
   "cell_type": "markdown",
   "metadata": {},
   "source": [
    "## Exercises 12.1\n",
    "\n",
    "1. Define a mass, a coordinate, a temperature, and a momentum all with appropriate `unyt` units.\n",
    "2. Compute the velocity from the mass and momentum you just defined.\n",
    "3. Convert the velocity to an abhorent, but dimensionally correct, unit. (Extra points for the most convoluted unit!)"
   ]
  },
  {
   "cell_type": "code",
   "execution_count": null,
   "metadata": {},
   "outputs": [],
   "source": []
  },
  {
   "cell_type": "code",
   "execution_count": null,
   "metadata": {},
   "outputs": [],
   "source": []
  },
  {
   "cell_type": "code",
   "execution_count": null,
   "metadata": {},
   "outputs": [],
   "source": []
  },
  {
   "cell_type": "markdown",
   "metadata": {},
   "source": [
    "For a full list of available physical constants see [the docs](https://unyt.readthedocs.io/en/stable/modules/unyt.physical_constants.html)."
   ]
  },
  {
   "cell_type": "markdown",
   "metadata": {},
   "source": [
    "\n",
    "\n",
    "## Working with mixed units\n",
    "\n",
    "Often in Physics we have problems with a mixture of units and there's always the frustrating last step of a calculation where we go through and convert everything to SI units to ensure we get the desired answer. This is tedious and can introduce errors if not done carefully. Thankfully, `unyt` can help us here. Below is an example where we might encounter such an issue.\n",
    "\n",
    "Lets say we have a 1000 kg spaceship orbiting the Sun at a radius of 1 AU. What is the maximum velocity the spaceship can be travelling at and still be gravitationally bound to the Sun?\n",
    "\n",
    "First lets import all the units we will need and define the information we have for this question."
   ]
  },
  {
   "cell_type": "code",
   "execution_count": null,
   "metadata": {},
   "outputs": [],
   "source": [
    "from unyt import kg, Msun, AU, G\n",
    "\n",
    "# The spaceships mass\n",
    "mass = 1000 * kg\n",
    "\n",
    "# The radius of orbit\n",
    "radius = 1 * AU"
   ]
  },
  {
   "cell_type": "markdown",
   "metadata": {},
   "source": [
    "Next we want to actually solve the problem. To do this we can equate the gravitational potential of the sun to the kinetic energy of the spacecraft:\n",
    "\n",
    "$$ \\frac{1}{2}{m_s}{v_s}^2 = G\\frac{M_\\odot m_s}{R}, $$\n",
    "\n",
    "where $m_s$ is the mass of the spaceship, $v_s$ is the velocity of the spaceship, $R$ is the radius of the orbit, $M_\\odot$ is the Sun's mass, and $G$ is Newton's gravitational constant. \n",
    "\n",
    "By equating the two we are defining the point at which the spaceship's kinetic energy is at the limit of exceeding the gravitational potential energy and leaving a bound orbit, i.e. when $KE<PE$ the spaceship is bound to the Sun and when $KE>PE$ the spaceship has exceeded the escape velocity and is no longer bound.\n",
    "\n",
    "Lets calculate the Sun's potential energy at $R$."
   ]
  },
  {
   "cell_type": "code",
   "execution_count": null,
   "metadata": {},
   "outputs": [],
   "source": [
    "# Calcaulte the spaceships PE\n",
    "grav_pot = G * Msun * mass / radius\n",
    "\n",
    "print(grav_pot)"
   ]
  },
  {
   "cell_type": "markdown",
   "metadata": {},
   "source": [
    "Here `unyt` has helpfully applied `simplify` behind the scenes. Really our results should be in a mess units:"
   ]
  },
  {
   "cell_type": "code",
   "execution_count": null,
   "metadata": {},
   "outputs": [],
   "source": [
    "print(G.units, \"*\", Msun, \"*\", kg, \"/\", AU)"
   ]
  },
  {
   "cell_type": "markdown",
   "metadata": {},
   "source": [
    "but `unyt` will automatically apply simplifications in computations like this and since we led with `G` (which in SI), it knew to simplify to SI units.\n",
    "\n",
    "But back to the problem! \n",
    "\n",
    "Now we have the potential energy we need only to rearrange the equation above to isolate the velocity.\n",
    "\n",
    "$$ \\frac{1}{2}{m_s}{v_s}^2 = U_\\odot \\rightarrow v_s = \\sqrt{\\frac{2 U_\\odot}{m_s}}, $$\n",
    "\n",
    "where $U_\\odot$ is the potential energy we just calculated. We can apply this and get our final result (for which we'll need `numpy`'s square root)."
   ]
  },
  {
   "cell_type": "code",
   "execution_count": null,
   "metadata": {},
   "outputs": [],
   "source": [
    "import numpy as np\n",
    "\n",
    "\n",
    "# Compute the maximum velocity at which the spaceship is bound\n",
    "max_bound_v = np.sqrt(2 * grav_pot / mass)\n",
    "\n",
    "print(f\"The maximum velocity the spaceship can have and be in a bound orbit is v_max={max_bound_v}\")"
   ]
  },
  {
   "cell_type": "markdown",
   "metadata": {},
   "source": [
    "`unyt` has helpfully given us this velocity in base SI units with no work on our part. Now, given the context we probably want a unit that is a bit more interpretable. Here we can apply `to` like before and we have our final answer!"
   ]
  },
  {
   "cell_type": "code",
   "execution_count": null,
   "metadata": {},
   "outputs": [],
   "source": [
    "from unyt import km, hr\n",
    "\n",
    "\n",
    "print(f\"The maximum velocity the spaceship can have and be in a bound orbit is v_max={max_bound_v.to(km / hr):.0f}\")"
   ]
  },
  {
   "cell_type": "markdown",
   "metadata": {},
   "source": [
    "# Exercises 12.2\n",
    "\n",
    "Solve the following simple physics problems using `unyt`.\n",
    "\n",
    "1. There's two masses on a frictionless surface travelling exactly at each other. They have masses $m_1=$ 10 kg, $m_2=$ 3000 g and velocities $v_1=$ 15 m / s, $v_2=$ 54 km / hr. Assume their collision is perfectly elastic and the final velocity of the second mass is $v_2=$ 1000 mm / s, and find the final velocity of the first mass.\n",
    "2. The internal energy ($U$) of an ideal gas is defined as\n",
    "\n",
    "$$ U = \\frac{3}{2}k_b T, $$\n",
    "\n",
    "where $k_b$ is Boltzmann's constant, and $T$ is the gas's temperature. If an ideal gas initially has an internal energy of $10^{-20}$ erg what is it's initial temperature? If the internal energy is raised to $10^{-18}$ ergs what is the raise in temperature?"
   ]
  },
  {
   "cell_type": "code",
   "execution_count": null,
   "metadata": {},
   "outputs": [],
   "source": []
  },
  {
   "cell_type": "code",
   "execution_count": null,
   "metadata": {},
   "outputs": [],
   "source": []
  }
 ],
 "metadata": {
  "kernelspec": {
   "display_name": "synthesizer-env",
   "language": "python",
   "name": "python3"
  },
  "language_info": {
   "codemirror_mode": {
    "name": "ipython",
    "version": 3
   },
   "file_extension": ".py",
   "mimetype": "text/x-python",
   "name": "python",
   "nbconvert_exporter": "python",
   "pygments_lexer": "ipython3",
   "version": "3.10.4"
  }
 },
 "nbformat": 4,
 "nbformat_minor": 2
}

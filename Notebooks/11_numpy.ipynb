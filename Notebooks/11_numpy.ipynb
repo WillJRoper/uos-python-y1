{
 "cells": [
  {
   "cell_type": "markdown",
   "metadata": {},
   "source": [
    "# `numpy` and Arrays\n",
    "\n",
    "## Learning Outcomes\n",
    "\n",
    "By the end of this notebook you will know how to:\n",
    "\n",
    "- Create and manipulate `numpy` arrays.\n",
    "- Perform basic calculations and operations using arrays.\n",
    "- Generate arrays containing random values.\n",
    "- Perform matrix operations with `numpy`.\n",
    "- Use the `where` function.\n",
    "- Utilise `numpy` to optimise programs.\n"
   ]
  },
  {
   "cell_type": "code",
   "execution_count": null,
   "metadata": {},
   "outputs": [],
   "source": [
    "import numpy as np"
   ]
  },
  {
   "cell_type": "markdown",
   "metadata": {},
   "source": [
    "\n",
    "\n",
    "## What is `numpy`?\n",
    "\n",
    "You have seen a fair bit of `numpy` in the previous notebooks but this has barely scratched the surface of what `numpy` really is. It is in fact one of the most powerful and frequently used modules available in Python. It contains:\n",
    "- Basic mathematical functions. \n",
    "- A whole host of common linear algebra operations.\n",
    "- A data structure that makes many complex operations simple. \n",
    "- Random number capabilities to name a few.\n",
    "- Simple fitting functions (as we have seen previously).\n",
    "- and much more... \n",
    "\n",
    "Some of it's abilities replicate functionality that already exists in the base Python language, but normally the `numpy` implementation will be much faster. \n",
    "\n",
    "This notebook is far from comprehensive, `numpy` is such a large module that teaching you how to use it all would take a course by itself, but it will cover the most useful and important features. Full documentation can be found [here](https://docs.scipy.org/doc/numpy/).\n"
   ]
  },
  {
   "cell_type": "markdown",
   "metadata": {},
   "source": [
    "## Arrays\n",
    "\n",
    "The main building block of `numpy` is the array (`ndarray` to be specific). These are a data structure which act like multi-dimensional lists. In fact, you may have seen similar structures before: a list of lists is inherently a 2-D object with rows (the index on the inner list) and columns (the index on the outer list), however lists of lists like these have serious limitations - such as not being able to extract individual columns. Arrays however not only allow you to extract rows and columns but contain a large number of useful features.  \n"
   ]
  },
  {
   "cell_type": "markdown",
   "metadata": {},
   "source": [
    "\n",
    "## Array creation\n",
    "\n",
    "There are a number of ways to create an array in `numpy`, the use case most often dictating which is the preferred method. \n",
    "\n",
    "Simplest way to define an array is to take an existing list and convert it using `np.array()`."
   ]
  },
  {
   "cell_type": "code",
   "execution_count": null,
   "metadata": {},
   "outputs": [],
   "source": [
    "# Define a list\n",
    "list1 = [0, 1, 2, 3, 4]\n",
    "\n",
    "# Convert this list to a 1-D numpy array\n",
    "arr1d = np.array(list1)\n",
    "\n",
    "print(arr1d)"
   ]
  },
  {
   "cell_type": "markdown",
   "metadata": {},
   "source": [
    "This is nice and simple, but you may want to create an array and populate it with data after the fact, like when we have previously created empty lists to append to. \n",
    "\n",
    "Unlike a list we can't append to an array. We instead set its size at set up which can be both useful for writing safe code and a hinderence if you don't know how many elements you will have in the end. For the latter case its always best to use a list first and convert, as shown above.\n",
    "\n",
    "There are 3 functions that you can use to create \"empty\" arrays to populate with data. The first of these is (unsurpirsingly) `np.empty`, which initialises an \"empty\" array. \"Empty\" here meaning an array where the contents are not initialised at any predictable value. "
   ]
  },
  {
   "cell_type": "code",
   "execution_count": null,
   "metadata": {},
   "outputs": [],
   "source": [
    "# Create an empty array\n",
    "empty_arr = np.empty((4, 4))\n",
    "\n",
    "print(empty_arr)"
   ]
  },
  {
   "cell_type": "markdown",
   "metadata": {},
   "source": [
    "This creates a 4x4 array of \"empty\" values (in reality this will just be filled with nonsense. This nonsense could be similar values to those used elsewhere in your code, 0s, or complete jibberish). \n",
    "\n",
    "Another (more often used) function produces an array of zeros.\n"
   ]
  },
  {
   "cell_type": "code",
   "execution_count": null,
   "metadata": {},
   "outputs": [],
   "source": [
    "# Create an array of zeros\n",
    "zero_arr = np.zeros((4, 4))\n",
    "\n",
    "print(zero_arr)"
   ]
  },
  {
   "cell_type": "markdown",
   "metadata": {},
   "source": [
    "Again, this creates a 4x4 array but this time filled with 0s. \n",
    "\n",
    "Finally, if you want to create an array filled with a particular value you can use `full`."
   ]
  },
  {
   "cell_type": "code",
   "execution_count": null,
   "metadata": {},
   "outputs": [],
   "source": [
    "# Create an array of the value of pi\n",
    "full_arr = np.full((4, 4), np.pi)\n",
    "\n",
    "print(full_arr)"
   ]
  },
  {
   "cell_type": "markdown",
   "metadata": {},
   "source": [
    "The above will create a 4x4 array filled with the value of pi. \n",
    "\n",
    "In each of the above cases the argument you pass the function is the shape of the array. For a 1D array this shape can just be a number but for multidimensional array this must be a tuple as done above. \n",
    "\n",
    "In the `full` case you must also supply a second argument for the value you wish the array to be filled with. Notice also this array has be filled with np.pi, this is the value of $\\pi$ which `numpy` has stored as an attribute. Don't worry too much about the semantics of this statement, just remember pi can be accessed from numpy with `np.pi` without brackets (i.e. it is not callable).\n",
    "\n",
    "In addition to the methods shown above, each of these 3 array creation methods has a `_like` version which will create an array using the shape (and data type) of another array."
   ]
  },
  {
   "cell_type": "code",
   "execution_count": null,
   "metadata": {},
   "outputs": [],
   "source": [
    "# Define a list\n",
    "list1 = [[0, 1], [2, 3], [4, 5]]\n",
    "\n",
    "# Convert this list to a 2-D numpy array\n",
    "arr2d = np.array(list1)\n",
    "print(arr2d)\n",
    "\n",
    "# Create an empty array\n",
    "empty_arr = np.empty_like(arr2d)\n",
    "print(empty_arr)\n",
    "\n",
    "# Create an array of zeros\n",
    "zero_arr = np.zeros_like(arr2d)\n",
    "print(zero_arr)\n",
    "\n",
    "# Create an array full of 10s\n",
    "full_arr = np.full_like(arr2d, 10)\n",
    "print(full_arr)\n"
   ]
  },
  {
   "cell_type": "markdown",
   "metadata": {},
   "source": [
    "Below is a table showing a selection of different ways an array can be created using `numpy`. Note this is not exhaustive, nor are the arguments a complete list of the possible arguments, for a complete list of arguments see [numpy documentation](https://docs.scipy.org/doc/numpy/).\n",
    "\n",
    "| Function        | Arguments                   | Description                                                                                                          |\n",
    "| --------------- | ---------------------------- | -------------------------------------------------------------------------------------------------------------------- |\n",
    "| `np.array`      | list, dtype (optional)      | Converts a list (or list of lists) to an array with optional ability to specify data type for elements.             |\n",
    "| `np.empty`      | shape                        | Creates an empty array filled with uninitialized values.                                                               |\n",
    "| `np.empty_like` | array                        | Same as `np.empty` but uses the shape of another array.                                                                |\n",
    "| `np.zeros`      | shape                        | Creates an array of zeros of the given size.                                                                         |\n",
    "| `np.zeros_like` | array                        | Same as `np.zeros` but uses the shape of another array.                                                               |\n",
    "| `np.full`       | shape, fill_value            | Creates an array filled with a specified value.                                                                      |\n",
    "| `np.full_like`  | array, fill_value            | Same as `np.full` but uses the shape of another array.                                                                |\n"
   ]
  },
  {
   "cell_type": "markdown",
   "metadata": {},
   "source": [
    "### Array metadata\n",
    "\n",
    "\n",
    "`numpy` arrays also carry a bunch of metadata around with them which we access with `.` syntax. This metadata is not \"callable\" (like `np.pi`), i.e. it is not a function but instead a property of the array. This will make more sense if you continue on to using object orientated Python after this module (they are \"attributes\" of the `ndarray` object).\n",
    "\n",
    "In the cell below are some examples of useful `numpy` array propertys."
   ]
  },
  {
   "cell_type": "code",
   "execution_count": null,
   "metadata": {},
   "outputs": [],
   "source": [
    "# Get the size of the array (same as len(arr1d))\n",
    "print(arr2d.size)\n",
    "\n",
    "# Get the shape of the array\n",
    "print(arr2d.shape)\n",
    "\n",
    "# Get the data type of the array\n",
    "print(arr2d.dtype)\n",
    "\n",
    "# Get the number of dimensions the array has\n",
    "print(arr2d.ndim)\n",
    "\n"
   ]
  },
  {
   "cell_type": "markdown",
   "metadata": {},
   "source": [
    "## Computations with Arrays\n",
    "\n",
    "Once we have created arrays we can do a number of computations and manipulations with them. Here we cover mathematical operators to display array behaviour but `numpy` also contains a huge bank of mathematical functions (such as $\\sin$, $\\log$, $\\exp$ etc., note that in `numpy` the `log` is the natural log and `log10` is log in base 10). To find your desired function either use `dir`, google it, or look in the documentation, `numpy` almost certainly has the function you are looking for!\n",
    "\n",
    "Any mathematical operators can be used on the array as a whole (operating on each individual element in a hidden loop in C). In pure Python, we would have to explicitly loop over each element in a list (and any nested lists for multidimensional lists) and multiply within the loop(s). The `numpy` approach is not only quicker to code but also faster to execute! \n",
    "\n",
    "Below is a demonstration showing the use of the basic mathematical operators."
   ]
  },
  {
   "cell_type": "code",
   "execution_count": null,
   "metadata": {},
   "outputs": [],
   "source": [
    "# Define a list\n",
    "list1 = [[0, 1], [2, 3], [4, 5]]\n",
    "\n",
    "# Convert this list to a 2-D numpy array (notice we are setting\n",
    "# the data dtype of the array which was integers in the list)\n",
    "arr2d = np.array(list1, dtype=float)\n",
    "\n",
    "# Multiply the elements by 4\n",
    "new_arr2d = arr2d * 4\n",
    "print(new_arr2d)\n",
    "\n",
    "# Add 4, we can also use the <operator>= shorthand\n",
    "arr2d += 4\n",
    "print(arr2d)\n",
    "\n",
    "# Subtract 12\n",
    "arr2d -= 12\n",
    "print(arr2d)\n",
    "\n",
    "# Divide by 2\n",
    "arr2d /= 2\n",
    "print(arr2d)\n",
    "\n"
   ]
  },
  {
   "cell_type": "markdown",
   "metadata": {},
   "source": [
    "We can multiply arrays together as long as they `have the same dimension', i.e. they are the same shape. This multiplies together the entries sharing the same position in each array, like a dot product of vectors/matrices."
   ]
  },
  {
   "cell_type": "code",
   "execution_count": null,
   "metadata": {},
   "outputs": [],
   "source": [
    "# Define a list\n",
    "list2 = [[5, 4], [3, 2], [1, 0]]\n",
    "\n",
    "# Convert this list to a 2-D numpy array\n",
    "arr2d2 = np.array(list2)\n",
    "\n",
    "# Multipply the array by another array\n",
    "arr2d *= arr2d2\n",
    "print(arr2d)"
   ]
  },
  {
   "cell_type": "markdown",
   "metadata": {},
   "source": [
    "You can test the other operations for your self but all of the above operations will work. \n",
    "\n",
    "The important thing to note is that this works if the array is the same shape (i.e. like a dot product) OR if the multiplying array has the same shape as the final dimension of the array being multiplied. In other words, an array containing `N` 2 element vectors can be multiplied by either a `Nx2` array OR a 2 element vector.\n"
   ]
  },
  {
   "cell_type": "code",
   "execution_count": null,
   "metadata": {},
   "outputs": [],
   "source": [
    "# Create a 2 element vector\n",
    "vec2 = np.array([5, 5])\n",
    "\n",
    "# Multiply the array by a 2 vector\n",
    "arr2d *= vec2\n",
    "print(arr2d)\n",
    "\n"
   ]
  },
  {
   "cell_type": "markdown",
   "metadata": {},
   "source": [
    "<details>\n",
    "  <summary>Broadcasting</summary> \n",
    "\n",
    "### Broadcasting\n",
    "\n",
    "How arrays behave when operated on with another array is dictated by `numpy`'s \"broadcasting rules\" (for instance multiplying two together). Rather than give a long explanation of this here we instead want to draw your attention to the `numpy` documentation. This really is a fantastic resource and has a very good page explaining the \"broadcasting rules\", this can be found [here](https://docs.scipy.org/doc/numpy/user/basics.broadcasting.html). \n",
    "</details>\n"
   ]
  },
  {
   "cell_type": "markdown",
   "metadata": {},
   "source": [
    "## Statistics with `numpy`\n",
    "\n",
    "One of the very helpful features of `numpy` is its suite of statistical functions which can very efficiently calculate regularly used quantities. All small selection of these functions is shown below.\n"
   ]
  },
  {
   "cell_type": "code",
   "execution_count": null,
   "metadata": {},
   "outputs": [],
   "source": [
    "# Compute the mean\n",
    "print(np.mean(arr1d))\n",
    "\n",
    "# Compute the median\n",
    "print(np.median(arr1d))\n",
    "\n",
    "# Compute the sum\n",
    "print(np.sum(arr1d))\n",
    "\n",
    "# Compute the standard deviation\n",
    "print(np.std(arr1d))\n",
    "\n",
    "# Compute the variance (square of standard deviation)\n",
    "print(np.var(arr1d))\n"
   ]
  },
  {
   "cell_type": "markdown",
   "metadata": {},
   "source": [
    "The arguments of these functions does not have to be an array though, in all the statements above `arr1d` could be exchanged with `list1` and you would get the same outputs. However, by using arrays, most of these can be utilised with a different syntax similar to the metadata mentioned above. \n",
    "\n",
    "(Should you care, these are called \"methods\" and are also defined on the `ndarray` \"class\".)"
   ]
  },
  {
   "cell_type": "code",
   "execution_count": null,
   "metadata": {},
   "outputs": [],
   "source": [
    "# Compute the mean\n",
    "print(arr1d.mean())\n",
    "\n",
    "# Compute the sum\n",
    "print(arr1d.sum())\n",
    "\n",
    "# Compute the standard deviation\n",
    "print(arr1d.std())\n",
    "\n",
    "# Compute the variance (square of standard deviation)\n",
    "print(arr1d.var())\n"
   ]
  },
  {
   "cell_type": "markdown",
   "metadata": {},
   "source": [
    "Notice most of these results have been converted from the input integers to floats with the exception of the sum which has maintained the integer dtype.\n",
    "\n",
    "We can also find the maximum and minimum of an array as well finding the index of the maximum or minimum in the same way. (Note that there are also standalone functions for these as well as the `<array>.<function>` variety used below).\n"
   ]
  },
  {
   "cell_type": "code",
   "execution_count": null,
   "metadata": {},
   "outputs": [],
   "source": [
    "# Define an array\n",
    "arr = np.array([1, 2, 3, 4, 5])\n",
    "\n",
    "# Get the maximum and it's location\n",
    "print(arr.max())  # value\n",
    "print(arr.argmax())  # index\n",
    "\n",
    "# Get the minimum and it's location\n",
    "print(arr.min())  # value\n",
    "print(arr.argmin())  # index\n",
    "\n"
   ]
  },
  {
   "cell_type": "markdown",
   "metadata": {},
   "source": [
    "### Exercises 11.1\n",
    "\n",
    "1. Create an array of zeros. Loop over it storing the square of the index as each element.\n",
    "2. Create an array full of -2. Multiply all elements by -2.\n",
    "3. Find the sum, mean, standard deviation, and median of the array from the first exercise.\n"
   ]
  },
  {
   "cell_type": "code",
   "execution_count": null,
   "metadata": {},
   "outputs": [],
   "source": []
  },
  {
   "cell_type": "code",
   "execution_count": null,
   "metadata": {},
   "outputs": [],
   "source": []
  },
  {
   "cell_type": "code",
   "execution_count": null,
   "metadata": {},
   "outputs": [],
   "source": []
  },
  {
   "cell_type": "markdown",
   "metadata": {},
   "source": [
    "### Extraction and Shape/Dimension Manipulations\n",
    "\n",
    "Just like lists, elements can be extracted from and stored into arrays by indexing with the position of the desired element. \n"
   ]
  },
  {
   "cell_type": "code",
   "execution_count": null,
   "metadata": {},
   "outputs": [],
   "source": [
    "# Define a 1D array\n",
    "arr = np.array([1, 2, 3, 4, 5, 6, 7, 8, 9, 10])\n",
    "\n",
    "print(arr[4])\n",
    "\n"
   ]
  },
  {
   "cell_type": "markdown",
   "metadata": {},
   "source": [
    "Of course unlike lists an array can have multiple dimensions in which case indexing for a single element needs have an index for each dimension."
   ]
  },
  {
   "cell_type": "code",
   "execution_count": null,
   "metadata": {},
   "outputs": [],
   "source": [
    "# Define a 2D array\n",
    "arr2D = np.array([[1, 2, 3, 4, 5], [6, 7, 8, 9, 10]])\n",
    "\n",
    "print(arr2D[1, 4])"
   ]
  },
  {
   "cell_type": "markdown",
   "metadata": {},
   "source": [
    "Again like lists, slices can be extracted from an array, but now we can slice along specific dimensions. (You have already seen similar behaviour in the `pandas` [notebook](8_pandas.ipynb).) "
   ]
  },
  {
   "cell_type": "code",
   "execution_count": null,
   "metadata": {},
   "outputs": [],
   "source": [
    "print(arr2D[1, 1:4])"
   ]
  },
  {
   "cell_type": "markdown",
   "metadata": {},
   "source": [
    "Having multidimensional arrays means you can index in all sorts of ways. Slicing along certain axes/dimensions or extracting particular rows, columns or any combination of these. The following example shows extracting the first 10 rows of an array and then extracting the last 10 rows but only the first column of those rows. \n"
   ]
  },
  {
   "cell_type": "code",
   "execution_count": null,
   "metadata": {},
   "outputs": [],
   "source": [
    "# Define a 2D array\n",
    "arr2d = np.array([[1, 2], [3, 4], [5, 6], [7, 8], [9, 10], [11, 12], \n",
    "                        [13, 14], [15, 16], [17, 18], [19, 20], [21, 22], \n",
    "                        [23, 24]])\n",
    "\n",
    "# First 10 rows\n",
    "print(arr2d[:10])\n",
    "\n",
    "# Last 10 rows of the first column\n",
    "print(arr2d[-10:, 0])\n",
    "\n"
   ]
  },
  {
   "cell_type": "markdown",
   "metadata": {},
   "source": [
    "You can generalise this to a greater number of dimensions than 2 as you please. \n",
    "\n",
    "One huge advantage of arrays over lists is that they can accept a list or an array of indices to extract specific elements. \n",
    "\n",
    "The `numpy` module is so proud of these indexing properties they call the process \"fancy indexing\". This not only refers to the ability to provide lists of indices, which is a necessity with multidimensional arrays, but also to the fact that the result of a fancy index (array indexing) is the same shape as the index not the array being indexed, a not immediately obvious subtlety. "
   ]
  },
  {
   "cell_type": "code",
   "execution_count": null,
   "metadata": {},
   "outputs": [],
   "source": [
    "print(arr2d[[0, 4, 9, 10]])\n",
    "print(arr2d[(0, 1, 4, 6), (0, 1, 0, 1)])\n",
    "\n"
   ]
  },
  {
   "cell_type": "markdown",
   "metadata": {},
   "source": [
    "Of course this isn't the end of the story... arrays are wonderful things with a seemingly endless number of useful features and surprising behaviours. One of these is \"Boolean indexing\". This allows you to index based on a conditional; elements for which the condition is True are returned and elements for which the condition is False are not.\n",
    "\n"
   ]
  },
  {
   "cell_type": "code",
   "execution_count": null,
   "metadata": {},
   "outputs": [],
   "source": [
    "small_1d = arr2d[0:5,1]\n",
    "print(small_1d)\n",
    "print(small_1d[[True, False, True, True, False]])\n",
    "print(small_1d[small_1d > 5])\n",
    "\n"
   ]
  },
  {
   "cell_type": "markdown",
   "metadata": {},
   "source": [
    "As well as extracting elements we can also manipulate arrays in a number of ways. There are `numpy` methods which will flip arrays, these can be useful when array shapes get complex but there's a really simple way to reverse the order along a axis of an array using indexing:"
   ]
  },
  {
   "cell_type": "code",
   "execution_count": null,
   "metadata": {},
   "outputs": [],
   "source": [
    "print(small_1d[6:1:-1])\n",
    "print(small_1d[::-1])\n"
   ]
  },
  {
   "cell_type": "markdown",
   "metadata": {},
   "source": [
    "To fully reverse the order of a multidimensional array you can simply do this along each dimension.\n",
    "\n",
    "\n",
    "You can also reshape an array. Now lets say you have an array of shape (10, 10) but you want is to be of shape (5, 20) this can be done by using ``.reshape(shape)`, where shape is a tuple containing the desired shape. "
   ]
  },
  {
   "cell_type": "code",
   "execution_count": null,
   "metadata": {},
   "outputs": [],
   "source": [
    "arr3 = np.full((10,10), 2)\n",
    "print(arr3.shape)\n",
    "arr3 = arr3.reshape(5, 20)\n",
    "print(arr3.shape)\n"
   ]
  },
  {
   "cell_type": "markdown",
   "metadata": {},
   "source": [
    "It's important to note how this is performed by `numpy`. What reshape does is run through the elements of an array filling the new shaped array with elements 1 by 1 going along rows. If using reshape be sure elements are ending up in the desired position!"
   ]
  },
  {
   "cell_type": "markdown",
   "metadata": {},
   "source": [
    "## Using `numpy`'s Random Functions\n",
    "\n",
    "In the [packages notebook](6_packages.ipynb) you saw the `random` module. There is absolutely nothing wrong with the `random` module but for certain applications, the implementations in `numpy.random` are much better suited to the job.\n",
    "\n",
    "(An upside of the `random` module is that it is \"thread safe\", but this will only matter to you if you find your self doing any parallel computing later on and `numpy` does now include threadsafe implementations with a slightly different interface than the one shown here).\n",
    "\n",
    "The main difference between `random` and `numpy.random` is that `numpy.random` has the ability to produce multiple random numbers at once in an array.\n",
    "\n",
    "In much the same vein as when we presented the `random` module, do the following exercises using both `dir` and `help`, and the `numpy` [docs](https://docs.scipy.org/doc/numpy-1.14.0/reference/routines.random.html). \n",
    "\n",
    "If I haven't banged the drum enough: Learning how to work from documentation is essential not only if you become a programmer later on in your career but also to complete many of the assignments you will be set in later years.\n",
    "\n",
    "### Exercises 11.2\n",
    "\n",
    "1. Generate 100 random numbers between 0 and 1.\n",
    "2. Generate a 2D array of shape (100, 100) with random integers between 1 and 50.\n",
    "3. Generate 1000 random numbers pulled from a beta distribution with $a=1$ and $b=100$.\n",
    "4. Generate 10000 random numbers from a normal distribution with $\\mu=5$ and $\\sigma=2$.\n",
    "5. Generate 100 random integers between 1, 10. Can you count how many instances of each number arise? (hint: could a dictionary make this trivial? Alternatively does `numpy` have something to do this in 1 line?)\n",
    "6. Do the same as for the previous questions but pulling from a normal distribution with mean $\\mu=100$ and $\\sigma=20$ and also for a Poisson distribution with $\\mathrm{lam`=100$. You will have to manually convert the floats returned by these random distributions to integers unless you want to properly bin the data.\n",
    "7. Plot the resulting binned counts (a histogram) from the normal and Poisson distribution. What happens if you increase the number of samples?\n",
    "\n"
   ]
  },
  {
   "cell_type": "code",
   "execution_count": null,
   "metadata": {},
   "outputs": [],
   "source": []
  },
  {
   "cell_type": "code",
   "execution_count": null,
   "metadata": {},
   "outputs": [],
   "source": []
  },
  {
   "cell_type": "code",
   "execution_count": null,
   "metadata": {},
   "outputs": [],
   "source": []
  },
  {
   "cell_type": "code",
   "execution_count": null,
   "metadata": {},
   "outputs": [],
   "source": []
  },
  {
   "cell_type": "code",
   "execution_count": null,
   "metadata": {},
   "outputs": [],
   "source": []
  },
  {
   "cell_type": "code",
   "execution_count": null,
   "metadata": {},
   "outputs": [],
   "source": []
  },
  {
   "cell_type": "code",
   "execution_count": null,
   "metadata": {},
   "outputs": [],
   "source": []
  },
  {
   "cell_type": "markdown",
   "metadata": {},
   "source": [
    "\n",
    "## Treating Arrays as Matrices\n",
    "\n",
    "`Numpy` also contains a sub-module (like `numpy.random` is a sub-module within `numpy`) for linear algebra, namely `numpy.linalg`. This, as you may have guessed, is a powerful sub-module for performing matrix operations on arrays. There is a lot within `numpy.linalg` but here is a quick run down of some of the more commonly used operations.\n",
    "\n",
    "First off we can define two arrays to use as matrices.\n"
   ]
  },
  {
   "cell_type": "code",
   "execution_count": null,
   "metadata": {},
   "outputs": [],
   "source": [
    "arr1 = np.array([[1,2],[3,4]])\n",
    "arr2 = np.array([[4,3],[2,1]])\n"
   ]
  },
  {
   "cell_type": "markdown",
   "metadata": {},
   "source": [
    "We can perform the dot product of these arrays."
   ]
  },
  {
   "cell_type": "code",
   "execution_count": null,
   "metadata": {},
   "outputs": [],
   "source": [
    "np.dot(arr1, arr2)"
   ]
  },
  {
   "cell_type": "markdown",
   "metadata": {},
   "source": [
    "We can also extract the eigenvalues of one these matrices (arrays)."
   ]
  },
  {
   "cell_type": "code",
   "execution_count": null,
   "metadata": {},
   "outputs": [],
   "source": [
    "np.linalg.eigvals(arr1)"
   ]
  },
  {
   "cell_type": "markdown",
   "metadata": {},
   "source": [
    "Or compute the trace."
   ]
  },
  {
   "cell_type": "code",
   "execution_count": null,
   "metadata": {},
   "outputs": [],
   "source": [
    "np.trace(arr1)"
   ]
  },
  {
   "cell_type": "markdown",
   "metadata": {},
   "source": [
    "One of the more often used functions is the `norm` function. This computes the norm of an array but is particularly useful when calculating the radii of a bunch of 2 or 3 dimension coordinates. Lets treat the matrix above as an array of coordinate vectors."
   ]
  },
  {
   "cell_type": "code",
   "execution_count": null,
   "metadata": {},
   "outputs": [],
   "source": [
    "# Get the norm of the whole array\n",
    "print(np.linalg.norm(arr1))\n",
    "\n",
    "# Compute the radius of each coordinate\n",
    "print(np.linalg.norm(arr1, axis=1))"
   ]
  },
  {
   "cell_type": "markdown",
   "metadata": {},
   "source": [
    "One new concept slid in here is the `axis` argument. This tells `numpy` we only want to apply the operation along a specified axis of the array (or indeed multiple axes if a `tuple` is passed`). All `numpy` functions where this is applicable will take this argument enabling quick operations done along specific dimensions of an array.\n",
    "\n",
    "Admittedly this is a very quick set of examples but beyond these `numpy.linalg` contains many many functions including advanced linear algebra functions and even tensor operations used in the toolkit of General Relativity. Should you find yourself doing any heavy lifting with linear algebra in theory or anything involving positions in simulations, you may find yourself using these functions often.\n"
   ]
  },
  {
   "cell_type": "markdown",
   "metadata": {},
   "source": [
    "## The `Where` Function\n",
    "\n",
    "Lets imagine you have a very large array of values but you actually only care about a subset above a certain value threshold. You can get these easily by using Boolean indexing.\n"
   ]
  },
  {
   "cell_type": "code",
   "execution_count": null,
   "metadata": {},
   "outputs": [],
   "source": [
    "np.random.seed(1234)\n",
    "arr = np.random.normal(10,2,1000)\n",
    "arr[arr > 15]"
   ]
  },
  {
   "cell_type": "markdown",
   "metadata": {},
   "source": [
    "However, sometimes you may want to actually extract the indices themselves, this is where the `where` function comes in. The `where` function does exactly what it says on the tin, i.e. \"where is the condition true\".\n"
   ]
  },
  {
   "cell_type": "code",
   "execution_count": null,
   "metadata": {},
   "outputs": [],
   "source": [
    "np.where(arr > 15)"
   ]
  },
  {
   "cell_type": "markdown",
   "metadata": {},
   "source": [
    "\n",
    "This is very useful but does have its limitations when arrays begin to get *very* large (more than 10000000 elements on a modern Macbook Pro), here `where` becomes slower and there are other coding paradigms that begin to become a necessity at this scale.\n",
    "\n",
    "Although `where` is often used to simply get the indices at which a condition is `True`, this is actually a simplification of the functions ability. The power of `where` lies in applying an operation or function to an element in an array where the condition is True. Doing this the syntax of `where` is `np.where(condition, <array_to_apply_to>, operation)`.\n",
    "\n"
   ]
  },
  {
   "cell_type": "code",
   "execution_count": null,
   "metadata": {},
   "outputs": [],
   "source": [
    "# Define an arrays from lists\n",
    "x = np.array([[1, 2], [1, 3], [4, 5], [6, 5], [9, 6]])\n",
    "y = np.array([[3, 2], [5, 4], [1, 1], [7, 6], [8, 3]])\n",
    "\n",
    "# Add 10 to any value below 4\n",
    "np.where(x < 4, x, x + 10)\n",
    "\n",
    "# The operation can be performed on a different array based on\n",
    "# the condition applied to the original array or some compound\n",
    "new_y = np.where(x - y < 4, y, y + 10)\n",
    "print(new_y)\n"
   ]
  },
  {
   "cell_type": "markdown",
   "metadata": {},
   "source": [
    "Do note that `where` needs to be assigned to a new variable to maintain the changes, it is not performed inplace on the original array, instead creating a copy.\n",
    "\n",
    "### Exercises 11.3\n",
    "\n",
    "1. Create a random array of numbers between 1 and 0. Use `where` or Boolean indexing to find how many lie above 0.5 and how many lie below.\n",
    "2. Take the array from the previous question and add 0.5 to any numbers below 0.5, check this has worked by ensuring there are no numbers below 0.5.\n",
    "3. Create 2 new arrays of numbers between 1 and 0. Add 0.5 to elements of array 1 where array 2 is less than 0.5. How many numbers lie below 0.5 in array 1?\n",
    "4. Create 2 arrays of 1000 random numbers from a normal distribution with $\\mu=5$ and $\\sigma=2$. Plot them as a scatter plot with '+' markers. Then plot over the top of this plot with 'o' markers smaller than the '+' markers colouring each quadrant a different colour (hint: use `where`)."
   ]
  },
  {
   "cell_type": "code",
   "execution_count": null,
   "metadata": {},
   "outputs": [],
   "source": []
  },
  {
   "cell_type": "code",
   "execution_count": null,
   "metadata": {},
   "outputs": [],
   "source": []
  },
  {
   "cell_type": "code",
   "execution_count": null,
   "metadata": {},
   "outputs": [],
   "source": []
  },
  {
   "cell_type": "code",
   "execution_count": null,
   "metadata": {},
   "outputs": [],
   "source": []
  },
  {
   "cell_type": "markdown",
   "metadata": {},
   "source": [
    "## Optimisation with `numpy`\n",
    "\n",
    "It's already been mentioned in passing but one of the single best things about `numpy` is... IT'S FAST! A clever implementation of `numpy` can take code that takes hours down to minutes or even seconds. \n",
    "\n",
    "The reason for this is two-fold, firstly `numpy` is implemented in C, this makes it inherently faster at performing basic operations like multiplication of arrays but secondly it is \"vectorised\", meaning it makes use of SIMD (Single Instruction Multiple Data), I can not stress how little the specifics of this matter at this stage... it just removes loops and does multiple operations at once. What `numpy` is actually doing under the hood, is moving the slow Python loop into C which is executed much faster and if possible on multiple values at once.\n",
    "\n",
    "We can probe this with an example utilising `%timeit`, a python \"function\" that allows you to time functions. How fast your code can run can really begin to matter, either you're writing release code which needs to run in a certain time or research code which may work with \"Big Data\" meaning you need to write code which needs to be fast to actually finish in a reasonable time. Many times I have written a naive apporach to a job and realised it would take weeks to run, indeed, I once wrote a set of loops that would have taken the age of the Universe to complete!\n",
    "\n",
    "An example of timing `numpy` vs a \"traditional\" Python loop for multiplying a single array by 5 is shown below."
   ]
  },
  {
   "cell_type": "code",
   "execution_count": null,
   "metadata": {},
   "outputs": [],
   "source": [
    "# Define functions to test (simple with a lambda function)\n",
    "vec_func = lambda x: x * 5\n",
    "\n",
    "def list_func(x):\n",
    "    # Loop over elements multiplying by 5\n",
    "    for ii, i in enumerate(x):\n",
    "        x[ii] = i * 5\n",
    "    return x\n",
    "\n",
    "# Define an array and list to test with\n",
    "xs = np.random.normal(10, 3, 1000)\n",
    "ys = list(xs)\n",
    "\n",
    "# Time the implementations\n",
    "%timeit vec_func(xs)\n",
    "%timeit list_func(ys)"
   ]
  },
  {
   "cell_type": "markdown",
   "metadata": {},
   "source": [
    "Notice that not only is the `numpy` implementation 100 times faster on this simple operation, it is also far more consistent with a standard deviation of the order of nanoseconds! This is a very contrived example but well displays how effective an intelligent `numpy` implementation can be.\n",
    "\n"
   ]
  }
 ],
 "metadata": {
  "kernelspec": {
   "display_name": "synthesizer-env",
   "language": "python",
   "name": "python3"
  },
  "language_info": {
   "codemirror_mode": {
    "name": "ipython",
    "version": 3
   },
   "file_extension": ".py",
   "mimetype": "text/x-python",
   "name": "python",
   "nbconvert_exporter": "python",
   "pygments_lexer": "ipython3",
   "version": "3.10.4"
  }
 },
 "nbformat": 4,
 "nbformat_minor": 2
}

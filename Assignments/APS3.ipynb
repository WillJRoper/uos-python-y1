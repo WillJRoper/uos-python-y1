{
 "cells": [
  {
   "cell_type": "markdown",
   "metadata": {},
   "source": [
    "# Assignment 3"
   ]
  },
  {
   "cell_type": "markdown",
   "metadata": {},
   "source": [
    "## Instructions\n",
    "\n",
    "**Assessed Content**:  You need to have worked through all notebooks. This assessment uses material from the whole course.\n",
    "\n",
    "**Deadline**: Week 11, Friday at 5pm. Submit *this notebook with your solutions included* via e-submissions on Canvas.\n",
    "\n",
    "**Late-penalties**: Work handed in up to 24h late will incur a 5% penalty, i.e. 85 will be capped at 80.\n",
    "\n",
    "**Weighting**:  This is a summative assessment with a weight of 15% of the total PIP mark.\n",
    "\n",
    "**Feedback**:  A model solution will be released on Sussex Direct after the 24hr deadline.\n",
    "\n",
    "**Release of marks**: We aim to get marks onto Sussex Direct within (an absolute maximum) of 10 working days.\n",
    "\n",
    "**Getting help**: Your primary source of help is during the Seminars in assessment week. Note that you can't skip the lab scripts and expect to be helped with the assessments.\n",
    "\n",
    "**Formatting and Commenting your code**: Your code should look neat and include comments to describe what your code does. If it isn't obvious what a line or block of code does it needs a comment. *Please use the single cell provided for each part of a question*. Some parts of your code may need higher comment density than others. Up to two marks will be deducted if your code is poorly formatted and/or poorly commented.\n",
    "\n",
    "**Collusion and Plagiarism**: By all means work together in groups, but you are expected to write your code independently. If at any time you are using \"cut and paste\" from someone else's work then you are doing something wrong and you need to stop. We have dealt with a myriad of collusion and plagirism in the past, don't add to the list.\n",
    "\n",
    "**Zombie codes**: One mark will be deducted if your code gets trapped in a loop and the grader has to crash out of it.\n",
    "\n",
    "**Avoid simple errors**: Before submitting make sure to restart and run all cells. It's easy with notebooks to accidentally delete a variable somewhere and continue using it because it is still in memory. Make sure your code still works after a restart!\n",
    "\n",
    "**Marks**: There are 10 marks available. You can find the number of marks alloted to a question in square brackets at the end of a question."
   ]
  },
  {
   "cell_type": "markdown",
   "metadata": {},
   "source": [
    "## The Collatz Conjecture\n",
    "\n",
    "The Collatz Conjecture is one of the simplest mathematical problems to pose but its solution is thought to be beyond the capabilities of modern mathematics. The conjecture concerns a sequence of numbers defined as follows: start with any positive integer $n$. Each term is then obtained from the previous term by following a set of rules: \n",
    "\n",
    "- If the previous term is even, the next term is one half of the previous term.\n",
    "- If the previous term is odd, the next term is 3 times the previous term plus 1.\n",
    "\n",
    "The conjecture is that no matter what value of n you choose, the sequence will always terminate at 1 entering an infinite sequence of 1, 4, 2, 1, 4, 2, 1...\n",
    "\n",
    "The YouTube channel Numberphile has a [video](https://www.youtube.com/watch?v=5mFpVDpKX70) on this sequence.\n",
    "\n",
    "In the following questions each question leads to the next. If you have defined a function for one question, use it in the next. This is exactly why functions exist. There is no need to redefine the code from a previous cell, cells have access to anything done in a previously run cell. Overly verbose repetitive solutions not following this **will incur a 2 mark penalty**."
   ]
  },
  {
   "cell_type": "markdown",
   "metadata": {},
   "source": [
    "## 1.\n",
    "\n",
    "Define the rules that determine the next number in the sequence as a **function**. It should take the current number in the sequence and return the next number in the sequence. [1]"
   ]
  },
  {
   "cell_type": "code",
   "execution_count": null,
   "metadata": {},
   "outputs": [],
   "source": []
  },
  {
   "cell_type": "markdown",
   "metadata": {},
   "source": [
    "## 2. \n",
    "Define a function that takes any positive integer and computes the Collatz sequence for it (Hint: think back to while loops). It should return the number of steps the sequence took before reaching 1. The function should return 0 and print a warning if a non-positive integer is provided to it. [1]"
   ]
  },
  {
   "cell_type": "code",
   "execution_count": null,
   "metadata": {},
   "outputs": [],
   "source": []
  },
  {
   "cell_type": "markdown",
   "metadata": {},
   "source": [
    "## 3.\n",
    "\n",
    "Use your functions to compute the Collatz sequence for all numbers between 1 and 10000. For each number store the number of steps it took before reaching 1 in a **numpy array**, you will need them later. If this takes a long time to run you solution to Q2 is probably too inefficient. [2]"
   ]
  },
  {
   "cell_type": "code",
   "execution_count": null,
   "metadata": {},
   "outputs": [],
   "source": []
  },
  {
   "cell_type": "markdown",
   "metadata": {},
   "source": [
    "## 4.\n",
    "\n",
    "Plot a scatter plot of number of steps vs starting number. You should adjust your marker symbol and size such that the plot is readable. [2]"
   ]
  },
  {
   "cell_type": "code",
   "execution_count": null,
   "metadata": {},
   "outputs": [],
   "source": []
  },
  {
   "cell_type": "markdown",
   "metadata": {},
   "source": [
    "## 5. \n",
    "\n",
    "Now we want to see the distribution of the number of steps, is there a pattern? Histogram the number of steps using a sensible number of bins. Plot this distribution as a bar chart, remember to plot the bin centres on the x axis! [2]"
   ]
  },
  {
   "cell_type": "code",
   "execution_count": null,
   "metadata": {},
   "outputs": [],
   "source": []
  },
  {
   "cell_type": "markdown",
   "metadata": {},
   "source": [
    "## 6.\n",
    "\n",
    "Now fit the distribution to a Gaussian. To do this, define a function to compute a 1D Gaussian distribution,\n",
    "\n",
    "$$ n(x) = \\frac{1}{N} \\exp\\left(-\\frac{(x-\\mu)^2}{2\\sigma^2}\\right).$$\n",
    "\n",
    "Your function should take a bin ($x$), the normalisation ($N$), the mean ($\\mu$), and the standard deviation ($\\sigma$) as arguments. Compute this fit using **curve_fit** and plot the histogram as a bar plot with the fit overlaid as a dashed line. [2]\n",
    "\n",
    "Is it a good fit? Do the counts appear to be randomly distributed? Why does it look the way it does? (There are no marks for these questions it's just an interesting discussion)."
   ]
  },
  {
   "cell_type": "code",
   "execution_count": null,
   "metadata": {},
   "outputs": [],
   "source": []
  }
 ],
 "metadata": {
  "language_info": {
   "name": "python"
  }
 },
 "nbformat": 4,
 "nbformat_minor": 2
}

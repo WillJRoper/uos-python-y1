{
 "cells": [
  {
   "cell_type": "markdown",
   "metadata": {},
   "source": [
    "## Assignment 1\n"
   ]
  },
  {
   "cell_type": "markdown",
   "metadata": {},
   "source": [
    "\n",
    "## Instructions\n",
    "\n",
    "**Assessed Content**:  You need to have worked through all notebooks up to 4.\n",
    "\n",
    "**Deadline**: Week 4, Friday at 5pm. Submit *this notebook with your solutions included* via e-submissions on Canvas.\n",
    "\n",
    "**Late-penalties**: Work handed in up to 24h late will incur a 5% penalty, i.e. 85 will be capped at 80.\n",
    "\n",
    "**Weighting**:  This is a formative assessment, i.e. has zero weight in the final grade you get for the module.\n",
    "\n",
    "**Feedback**:  A model solution will be released on Sussex Direct after the 24hr deadline. Feedback will be provided via peer marking for this assessment. If further feedback is required contact the course convenor or DT.\n",
    "\n",
    "**Release of marks**: We aim to get marks onto Sussex Direct within (and absolute maximum) of 10 working days.\n",
    "\n",
    "**Getting help**: Your primary source of help is during the Seminars in assessment week. Note that you can't skip the lab scripts and expect to be helped with the assessments.\n",
    "\n",
    "**Formatting and Commenting your code**: Your code should look neat and include comments to describe what your code does. If it isn't obvious what a line or block of code does it needs a comment. *Please use the single cell provided for each part of a question*. Some parts of your code may need higher comment density than others. Up to two marks will be deducted if your code is poorly formatted and/or poorly commented.\n",
    "\n",
    "**Collusion and Plagiarism**: By all means work together in groups, but you are expected to write your code independently. If at any time you are using \"cut and paste\" from someone else's work then you are doing something wrong and you need to stop. We have dealt with a myriad of collusion and plagirism in the past, don't add to the list.\n",
    "\n",
    "**Zombie codes**: One mark will be deducted if your code gets trapped in a loop and the grader has to crash out of it.\n",
    "\n",
    "**Advanced solutions**: Up to two marks will be deducted if your code uses advanced methods that have not been covered in the lab sessions. They might be clever, but you aren't demonstrating understanding (save those advanced methods for the future).\n",
    "\n",
    "**Avoid simple errors**: Before submitting make sure to restart and run all cells. It's easy with notebooks to accidentally delete a variable somewhere and continue using it because it is still in memory. Make sure your code still works after a restart!\n",
    "\n",
    "**Marks**: There are 10 marks available. You can find the number of marks alloted to a question in square brackets at the end of a question."
   ]
  },
  {
   "cell_type": "markdown",
   "metadata": {},
   "source": [
    "\n",
    "## 1.\n",
    "Print out `Hello, my name is X And I think I deserve Y marks for this assessment`, i.e. fill in your name for `X` and your honest estimate of your performance for `Y` (add the value for Y as the last thing you do before you submit the assessment). If you would like your work to remain anonymous, that is fine. Just substitute a random name for `X`. [1]\n"
   ]
  },
  {
   "cell_type": "code",
   "execution_count": 1,
   "metadata": {},
   "outputs": [
    {
     "name": "stdout",
     "output_type": "stream",
     "text": [
      "Hello, my name is <someone> and I think I deserve 10 marks this assessment.\n"
     ]
    }
   ],
   "source": [
    "print(\"Hello, my name is <someone> and I think I deserve 10 marks this assessment.\")"
   ]
  },
  {
   "cell_type": "markdown",
   "metadata": {},
   "source": [
    "\n",
    "## 2. \n",
    "\n",
    "- Define a variable containing a name. \n",
    "- Print out `The name, including spaces, is Z characters long`, where `Z` is **measured by Python**, rather than stated by you (0.5 deducted if it is not measured). \n",
    "- Now get, and store, a number from the user using the string `\"Type in a number between 1 and Z:\"`, where `Z` is the length measured above. \n",
    "- Print the letter stored at the index stated by the user to the screen, e.g. if your name was `Santa`, and number was 3, then the output would be `\"n\"`. [2]\n"
   ]
  },
  {
   "cell_type": "code",
   "execution_count": 2,
   "metadata": {},
   "outputs": [
    {
     "name": "stdout",
     "output_type": "stream",
     "text": [
      "The name, including spaces, is 6 characters long\n"
     ]
    },
    {
     "name": "stdin",
     "output_type": "stream",
     "text": [
      "Type in a number between 1 and 6 5\n"
     ]
    },
    {
     "name": "stdout",
     "output_type": "stream",
     "text": [
      "The character at index 5 is d\n"
     ]
    }
   ],
   "source": [
    "# Define a name in a variable\n",
    "name = \"Edward\"\n",
    "\n",
    "# Get the length of the name\n",
    "length = len(name)\n",
    "\n",
    "print(f\"The name, including spaces, is {length} characters long\")\n",
    "\n",
    "# Get an index from the user\n",
    "ind = int(input(f\"Type in a number between 1 and {length}\"))\n",
    "\n",
    "# Report the requested index\n",
    "print(f\"The character at index {ind} is {name[ind]}\")\n",
    "\n"
   ]
  },
  {
   "cell_type": "markdown",
   "metadata": {},
   "source": [
    "## 3.\n",
    "\n",
    "Request that the user inputs a Sussex candidate number (i.e. a 6 digit number). And: \n",
    "- Sum all the individual digits, printing the result.\n",
    "- Convert the numbers into a sequence of letters (where 0=A, 1=B, 2=C etc) and print the resulting sequence of letters, e.g. 1234567 becomes BCDEFGH. \n",
    "\n",
    "As a guideline, without comments, this code should be no more than 20 lines long. And it is possible to do it in less than 10. If you are using more than 20 lines, then your approach is very inefficient and you will be deducted 0.5 marks. [2]\n"
   ]
  },
  {
   "cell_type": "code",
   "execution_count": 3,
   "metadata": {},
   "outputs": [
    {
     "name": "stdin",
     "output_type": "stream",
     "text": [
      "Input a candidate number:  188334\n"
     ]
    },
    {
     "name": "stdout",
     "output_type": "stream",
     "text": [
      "The sum of the digits is: 27\n",
      "The resulting string is BEEUUS\n"
     ]
    }
   ],
   "source": [
    "# There are many ways to approach this, this is not the ONLY correct\n",
    "# method. If the desired result is achieved in a reasonable amount of \n",
    "# code then the answer is correct. \n",
    "\n",
    "# Get a candidate number from the user\n",
    "cand_num_str = input(\"Input a candidate number: \")\n",
    "\n",
    "# Loop over the string and sum digits\n",
    "cand_sum = 0\n",
    "for digit_str in cand_num_str:\n",
    "\n",
    "    # Convert digit to an integer and add it to the sum\n",
    "    cand_sum += int(digit_str)\n",
    "\n",
    "print(f\"The sum of the digits is: {cand_sum}\")\n",
    "\n",
    "# Define a string for the mapping from digit to letters\n",
    "digit2letter = \"OBFUSCATED\"\n",
    "\n",
    "# Get the resulting letter string\n",
    "result = \"\"\n",
    "for digit_str in cand_num_str:\n",
    "\n",
    "    # Add the current letter\n",
    "    result += digit2letter[int(digit_str)]\n",
    "\n",
    "print(\"The resulting string is\", result)\n"
   ]
  },
  {
   "cell_type": "code",
   "execution_count": 4,
   "metadata": {},
   "outputs": [
    {
     "name": "stdin",
     "output_type": "stream",
     "text": [
      "Input a candidate number:  789789\n"
     ]
    },
    {
     "name": "stdout",
     "output_type": "stream",
     "text": [
      "The sum of the digits is: 48\n",
      "The resulting string is TEDTED\n"
     ]
    }
   ],
   "source": [
    "# It is possible to do the above in far fewer lines using concepts we haven't\n",
    "# covered yet. In case your interested here's the shortest version I could\n",
    "# think of.\n",
    "\n",
    "import numpy as np\n",
    "\n",
    "# Get a candidate number from the user\n",
    "cand_num_str = input(\"Input a candidate number: \")\n",
    "\n",
    "# Convert string candidate number to array of ints and sum\n",
    "print(f\"The sum of the digits is: {np.sum(np.array(list(cand_num_str), dtype=int))}\")\n",
    "\n",
    "# Define a string for the mapping from digit to letters\n",
    "digit2letter = \"OBFUSCATED\"\n",
    "\n",
    "# Get the resulting letter string\n",
    "print(\"The resulting string is\", \"\".join([digit2letter[int(d)] for d in cand_num_str]))\n",
    "\n"
   ]
  },
  {
   "cell_type": "markdown",
   "metadata": {},
   "source": [
    "\n",
    "## 4. \n",
    "\n",
    "Create a `list` containing the years from 1991-2023. You should not need to manually write this list out.\n",
    "- Recall the rules and code for identifying a leap year from the Exercises.\n",
    "- Loop over the years and print whether each year was a leap year or not. [2]\n"
   ]
  },
  {
   "cell_type": "code",
   "execution_count": 5,
   "metadata": {},
   "outputs": [
    {
     "name": "stdout",
     "output_type": "stream",
     "text": [
      "1991 was NOT a leap year!\n",
      "1992 was a leap year!\n",
      "1993 was NOT a leap year!\n",
      "1994 was NOT a leap year!\n",
      "1995 was NOT a leap year!\n",
      "1996 was a leap year!\n",
      "1997 was NOT a leap year!\n",
      "1998 was NOT a leap year!\n",
      "1999 was NOT a leap year!\n",
      "2000 was a leap year!\n",
      "2001 was NOT a leap year!\n",
      "2002 was NOT a leap year!\n",
      "2003 was NOT a leap year!\n",
      "2004 was a leap year!\n",
      "2005 was NOT a leap year!\n",
      "2006 was NOT a leap year!\n",
      "2007 was NOT a leap year!\n",
      "2008 was a leap year!\n",
      "2009 was NOT a leap year!\n",
      "2010 was NOT a leap year!\n",
      "2011 was NOT a leap year!\n",
      "2012 was a leap year!\n",
      "2013 was NOT a leap year!\n",
      "2014 was NOT a leap year!\n",
      "2015 was NOT a leap year!\n",
      "2016 was a leap year!\n",
      "2017 was NOT a leap year!\n",
      "2018 was NOT a leap year!\n",
      "2019 was NOT a leap year!\n",
      "2020 was a leap year!\n",
      "2021 was NOT a leap year!\n",
      "2022 was NOT a leap year!\n"
     ]
    }
   ],
   "source": [
    "# Create a list of years between 1991 and 2023\n",
    "year_lst = list(range(1991, 2023))\n",
    "\n",
    "# Loop over the years\n",
    "for yr in year_lst:\n",
    "\n",
    "    # Test if it is a leap year\n",
    "    if yr % 4 == 0 and (yr % 100 != 0 or yr % 400 == 0):\n",
    "        print(f\"{yr} was a leap year!\")\n",
    "    else:\n",
    "        print(f\"{yr} was NOT a leap year!\")\n"
   ]
  },
  {
   "cell_type": "markdown",
   "metadata": {},
   "source": [
    "## 5. \n",
    "\n",
    "Take the leap year conditions from the above code and put it into a `while` loop where on each iteration:\n",
    "- The user is asked `\"Do you want to check a year?\"`. The following user responses should be allowed: Yes, yes, Y, y, No, no, N, n. (Consider how you can minimise the number of if statements while enabling all these responses.)\n",
    "- If the response is in the \"no\" category, the code needs to end with a `\"Thank you and Goodbye\"` and break out of the loop. To end a loop you can use the `break` command.\n",
    "- If the response is in the \"yes\" category:\n",
    "    - Get another year to check from the user.\n",
    "    - Test whether this year is a leap year using the code from 4.\n",
    "\n",
    "This is a very contrived example of how real world apps work taking input from users. `while True:` is by definition an infinite loop but it underpins a lot of user interactivity! [3]\n"
   ]
  },
  {
   "cell_type": "code",
   "execution_count": 6,
   "metadata": {},
   "outputs": [
    {
     "name": "stdin",
     "output_type": "stream",
     "text": [
      "Do you want to check a year? y\n",
      "Enter a year: 1876\n"
     ]
    },
    {
     "name": "stdout",
     "output_type": "stream",
     "text": [
      "1876 was a leap year!\n"
     ]
    },
    {
     "name": "stdin",
     "output_type": "stream",
     "text": [
      "Do you want to check a year? Yes\n",
      "Enter a year: 1976\n"
     ]
    },
    {
     "name": "stdout",
     "output_type": "stream",
     "text": [
      "1976 was a leap year!\n"
     ]
    },
    {
     "name": "stdin",
     "output_type": "stream",
     "text": [
      "Do you want to check a year? Y\n",
      "Enter a year: 1983\n"
     ]
    },
    {
     "name": "stdout",
     "output_type": "stream",
     "text": [
      "1983 was NOT a leap year!\n"
     ]
    },
    {
     "name": "stdin",
     "output_type": "stream",
     "text": [
      "Do you want to check a year? n\n"
     ]
    },
    {
     "name": "stdout",
     "output_type": "stream",
     "text": [
      "Thank you and Goodbye\n"
     ]
    }
   ],
   "source": [
    "# Loop until told otherwise...\n",
    "while True:\n",
    "\n",
    "    # Are we testing a year?\n",
    "    ans = input(\"Do you want to check a year?\")\n",
    "\n",
    "    # Handle the response, N/Y in ans or n/y in ans covers all possible responses\n",
    "    if \"N\" in ans or \"n\" in ans:\n",
    "        \n",
    "        print(\"Thank you and Goodbye\")\n",
    "        break\n",
    "\n",
    "    elif \"Y\" in ans or \"y\" in ans:\n",
    "        \n",
    "        # Get another year\n",
    "        yr = int(input(\"Enter a year:\"))\n",
    "        \n",
    "        # Test if it is a leap year\n",
    "        if yr % 4 == 0 and (yr % 100 != 0 or yr % 400 == 0):\n",
    "            print(f\"{yr} was a leap year!\")\n",
    "        else:\n",
    "            print(f\"{yr} was NOT a leap year!\")\n",
    "\n",
    "    else:\n",
    "        # Not required for the marks but its good practice to assume\n",
    "        # the user is going to do something silly... so catch it and\n",
    "        # tell them so!\n",
    "        print(f\"The response ({ans}) was not valid. Allowed responses are: Yes, yes, Y, y, No, no, N, or n\")\n"
   ]
  },
  {
   "cell_type": "markdown",
   "metadata": {},
   "source": [
    "\n",
    "\n",
    "## 6. (bonus challenge)\n",
    "\n",
    "This question is a fun challenge for those interested. A simple form of it used to be included in the first assessment and with the second parts set as a markless challenge. Many have tried over the years to complete it as efficiently as possible and to complete the final part.\n",
    "\n",
    "Consider the following equation: \n",
    "```\n",
    "maths +\n",
    "   at +\n",
    "  the \n",
    "------\n",
    "lodge\n",
    "------\n",
    "```\n",
    "- Find the numbers (between 0 and 9) that can represent the letters of \"maths at the\" and give the result \"lodge\". No two letters can match to the same number. A very simple example would be `ab+c+d=ae`, where `a=1, b=4, c=2, d=3, e=9`. Also note that, in this question, `maths` does not mean `m * a * t * h * s`, e.g. if `m=1, a=2, t=3, h=4, s=5`, then `maths=12,345`. [0]\n",
    "\n",
    "- Can you do this faster with packages not introduced in the labs? [0]\n",
    "\n",
    "- Can you find other sequences of four words (not necessarily sentences) that would work? No student has managed to find others during the course. I can guarantee there are thousands of solutions but finding them efficiently is a challenge. [0]\n"
   ]
  },
  {
   "cell_type": "code",
   "execution_count": null,
   "metadata": {},
   "outputs": [],
   "source": []
  }
 ],
 "metadata": {
  "kernelspec": {
   "display_name": "Python 3 (ipykernel)",
   "language": "python",
   "name": "python3"
  },
  "language_info": {
   "codemirror_mode": {
    "name": "ipython",
    "version": 3
   },
   "file_extension": ".py",
   "mimetype": "text/x-python",
   "name": "python",
   "nbconvert_exporter": "python",
   "pygments_lexer": "ipython3",
   "version": "3.10.4"
  }
 },
 "nbformat": 4,
 "nbformat_minor": 4
}

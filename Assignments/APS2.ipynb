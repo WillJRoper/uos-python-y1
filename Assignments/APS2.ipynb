{
 "cells": [
  {
   "cell_type": "markdown",
   "metadata": {},
   "source": [
    "# Assignment 2"
   ]
  },
  {
   "cell_type": "markdown",
   "metadata": {},
   "source": [
    "\n",
    "## Instructions\n",
    "\n",
    "**Assessed Content**:  You need to have worked through all notebooks up to (and not including) notebook 10.\n",
    "\n",
    "**Deadline**: Week 7, Friday at 5pm. Submit *this notebook with your solutions included* via e-submissions on Canvas.\n",
    "\n",
    "**Late-penalties**: Work handed in up to 24h late will incur a 5% penalty, i.e. 85 will be capped at 80.\n",
    "\n",
    "**Weighting**:  This is a summative assessment with a weight of 15% of the total PIP mark.\n",
    "\n",
    "**Feedback**:  A model solution will be released on Sussex Direct after the 24hr deadline.\n",
    "\n",
    "**Release of marks**: We aim to get marks onto Sussex Direct within (an absolute maximum) of 10 working days.\n",
    "\n",
    "**Getting help**: Your primary source of help is during the Seminars in assessment week. Note that you can't skip the lab scripts and expect to be helped with the assessments.\n",
    "\n",
    "**Formatting and Commenting your code**: Your code should look neat and include comments to describe what your code does. If it isn't obvious what a line or block of code does it needs a comment. *Please use the single cell provided for each part of a question*. Some parts of your code may need higher comment density than others. Up to two marks will be deducted if your code is poorly formatted and/or poorly commented.\n",
    "\n",
    "**Collusion and Plagiarism**: By all means work together in groups, but you are expected to write your code independently. If at any time you are using \"cut and paste\" from someone else's work then you are doing something wrong and you need to stop. We have dealt with a myriad of collusion and plagirism in the past, don't add to the list.\n",
    "\n",
    "**Zombie codes**: One mark will be deducted if your code gets trapped in a loop and the grader has to crash out of it.\n",
    "\n",
    "**Advanced solutions**: Up to two marks will be deducted if your code uses advanced methods that have not been covered in the lab sessions. They might be clever, but you aren't demonstrating understanding of the foundations (save those advanced methods for the future).\n",
    "\n",
    "**Avoid simple errors**: Before submitting make sure to restart and run all cells. It's easy with notebooks to accidentally delete a variable somewhere and continue using it because it is still in memory. Make sure your code still works after a restart!\n",
    "\n",
    "**Keep your files local**: This assignment requires the loading of files. You do not need to upload these files but **you do need to have them in the same directory as your notebook**. This means the file path for loading your files will always be `\"myfile.csv\"` or similar, i.e. no extra directories in the path. The markers will not move directories around to ensure your code works!\n",
    "\n",
    "**Marks**: There are 10 marks available. You can find the number of marks alloted to a question in square brackets at the end of a question."
   ]
  },
  {
   "cell_type": "markdown",
   "metadata": {},
   "source": [
    "In this assignment you'll analyse real (but anonymised) attendance and attainment data from MPS. By the end of the assignment you should have a series of plots probing the relation between attendance and attainment. This is a real example of data analysis, there are purposesly rough edges to the input data you'll have to fix along the way (e.g. question 2). \n",
    "\n",
    "This may or may not be a (not so) subtle method to demonstrate the importance of attendance..."
   ]
  },
  {
   "cell_type": "markdown",
   "metadata": {},
   "source": [
    "## 1.\n",
    "\n",
    "Download `\"attendance.csv\"` from Canvas and place it in the same directory as your assignment Notebook. In the cell below load `\"attendance.csv\"` using `pandas` and output/print the dataframe. (Do you remember how to get the \"prettiest\" output?) [1] "
   ]
  },
  {
   "cell_type": "code",
   "execution_count": null,
   "metadata": {},
   "outputs": [],
   "source": []
  },
  {
   "cell_type": "markdown",
   "metadata": {},
   "source": [
    "## 2.\n",
    "\n",
    "You may have noticed the `\"attendance\"` column is a string not a number. This won't work for what comes next! Extract this column, remove the final character of the string in each entry (the `\"%\"`), convert them to `float`s, and reassign them to the `\"attendance\"` column. [2]"
   ]
  },
  {
   "cell_type": "code",
   "execution_count": null,
   "metadata": {},
   "outputs": [],
   "source": []
  },
  {
   "cell_type": "markdown",
   "metadata": {},
   "source": [
    "## 3.\n",
    "\n",
    "Make a scatter plot of `\"Mean_Mark\"` vs `\"attendance\"` and the limits set to be `-5-105` on both the $x$ and $y$ axes. You are free to style this plot however you want but make sure you label the axes with meaningful labels with units (%), not just the column headings! [1]"
   ]
  },
  {
   "cell_type": "code",
   "execution_count": null,
   "metadata": {},
   "outputs": [],
   "source": []
  },
  {
   "cell_type": "markdown",
   "metadata": {},
   "source": [
    "## 4.\n",
    "\n",
    "The CSV file has some extra information we can use to make the plot more informative. Take your code from question 3 but instead of plotting every year all at once, plot each year as a different coloured marker with a label and a legend, you can do this in a loop (years run 0-4, inclusive of 4), `matplotlib` will helpfully set the color of each line to be different. [2]\n",
    "\n",
    "To extract the data for a specific year you can use the following code as a guide:\n",
    "```\n",
    "mask = df.Year == year\n",
    "attendance_per_year = df.attendance[mask]\n",
    "```\n",
    "This is an example of \"boolean indexing\"."
   ]
  },
  {
   "cell_type": "code",
   "execution_count": null,
   "metadata": {},
   "outputs": [],
   "source": []
  },
  {
   "cell_type": "markdown",
   "metadata": {},
   "source": [
    "## 5.\n",
    "\n",
    "You should see that there's no obvious trend in the data based on the year of study (at least it's very hard to see any if there is one in this plot). \n",
    "\n",
    "Now show this more explictly by fitting straight lines (first order polynomials) to the data. You can use the code from question 4, but now plot lines of best fit. To do this:\n",
    "\n",
    "- Loop over each year and extract the x and y values using boolean indexing like question 4.\n",
    "- Fit the data from each year.\n",
    "- Evaluate and plot the resulting fit for each year.\n",
    "- Modify your label code from question 4 to include how many students were in each year, i.e. the number of data points the fit was derived from.  [3]\n",
    "\n"
   ]
  },
  {
   "cell_type": "code",
   "execution_count": null,
   "metadata": {},
   "outputs": [],
   "source": []
  },
  {
   "cell_type": "markdown",
   "metadata": {},
   "source": [
    "## 6.\n",
    "\n",
    "What conclusions do you draw from these observed trends? Write your answer in this cell below the question. [1]"
   ]
  }
 ],
 "metadata": {
  "kernelspec": {
   "display_name": "synthesizer-env",
   "language": "python",
   "name": "python3"
  },
  "language_info": {
   "codemirror_mode": {
    "name": "ipython",
    "version": 3
   },
   "file_extension": ".py",
   "mimetype": "text/x-python",
   "name": "python",
   "nbconvert_exporter": "python",
   "pygments_lexer": "ipython3",
   "version": "3.10.4"
  }
 },
 "nbformat": 4,
 "nbformat_minor": 2
}

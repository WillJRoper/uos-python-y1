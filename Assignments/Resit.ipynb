{
 "cells": [
  {
   "cell_type": "markdown",
   "metadata": {},
   "source": [
    "# Resit Solutions\n",
    "\n",
    "## Instructions\n",
    "\n",
    "**Assessed Content**:  You need to have worked through all notebooks up to (and not including) notebook 10.\n",
    "\n",
    "**Deadline**: August 12th at 5pm. Submit *this notebook with your solutions included* via e-submissions on Canvas. This submission has a 24 hour late period.\n",
    "\n",
    "**Formatting and Commenting your code**: Your code should look neat and include comments to describe what your code does. If it isn't obvious what a line or block of code does it needs a comment. *Please use the single cell provided for each part of a question*. Some parts of your code may need higher comment density than others. Up to two marks will be deducted if your code is poorly formatted and/or poorly commented.\n",
    "\n",
    "**Collusion and Plagiarism**: By all means work together in groups, but you are expected to write your code independently. If at any time you are using \"cut and paste\" from someone else's work then you are doing something wrong and you need to stop. We have dealt with a myriad of collusion and plagirism in the past, don't add to the list.\n",
    "\n",
    "**Zombie codes**: One mark will be deducted if your code gets trapped in a loop and the grader has to crash out of it.\n",
    "\n",
    "**Avoid simple errors**: Before submitting make sure to restart and run all cells. It's easy with notebooks to accidentally delete a variable somewhere and continue using it because it is still in memory. Make sure your code still works after a restart!\n",
    "\n",
    "**Keep your files local**: This assignment requires the loading of files. You do not need to upload these files but **you do need to have them in the same directory as your notebook**. This means the file path for loading your files will always be `\"myfile.csv\"` or similar, i.e. no extra directories in the path. The markers will not move directories around to ensure your code works!\n",
    "\n",
    "**Marks**: There are 10 marks available. You can find the number of marks alloted to a question in square brackets at the end of a question. If a question relies on a previously question result which was incorrect you'll get an error carried forward and not be penalised for the error multiple times."
   ]
  },
  {
   "cell_type": "markdown",
   "metadata": {},
   "source": [
    "In this assignment you'll analyse real (but anonymised) attendance and attainment data from MPS. By the end of the assignment you should have a series of plots probing the relation between attendance and attainment. This is a real example of data analysis, there are purposesly rough edges to the input data you'll have to fix along the way (e.g. question 3). \n",
    "\n",
    "This may or may not be a (not so) subtle method to demonstrate the importance of attendance..."
   ]
  },
  {
   "cell_type": "markdown",
   "metadata": {},
   "source": [
    "## 1.\n",
    "\n",
    "Download `\"attendance_resit.csv\"` from Canvas and place it in the same directory as your assignment Notebook. In the cell below load `\"attendance_resit.csv\"` using `pandas` and output/print the dataframe. (Do you remember how to get the \"prettiest\" output?) **[1]** "
   ]
  },
  {
   "cell_type": "code",
   "execution_count": null,
   "metadata": {},
   "outputs": [],
   "source": []
  },
  {
   "cell_type": "markdown",
   "metadata": {},
   "source": [
    "## 2.\n",
    "\n",
    "Print the contents of the `\"attendance\"` column and the `\"Mean_Mark\"` column as lists separately. **[2]**"
   ]
  },
  {
   "cell_type": "code",
   "execution_count": null,
   "metadata": {},
   "outputs": [],
   "source": []
  },
  {
   "cell_type": "markdown",
   "metadata": {},
   "source": [
    "## 3.\n",
    "\n",
    "You may have noticed the `\"attendance\"` column is in a decimal format while the mean mark is out of 100. To make the plots later easier to interpret convert the `\"attendance\"` column to a percentage (i.e. from 0-100). **[1]**"
   ]
  },
  {
   "cell_type": "code",
   "execution_count": null,
   "metadata": {},
   "outputs": [],
   "source": []
  },
  {
   "cell_type": "markdown",
   "metadata": {},
   "source": [
    "## 4.\n",
    "\n",
    "Add two new columns to the dataframe called `\"attendance_err\"` and `\"Mean_Mark_err\"`. These will contain the error in the attendance and mean mark data. Since we don't have explicit errors define the errors as 5% of the value multiplied by some random contribution. Ensure to print the dataframe to make sure you added the columns correctly.\n",
    "\n",
    "For the random contribution you can use the numpy's uniform random number generator to generate `len(df)` random numbers between 0.5 and 1. For example, if the attendance is 80% the error should be 0.05 * 80 * random_number. **[1]**\n",
    "\n",
    "```python\n",
    "import numpy as np\n",
    "\n",
    "err = 0.05 * 80 * np.random.uniform(0.5, 1, 1)\n",
    "```\n",
    "(The above example only generates a single random number, you'll need to generate `len(df)` random numbers.)"
   ]
  },
  {
   "cell_type": "code",
   "execution_count": null,
   "metadata": {},
   "outputs": [],
   "source": []
  },
  {
   "cell_type": "markdown",
   "metadata": {},
   "source": [
    "## 5.\n",
    "\n",
    "Make a scatter plot of `\"Mean_Mark\"` vs `\"attendance\"` with x and y error bars. The limits should be set to `-5-105` on both the $x$ and $y$ axes. You are free to style this plot however you want but make sure you label the axes with meaningful labels with units (%)! **[1]**"
   ]
  },
  {
   "cell_type": "code",
   "execution_count": null,
   "metadata": {},
   "outputs": [],
   "source": []
  },
  {
   "cell_type": "markdown",
   "metadata": {},
   "source": [
    "## 6.\n",
    "\n",
    "The CSV file has some extra information we can use to make the plot more informative. Take your code from question 3 but instead of plotting every course all at once, plot each course as a different coloured marker with a label and a legend, you can do this in a loop, `matplotlib` will helpfully set the color of each line to be different.\n",
    "\n",
    "Again this plot should include errorbars.  **[2]**\n",
    "\n",
    "To extract the data for a specific course you can use the following code as a guide:\n",
    "```python\n",
    "mask = df.Course == course\n",
    "attendance_per_course = df.attendance[mask]\n",
    "```\n",
    "This is an example of \"boolean indexing\".\n",
    "\n",
    "Note that you can loop over all courses using the following code:\n",
    "```python\n",
    "for course in df.Course.unique():\n",
    "    # your code here\n",
    "```\n",
    "\n",
    "Since this will result in a lot of lines on the plot you'll want to move the legend outside the plot. This can be done by using the following code:\n",
    "```python\n",
    "plt.legend(loc='center left', bbox_to_anchor=(1, 0.5))\n",
    "```"
   ]
  },
  {
   "cell_type": "code",
   "execution_count": null,
   "metadata": {},
   "outputs": [],
   "source": [
    "\n",
    "     \n"
   ]
  },
  {
   "cell_type": "markdown",
   "metadata": {},
   "source": [
    "## 7.\n",
    "\n",
    "To more directly probe the relation between attendance and mean mark you should include a fit for each course. Modify your code from question 6 to include a linear fit for each course. You should use scipy.optimize.curve_fit to fit a straight line to the data.\n",
    "\n",
    "- To do this first define a function that returns a straight line, i.e. $y = mx + c$. \n",
    "- Loop over all courses.\n",
    "- For each course extract the data as in question 6.\n",
    "- Use `curve_fit` to get the best fit parameters (make sure to include the errors).\n",
    "- Evaluate the straight line function at a range of attendance values (e.g. 0-100) and plot this line on the graph. **[2]**\n",
    "\n",
    "Note, you can skip any course with fewer than 5 data points, i.e.: \n",
    "```python\n",
    "if len(df.attendance[mask]) < 5:\n",
    "    continue\n",
    "```\n"
   ]
  },
  {
   "cell_type": "code",
   "execution_count": null,
   "metadata": {},
   "outputs": [],
   "source": []
  }
 ],
 "metadata": {
  "kernelspec": {
   "display_name": "synthesizer-env",
   "language": "python",
   "name": "python3"
  },
  "language_info": {
   "codemirror_mode": {
    "name": "ipython",
    "version": 3
   },
   "file_extension": ".py",
   "mimetype": "text/x-python",
   "name": "python",
   "nbconvert_exporter": "python",
   "pygments_lexer": "ipython3",
   "version": "3.10.13"
  }
 },
 "nbformat": 4,
 "nbformat_minor": 2
}

{
 "cells": [
  {
   "cell_type": "markdown",
   "metadata": {},
   "source": [
    "# Exercises 4.1\n",
    "\n",
    "## 1."
   ]
  },
  {
   "cell_type": "code",
   "execution_count": 1,
   "metadata": {},
   "outputs": [
    {
     "name": "stdout",
     "output_type": "stream",
     "text": [
      "['Tom', 'Jess', 'Joe', 'Luke', 'Bob']\n"
     ]
    }
   ],
   "source": [
    "# Create a list of names\n",
    "lst_names = [\"Tom\", \"Jess\", \"Joe\", \"Luke\"]\n",
    "name = \"Bob\"\n",
    "\n",
    "# Test if the name is in the list\n",
    "if name in lst_names:\n",
    "    \n",
    "    # It is in the list, print it\n",
    "    print(lst_names)\n",
    "\n",
    "else:\n",
    "\n",
    "    # It isn't in the list, add it\n",
    "    lst_names.append(name)\n",
    "    print(lst_names) "
   ]
  },
  {
   "cell_type": "markdown",
   "metadata": {},
   "source": [
    "## 2."
   ]
  },
  {
   "cell_type": "code",
   "execution_count": 2,
   "metadata": {},
   "outputs": [
    {
     "name": "stdout",
     "output_type": "stream",
     "text": [
      "The score is 98\n",
      "You have a first\n",
      "The score is 98\n",
      "You have a first\n",
      "The score is 78.0\n",
      "You have a first\n"
     ]
    }
   ],
   "source": [
    "# Define a score\n",
    "score = 98\n",
    "\n",
    "# Test score and print the correct result\n",
    "print(f\"The score is {score}\")\n",
    "if score >= 70:\n",
    "    print(\"You have a first\")\n",
    "elif score >= 60:\n",
    "    print(\"You have a 2:1\")\n",
    "elif score >= 50:\n",
    "    print(\"You have a 2:2\")\n",
    "elif score >= 40:\n",
    "    print(\"You have a third\")\n",
    "else: \n",
    "    print(\"You have not passed\")\n",
    "\n",
    "# Adapt the above to handle out of bounds issues \n",
    "print(f\"The score is {score}\")\n",
    "if score > 100:\n",
    "    print(\"The score is not within the correct boundaires!\")\n",
    "elif score >= 70:\n",
    "    print(\"You have a first\")\n",
    "elif score >= 60:\n",
    "    print(\"You have a 2:1\")\n",
    "elif score >= 50:\n",
    "    print(\"You have a 2:2\")\n",
    "elif score >= 40:\n",
    "    print(\"You have a third\")\n",
    "elif score < 40 and score >= 0: \n",
    "    print(\"You have not passed\")\n",
    "else:\n",
    "    print(\"The score is not within the correct boundaires!\")\n",
    "\n",
    "# Do the same but with an input from the user\n",
    "score = float(input(\"Input your score:\"))\n",
    "\n",
    "# And now test it...\n",
    "print(f\"The score is {score}\")\n",
    "if score > 100:\n",
    "    print(\"The score is not within the correct boundaires!\")\n",
    "elif score >= 70:\n",
    "    print(\"You have a first\")\n",
    "elif score >= 60:\n",
    "    print(\"You have a 2:1\")\n",
    "elif score >= 50:\n",
    "    print(\"You have a 2:2\")\n",
    "elif score >= 40:\n",
    "    print(\"You have a third\")\n",
    "elif score < 40 and score >= 0: \n",
    "    print(\"You have not passed\")\n",
    "else:\n",
    "    print(\"The score is not within the correct boundaires!\")"
   ]
  },
  {
   "cell_type": "markdown",
   "metadata": {},
   "source": [
    "## 3."
   ]
  },
  {
   "cell_type": "code",
   "execution_count": 3,
   "metadata": {},
   "outputs": [
    {
     "name": "stdout",
     "output_type": "stream",
     "text": [
      "True\n",
      "2000 is a leap year\n"
     ]
    }
   ],
   "source": [
    "# Get a year from the user\n",
    "year = int(input(\"Input a year:\"))\n",
    "\n",
    "# Technically this is enough for the question\n",
    "print(year % 4 == 0 and (year % 100 != 0 or year % 400 == 0))\n",
    "\n",
    "# But we can test the year to see if it is a leap year with an if-else block\n",
    "# for a nicer output\n",
    "if year % 4 == 0 and (year % 100 != 0 or year % 400 == 0):\n",
    "    print(f\"{year} is a leap year\")\n",
    "else:\n",
    "    print(f\"{year} is not a leap year\")"
   ]
  },
  {
   "cell_type": "markdown",
   "metadata": {},
   "source": [
    "## 4."
   ]
  },
  {
   "cell_type": "code",
   "execution_count": 4,
   "metadata": {},
   "outputs": [
    {
     "name": "stdout",
     "output_type": "stream",
     "text": [
      "-100 is negative\n"
     ]
    }
   ],
   "source": [
    "# Get a number from the user\n",
    "num = int(input(\"Input a number:\"))\n",
    "\n",
    "# Test whether its postive, negative or zero\n",
    "if num > 0:\n",
    "    print(f\"{num} is positive\")\n",
    "elif num < 0:\n",
    "    print(f\"{num} is negative\")\n",
    "else:\n",
    "    print(\"0 is technically not a number...\")"
   ]
  },
  {
   "cell_type": "markdown",
   "metadata": {},
   "source": [
    "# Exercises 4.2\n",
    "\n",
    "## 1.\n"
   ]
  },
  {
   "cell_type": "code",
   "execution_count": 5,
   "metadata": {},
   "outputs": [
    {
     "name": "stdout",
     "output_type": "stream",
     "text": [
      "0 3 6 9 12 15 18 21 24 27 30 33 36 39 42 45 48 51 54 57 60 63 66 69 72 75 78 81 84 87 90 93 96 99 "
     ]
    }
   ],
   "source": [
    "# Get the range variables from the user\n",
    "start = int(input(\"Enter a starting point:\"))\n",
    "end = int(input(\"Enter an ending point:\"))\n",
    "interval = int(input(\"Enter an interval:\"))\n",
    "\n",
    "# Loop over the provided range\n",
    "for i in range(start, end, interval):\n",
    "    print(i, end=\" \")  # end is by default a newline (\"\\n\") passing a whitespace overides this"
   ]
  },
  {
   "cell_type": "markdown",
   "metadata": {},
   "source": [
    "## 2."
   ]
  },
  {
   "cell_type": "code",
   "execution_count": 6,
   "metadata": {},
   "outputs": [
    {
     "name": "stdout",
     "output_type": "stream",
     "text": [
      "Numbers divisible by 16 [100, 104, 108, 112, 116, 120, 124, 128, 132, 136, 140, 144, 148, 152, 156, 160, 164, 168, 172, 176, 180, 184, 188, 192, 196, 200, 204, 208, 212, 216, 220, 224, 228, 232, 236, 240, 244, 248, 252, 256, 260, 264, 268, 272, 276, 280, 284, 288, 292, 296, 300, 304, 308, 312, 316, 320, 324, 328, 332, 336, 340, 344, 348, 352, 356, 360, 364, 368, 372, 376, 380, 384, 388, 392, 396, 400, 404, 408, 412, 416, 420, 424, 428, 432, 436, 440, 444, 448, 452, 456, 460, 464, 468, 472, 476, 480, 484, 488, 492, 496]\n",
      "Numbers NOT divisible by 16 []\n"
     ]
    }
   ],
   "source": [
    "# Get the range variables from the user\n",
    "start = int(input(\"Enter a starting point:\"))\n",
    "end = int(input(\"Enter an ending point:\"))\n",
    "interval = int(input(\"Enter an interval:\"))\n",
    "\n",
    "# Create 2 lists\n",
    "div_by_4_interval = []\n",
    "not_div_by_4_interval = []\n",
    "\n",
    "# Loop over the provided range\n",
    "for i in range(start, end, interval):\n",
    "\n",
    "    # Test if a multiple\n",
    "    if i % 4 * interval == 0 and i != 0:\n",
    "        div_by_4_interval.append(i)\n",
    "    else:\n",
    "        not_div_by_4_interval.append(i)\n",
    "\n",
    "print(f\"Numbers divisible by {4 * interval}\", div_by_4_interval)\n",
    "print(f\"Numbers NOT divisible by {4 * interval}\", not_div_by_4_interval)\n"
   ]
  },
  {
   "cell_type": "markdown",
   "metadata": {},
   "source": [
    "# Exercises 4.3\n",
    "\n",
    "## 1."
   ]
  },
  {
   "cell_type": "code",
   "execution_count": 7,
   "metadata": {},
   "outputs": [
    {
     "name": "stdout",
     "output_type": "stream",
     "text": [
      "[0.5, 0.25, 0.125, 0.0625, 0.03125, 0.015625, 0.0078125, 0.00390625, 0.001953125, 0.0009765625]\n"
     ]
    }
   ],
   "source": [
    "# Set up a list to store the terms\n",
    "series = []\n",
    "\n",
    "# Loop to find the first 10 terms\n",
    "for i in range(1, 11):\n",
    "    series.append(1 / 2 ** i)\n",
    "\n",
    "print(series)"
   ]
  },
  {
   "cell_type": "markdown",
   "metadata": {},
   "source": [
    "## 2."
   ]
  },
  {
   "cell_type": "code",
   "execution_count": 8,
   "metadata": {},
   "outputs": [
    {
     "name": "stdout",
     "output_type": "stream",
     "text": [
      "1 potato 2 potato 3 potato 4, 5 potato 6 potato 7 potato more.\n"
     ]
    }
   ],
   "source": [
    "# Create a string to hold the result\n",
    "result = \"\"\n",
    "\n",
    "# Loop between 1 and 8 (exclusive) and create the rhyme\n",
    "for n in range(1, 8):\n",
    "    if n != 4:\n",
    "        result += f\"{n} potato \"\n",
    "    else:\n",
    "        result += f\"{n}, \"\n",
    "result += \"more.\"\n",
    "\n",
    "print(result)"
   ]
  },
  {
   "cell_type": "markdown",
   "metadata": {},
   "source": [
    "## 3."
   ]
  },
  {
   "cell_type": "code",
   "execution_count": 9,
   "metadata": {},
   "outputs": [
    {
     "name": "stdout",
     "output_type": "stream",
     "text": [
      "Your name has been added to the list\n"
     ]
    }
   ],
   "source": [
    "# Create a list of names (in memory so technically don't need to recreate)\n",
    "lst_names = [\"Tom\", \"Jess\", \"Joe\", \"Luke\"]\n",
    "\n",
    "# Get the users name\n",
    "usr_name = input(\"What is your name?\")\n",
    "\n",
    "# Is the users name in the list?\n",
    "if usr_name in lst_names:\n",
    "    print(\"Your name was in the list.\")\n",
    "else:\n",
    "\n",
    "    # Define a flag for whether to add the name\n",
    "    add_name = False\n",
    "\n",
    "    # Loop over the letters in the name\n",
    "    for l in usr_name:\n",
    "\n",
    "        # Loop over the names in the list\n",
    "        for name in lst_names:\n",
    "\n",
    "            # Is this letter in the list of names?\n",
    "            if l in name:\n",
    "                \n",
    "                # If so set the flag to True and end the loop\n",
    "                add_name = True\n",
    "                break\n",
    "            \n",
    "        # If we have found the letter end this loop\n",
    "        if add_name:\n",
    "            break\n",
    "\n",
    "    # If we need to add the name do so\n",
    "    if add_name:\n",
    "        lst_names.append(usr_name)\n",
    "        print(\"Your name has been added to the list\")\n",
    "\n"
   ]
  },
  {
   "cell_type": "markdown",
   "metadata": {},
   "source": [
    "## 4."
   ]
  },
  {
   "cell_type": "code",
   "execution_count": 10,
   "metadata": {},
   "outputs": [
    {
     "name": "stdout",
     "output_type": "stream",
     "text": [
      "noisiveleT\n",
      "noisiveleT\n"
     ]
    }
   ],
   "source": [
    "# Get a word from the user\n",
    "word = input(\"Enter a word:\")\n",
    "\n",
    "# Set up a string to hold the reversed word\n",
    "reverse_word = \"\"\n",
    "\n",
    "# Loop backwards over the word and add the letters\n",
    "for i in range(len(word) - 1, -1, -1):\n",
    "    reverse_word += word[i]\n",
    "\n",
    "print(reverse_word)\n",
    "\n",
    "# Exercise requests a loop but reversing a string/list/tuple is easy with:\n",
    "print(word[::-1])"
   ]
  }
 ],
 "metadata": {
  "kernelspec": {
   "display_name": "synthesizer-env",
   "language": "python",
   "name": "python3"
  },
  "language_info": {
   "codemirror_mode": {
    "name": "ipython",
    "version": 3
   },
   "file_extension": ".py",
   "mimetype": "text/x-python",
   "name": "python",
   "nbconvert_exporter": "python",
   "pygments_lexer": "ipython3",
   "version": "3.10.4"
  }
 },
 "nbformat": 4,
 "nbformat_minor": 2
}

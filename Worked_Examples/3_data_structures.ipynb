{
 "cells": [
  {
   "cell_type": "markdown",
   "metadata": {},
   "source": [
    "# Exercises 3.1\n",
    "\n",
    "## 1."
   ]
  },
  {
   "cell_type": "code",
   "execution_count": 1,
   "metadata": {},
   "outputs": [
    {
     "name": "stdout",
     "output_type": "stream",
     "text": [
      "dog is in the top 5: False\n",
      "The 3rd item is: panda\n"
     ]
    }
   ],
   "source": [
    "# Define the animal tuple\n",
    "top5 = (\"capybara\", \"koala\", \"panda\", \"cat\", \"quokka\")\n",
    "\n",
    "# Is dog in the tuple?\n",
    "print(\"dog is in the top 5:\", \"dog\" in top5)\n",
    "\n",
    "# Printing the 3rd item by indexing\n",
    "print(\"The 3rd item is:\", top5[2])"
   ]
  },
  {
   "cell_type": "markdown",
   "metadata": {},
   "source": [
    "## 2."
   ]
  },
  {
   "cell_type": "code",
   "execution_count": 2,
   "metadata": {},
   "outputs": [
    {
     "name": "stdout",
     "output_type": "stream",
     "text": [
      "The length is 10\n",
      "The minimum value is 0\n",
      "The maximum value is 9\n",
      "The new length is 11\n",
      "The new minimum value is 0\n",
      "The new maximum value is 11\n",
      "[5, 6, 7, 8]\n"
     ]
    }
   ],
   "source": [
    "# Define a list of 10 numbers\n",
    "lst = [0, 1, 2, 3, 4, 5, 6, 7, 8, 9]\n",
    "\n",
    "print(\"The length is\", len(lst))\n",
    "print(\"The minimum value is\", min(lst))\n",
    "print(\"The maximum value is\", max(lst))\n",
    "\n",
    "# Add the value 11 to the end\n",
    "lst.append(11)\n",
    "\n",
    "print(\"The new length is\", len(lst))\n",
    "print(\"The new minimum value is\", min(lst))\n",
    "print(\"The new maximum value is\", max(lst))\n",
    "\n",
    "# Insert 8 (first argument is index, second is value)\n",
    "# the 9th position is index 8\n",
    "lst.insert(8, 8)\n",
    "\n",
    "print(lst[5:9])\n"
   ]
  },
  {
   "cell_type": "markdown",
   "metadata": {},
   "source": [
    "# Advanced Exercises 3.2\n",
    "\n",
    "## 1."
   ]
  },
  {
   "cell_type": "code",
   "execution_count": 3,
   "metadata": {},
   "outputs": [
    {
     "name": "stdout",
     "output_type": "stream",
     "text": [
      "Hello\n",
      "World!\n"
     ]
    }
   ],
   "source": [
    "# Use the new line character to insert a line break\n",
    "print(\"Hello\\nWorld!\")"
   ]
  },
  {
   "cell_type": "markdown",
   "metadata": {},
   "source": [
    "## 2."
   ]
  },
  {
   "cell_type": "code",
   "execution_count": 4,
   "metadata": {},
   "outputs": [
    {
     "name": "stdout",
     "output_type": "stream",
     "text": [
      "It would take roughly 4 years to drive around the Sun's circumfrence at 100 km/hr\n"
     ]
    }
   ],
   "source": [
    "# Define the variables we wil need\n",
    "sun_d = 1391000  # in km\n",
    "vel = 100  # in km / hr\n",
    "pi = 3.141\n",
    "\n",
    "# Calculate the circumfrence of the sun\n",
    "sun_c = pi * sun_d\n",
    "\n",
    "# Calcualte time taken in hours\n",
    "hours = sun_c / vel\n",
    "\n",
    "# Convert to years\n",
    "years = int(hours / (365.23 * 24))\n",
    "\n",
    "print(f\"It would take roughly {years} years to drive around the Sun's circumfrence at 100 km/hr\")"
   ]
  },
  {
   "cell_type": "markdown",
   "metadata": {},
   "source": [
    "## 3."
   ]
  },
  {
   "cell_type": "code",
   "execution_count": 5,
   "metadata": {},
   "outputs": [
    {
     "name": "stdout",
     "output_type": "stream",
     "text": [
      "Capybara\n",
      "Capybara\n",
      "Capybara\n",
      "Capybara\n",
      "Capybara\n",
      "\n"
     ]
    }
   ],
   "source": [
    "# Define an animal\n",
    "animal = \"Capybara\"\n",
    "\n",
    "# Print it on 5 lines by combining the new line character with\n",
    "# string multiplication\n",
    "print((animal + \"\\n\") * 5)"
   ]
  },
  {
   "cell_type": "markdown",
   "metadata": {},
   "source": [
    "## 4."
   ]
  },
  {
   "cell_type": "code",
   "execution_count": 6,
   "metadata": {},
   "outputs": [
    {
     "name": "stdout",
     "output_type": "stream",
     "text": [
      "['blue', 'green', 'red', 'yellow']\n",
      "['blue', 'green', 'red']\n",
      "['red', 'green', 'blue']\n",
      "['blue', 'green', 'red'] ['blue', 'green', 'red', 'yellow']\n",
      "The lengths are equal: False\n"
     ]
    }
   ],
   "source": [
    "# Define the color list\n",
    "colors = [\"red\", \"green\"]\n",
    "\n",
    "# Add blue and yellow (using insert because we have alphabetise it next)\n",
    "colors.insert(0, \"blue\")\n",
    "colors.append(\"yellow\")\n",
    "\n",
    "# Alphabetise it\n",
    "colors.insert(1, colors[2])\n",
    "colors.pop(3)\n",
    "\n",
    "print(colors)\n",
    "\n",
    "# Remove yellow\n",
    "colors.remove(\"yellow\")\n",
    "print(colors)\n",
    "\n",
    "# Print it in reverse using the reverse indexing method\n",
    "print(colors[::-1])\n",
    "\n",
    "# Make a copy\n",
    "RGB = colors.copy()\n",
    "\n",
    "# Add yellow back in\n",
    "RGB.append(\"yellow\")\n",
    "\n",
    "print(colors, RGB)\n",
    "\n",
    "# Test if lengths are equal\n",
    "test = len(colors) == len(RGB)\n",
    "\n",
    "print(\"The lengths are equal:\", test)"
   ]
  },
  {
   "cell_type": "markdown",
   "metadata": {},
   "source": [
    "## 5."
   ]
  },
  {
   "cell_type": "code",
   "execution_count": 7,
   "metadata": {},
   "outputs": [
    {
     "name": "stdout",
     "output_type": "stream",
     "text": [
      "('random', 'tuple')\n",
      "('random', 'tuple')\n"
     ]
    }
   ],
   "source": [
    "# Create a tuple of random words\n",
    "words = (\"words\", \"random\", \"tuple\", \"python\", \"list\")\n",
    "\n",
    "print(words[1:3])\n",
    "print(words[1:-2])\n"
   ]
  }
 ],
 "metadata": {
  "kernelspec": {
   "display_name": "synthesizer-env",
   "language": "python",
   "name": "python3"
  },
  "language_info": {
   "codemirror_mode": {
    "name": "ipython",
    "version": 3
   },
   "file_extension": ".py",
   "mimetype": "text/x-python",
   "name": "python",
   "nbconvert_exporter": "python",
   "pygments_lexer": "ipython3",
   "version": "3.10.4"
  }
 },
 "nbformat": 4,
 "nbformat_minor": 2
}

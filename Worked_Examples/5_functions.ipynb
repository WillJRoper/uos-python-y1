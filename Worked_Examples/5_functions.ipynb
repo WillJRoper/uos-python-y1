{
 "cells": [
  {
   "cell_type": "markdown",
   "metadata": {},
   "source": [
    "# Excersises 5.1\n",
    "\n",
    "Throughout function related worked examples I will use doc strings to describe functions (these are the strings defined with `\"\"\"`). I use a google format for these. They are not required for marks in this module but are the \"accepted\" way to describe functions.\n",
    "\n",
    "## 1."
   ]
  },
  {
   "cell_type": "code",
   "execution_count": 2,
   "metadata": {},
   "outputs": [
    {
     "name": "stdout",
     "output_type": "stream",
     "text": [
      "2003 is not a leap year\n",
      "2000 is a leap year\n"
     ]
    }
   ],
   "source": [
    "def is_leap_year(year):\n",
    "    \"\"\"\n",
    "    A function to test for leap years.\n",
    "\n",
    "    Args:\n",
    "        year (int)\n",
    "            The year to test.\n",
    "\n",
    "    Returns:\n",
    "        bool\n",
    "            True if a year, False otherwise\n",
    "    \"\"\"\n",
    "    # Test the year\n",
    "    if year % 4 == 0 and (year % 100 != 0 or year % 400 == 0):\n",
    "        return True\n",
    "    \n",
    "    # Because we have the return in the logic above we don't actually need an else\n",
    "    return False\n",
    "\n",
    "# Call the function with a year passed in the argument\n",
    "year = 2003\n",
    "ly_test = is_leap_year(year)\n",
    "if ly_test:\n",
    "    print(f\"{year} is a leap year\")\n",
    "else:\n",
    "    print(f\"{year} is not a leap year\")\n",
    "\n",
    "# And test another, we don't actually need to assign the ouput\n",
    "# to a variable\n",
    "year = 2000\n",
    "if is_leap_year(year):\n",
    "    print(f\"{year} is a leap year\")\n",
    "else:\n",
    "    print(f\"{year} is not a leap year\")"
   ]
  },
  {
   "cell_type": "markdown",
   "metadata": {},
   "source": [
    "## .2"
   ]
  },
  {
   "cell_type": "code",
   "execution_count": 3,
   "metadata": {},
   "outputs": [
    {
     "name": "stdout",
     "output_type": "stream",
     "text": [
      " Pay for 40 hours at 13.50 per hour 540.0\n",
      " Pay for 60 hours at 13.50 per hour 810.0\n",
      " Pay for 25 hours at 21.50 per hour 537.5\n"
     ]
    }
   ],
   "source": [
    "def get_pay(pay_rate, hours):\n",
    "    \"\"\"\n",
    "    Calculate total pay.\n",
    "\n",
    "    Args:\n",
    "        pay_rate (float)\n",
    "            The amount of pay per hour.\n",
    "        hours (int/float)\n",
    "            The number of hours worked.\n",
    "    \n",
    "    Returns:\n",
    "        float\n",
    "            The total pay.\n",
    "    \"\"\"\n",
    "\n",
    "    # Get the total pay\n",
    "    pay = hours * pay_rate\n",
    "\n",
    "    return pay\n",
    "\n",
    "# Test the function for some inputs\n",
    "print(f\" Pay for 40 hours at 13.50 per hour is {get_pay(13.50, 40)}\")\n",
    "print(f\" Pay for 60 hours at 13.50 per hour is {get_pay(13.50, 60)}\")\n",
    "print(f\" Pay for 25 hours at 21.50 per hour is {get_pay(21.50, 25)}\")"
   ]
  },
  {
   "cell_type": "markdown",
   "metadata": {},
   "source": [
    "And then the altered version accounting for over time."
   ]
  },
  {
   "cell_type": "code",
   "execution_count": 4,
   "metadata": {},
   "outputs": [
    {
     "name": "stdout",
     "output_type": "stream",
     "text": [
      " Pay for 60 hours at 13.50 per hour is 945.0\n",
      " Pay for 25 hours at 21.50 per hour is 537.5\n"
     ]
    }
   ],
   "source": [
    "def get_pay(pay_rate, hours):\n",
    "    \"\"\"\n",
    "    Calculate total pay with overtime at 1.5 x pay_rate.\n",
    "\n",
    "    Args:\n",
    "        pay_rate (float)\n",
    "            The amount of pay per hour.\n",
    "        hours (int/float)\n",
    "            The number of hours worked.\n",
    "    \n",
    "    Returns:\n",
    "        float\n",
    "            The total pay.\n",
    "    \"\"\"\n",
    "\n",
    "    # Handle case with no overtime\n",
    "    if hours <= 40:\n",
    "        return hours * pay_rate\n",
    "    \n",
    "    # Get the normal pay\n",
    "    normal_pay = 40 * pay_rate\n",
    "\n",
    "    # Account for overtime\n",
    "    overtime_pay = (hours - 40) * 1.5 * pay_rate\n",
    "\n",
    "    # Combine them\n",
    "    pay = normal_pay + overtime_pay \n",
    "\n",
    "    return pay\n",
    "\n",
    "# Test the function for some inputs\n",
    "print(f\" Pay for 60 hours at 13.50 per hour is {get_pay(13.50, 60)}\")\n",
    "print(f\" Pay for 25 hours at 21.50 per hour is {get_pay(21.50, 25)}\")"
   ]
  },
  {
   "cell_type": "markdown",
   "metadata": {},
   "source": [
    "# Advanced Exercises 5.2\n",
    "\n",
    "## 1."
   ]
  },
  {
   "cell_type": "code",
   "execution_count": 1,
   "metadata": {},
   "outputs": [
    {
     "name": "stdout",
     "output_type": "stream",
     "text": [
      "You have run out of guesses, bad luck\n"
     ]
    }
   ],
   "source": [
    "def password_test():\n",
    "    \"\"\"\n",
    "    A function that asks the user to enter there password and tests it against the\n",
    "    real one.\n",
    "    \"\"\"\n",
    "\n",
    "    # Define the password... in plain text... definitely bad practice\n",
    "    pword = \"passWord\"\n",
    "\n",
    "    # We need to only allow 3 attempts to login\n",
    "    i = 0\n",
    "    while i < 3:\n",
    "\n",
    "        # Ask for the users login attempt\n",
    "        pword_attempt = input(\"Enter your password:\")\n",
    "\n",
    "        # Was it right?\n",
    "        if pword_attempt == pword:\n",
    "            print(\"Access Granted\")\n",
    "        else:\n",
    "            \"Access Denied\"\n",
    "\n",
    "        # Increment the counter\n",
    "        i += 1\n",
    "\n",
    "    # If the user get here they have failed so tell them\n",
    "    print(\"You have run out of guesses, bad luck\")\n",
    "\n",
    "# Test it out\n",
    "password_test()"
   ]
  },
  {
   "cell_type": "markdown",
   "metadata": {},
   "source": [
    "## 2."
   ]
  },
  {
   "cell_type": "code",
   "execution_count": 3,
   "metadata": {},
   "outputs": [
    {
     "data": {
      "text/plain": [
       "'AACGTAT'"
      ]
     },
     "execution_count": 3,
     "metadata": {},
     "output_type": "execute_result"
    }
   ],
   "source": [
    "def get_dna_complement(dna_string):\n",
    "    \"\"\"\n",
    "    Get the complement of a DNA string.\n",
    "\n",
    "    Args:\n",
    "        dna_string (string)\n",
    "            The DNA string to convert.\n",
    "    \n",
    "    Returns:\n",
    "        string\n",
    "            The complement of dna_string.\n",
    "    \"\"\"\n",
    "\n",
    "    # Define a dictionary to handle the switch of letters\n",
    "    exchange_dict = {\"A\": \"T\", \"T\": \"A\", \"C\": \"G\", \"G\": \"C\"}\n",
    "\n",
    "    # Create the complement string\n",
    "    complement = \"\"\n",
    "\n",
    "    # Loop over the DNA string swapping letters\n",
    "    for l in dna_string:\n",
    "        complement += exchange_dict[l]\n",
    "\n",
    "    return complement\n",
    "\n",
    "# Demonstrate its use\n",
    "get_dna_complement(\"TTGCATA\")"
   ]
  },
  {
   "cell_type": "markdown",
   "metadata": {},
   "source": [
    "## 3."
   ]
  },
  {
   "cell_type": "code",
   "execution_count": 6,
   "metadata": {},
   "outputs": [
    {
     "name": "stdout",
     "output_type": "stream",
     "text": [
      "Calling\n"
     ]
    }
   ],
   "source": [
    "# Define a \"phonebook\"\n",
    "phonebook = {\n",
    "    \"Bob\": \"000000\",\n",
    "    \"Mary\": \"000001\",\n",
    "    \"Harry\": \"000002\",\n",
    "    \"Bobette\": \"000003\",\n",
    "    }\n",
    "\n",
    "def access_phonebook(phonebook, name):\n",
    "    \"\"\"\n",
    "    Access a phonebook and manipuilate entries.\n",
    "\n",
    "    Args:\n",
    "        phonebook (dict)\n",
    "            The phonebook to access entries from.\n",
    "        name (string)\n",
    "            The name to access.\n",
    "    \"\"\"\n",
    "\n",
    "    # If the name isn't in the phonebook do they want to add it?\n",
    "    if name not in phonebook:\n",
    "        add = input(f\"{name} not found. Type a number to add the contact or no to exit.\")\n",
    "        if add == \"no\":\n",
    "            return\n",
    "        else:\n",
    "            phonebook[name] = add\n",
    "            return\n",
    "    \n",
    "    # What oepration does the user want to do?\n",
    "    op = input(\"What do you want to do?\")\n",
    "\n",
    "    # Handle each case\n",
    "    if op == \"call\":\n",
    "        print(\"Calling\")\n",
    "    elif op == \"edit\":\n",
    "        new_num = input(\"Enter a new number:\")\n",
    "        phonebook[name] = new_num\n",
    "        print(f\"Added new number ({new_num}) for {name}\")\n",
    "    elif op == \"remove\":\n",
    "        del phonebook[name]\n",
    "        print(f\"Removed {name}\")\n",
    "    else:\n",
    "        print(\"Unrecognised input! Exiting...\")\n",
    "        \n",
    "\n",
    "# Test it\n",
    "access_phonebook(phonebook, \"Bobette\")"
   ]
  }
 ],
 "metadata": {
  "kernelspec": {
   "display_name": "synthesizer-env",
   "language": "python",
   "name": "python3"
  },
  "language_info": {
   "codemirror_mode": {
    "name": "ipython",
    "version": 3
   },
   "file_extension": ".py",
   "mimetype": "text/x-python",
   "name": "python",
   "nbconvert_exporter": "python",
   "pygments_lexer": "ipython3",
   "version": "3.10.4"
  }
 },
 "nbformat": 4,
 "nbformat_minor": 2
}

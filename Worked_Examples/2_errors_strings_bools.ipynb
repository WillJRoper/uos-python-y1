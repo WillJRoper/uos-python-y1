{
 "cells": [
  {
   "cell_type": "markdown",
   "metadata": {},
   "source": [
    "# Exercises 2.1\n",
    "\n",
    "## 1."
   ]
  },
  {
   "cell_type": "code",
   "execution_count": 1,
   "metadata": {},
   "outputs": [
    {
     "name": "stdout",
     "output_type": "stream",
     "text": [
      "hello world\n",
      "hellohellohellohellohellohellohellohellohellohellohellohellohellohellohellohellohellohellohellohello\n"
     ]
    }
   ],
   "source": [
    "# Create variables\n",
    "hello = \"hello\"\n",
    "world = \"world\"\n",
    "\n",
    "print(f\"{hello} {world}\")\n",
    "\n",
    "# To print a string 20 times we can just multiply it\n",
    "print(hello * 20)"
   ]
  },
  {
   "cell_type": "markdown",
   "metadata": {},
   "source": [
    "## 2."
   ]
  },
  {
   "cell_type": "code",
   "execution_count": 2,
   "metadata": {},
   "outputs": [
    {
     "name": "stdout",
     "output_type": "stream",
     "text": [
      "Do not push\n",
      "push the red button\n"
     ]
    }
   ],
   "source": [
    "# Define variable\n",
    "s = \"Do not push the red button\"\n",
    "\n",
    "# Slice it to remove the end\n",
    "print(s[:11])\n",
    "\n",
    "# Slice to change the meaning\n",
    "print(s[7:])"
   ]
  },
  {
   "cell_type": "markdown",
   "metadata": {},
   "source": [
    "## 3."
   ]
  },
  {
   "cell_type": "code",
   "execution_count": 3,
   "metadata": {},
   "outputs": [
    {
     "name": "stdout",
     "output_type": "stream",
     "text": [
      "Person\n",
      "Mysterious U Person\n"
     ]
    }
   ],
   "source": [
    "# Define \"my\" name\n",
    "myname = \"Mysterious Unknown Person\"\n",
    "\n",
    "# Slice for the last name\n",
    "print(myname[19:])\n",
    "\n",
    "# Slice for the first name middle initial and last name\n",
    "print(f\"{myname[:10]} {myname[11]} {myname[19:]}\")"
   ]
  },
  {
   "cell_type": "markdown",
   "metadata": {},
   "source": [
    "# Exercises 2.2\n",
    "\n",
    "## 1."
   ]
  },
  {
   "cell_type": "code",
   "execution_count": 4,
   "metadata": {},
   "outputs": [
    {
     "name": "stdout",
     "output_type": "stream",
     "text": [
      "w < e and w < q = True\n",
      "q > e and q > w = True\n",
      "w < e < q = True\n"
     ]
    }
   ],
   "source": [
    "# Define the variables\n",
    "q = 13\n",
    "w = 2\n",
    "e = 6.5\n",
    "\n",
    "# Showing w is the smallest\n",
    "print(\"w < e and w < q =\", w < e and w < q)\n",
    "\n",
    "# Showing q is the largest\n",
    "print(\"q > e and q > w =\", q > e and q > w)\n",
    "\n",
    "# Show e is the middle value\n",
    "print(\"w < e < q =\", w < e < q)"
   ]
  },
  {
   "cell_type": "markdown",
   "metadata": {},
   "source": [
    "## 2."
   ]
  },
  {
   "cell_type": "code",
   "execution_count": 5,
   "metadata": {},
   "outputs": [
    {
     "name": "stdout",
     "output_type": "stream",
     "text": [
      "a in name: True\n",
      "g in name: True\n",
      "d in name: True\n",
      "e in name: True\n"
     ]
    }
   ],
   "source": [
    "# Define the name\n",
    "name = \"edgar\"\n",
    "\n",
    "# Test and print whether letters are in the name\n",
    "print(\"a in name:\", \"a\" in name)\n",
    "print(\"g in name:\", \"g\" in name)\n",
    "print(\"d in name:\", \"d\" in name)\n",
    "print(\"e in name:\", \"e\" in name)"
   ]
  },
  {
   "cell_type": "markdown",
   "metadata": {},
   "source": [
    "# Exercises 2.3\n",
    "\n",
    "## 1."
   ]
  },
  {
   "cell_type": "code",
   "execution_count": 6,
   "metadata": {},
   "outputs": [
    {
     "name": "stdout",
     "output_type": "stream",
     "text": [
      "With a 15% tip the total is: 75.70\n",
      "With a 20% tip the total is: 79.00\n"
     ]
    }
   ],
   "source": [
    "# Get the cost from the user, the output of input is a string\n",
    "# so we will need to convert to a float\n",
    "cost = float(input(\"How much did the meal cost?\"))\n",
    "\n",
    "# Calculate a print the tips\n",
    "print(f\"With a 15% tip the total is: {cost + cost * 0.15:.2f}\")\n",
    "print(f\"With a 20% tip the total is: {cost + cost * 0.2:.2f}\")"
   ]
  },
  {
   "cell_type": "markdown",
   "metadata": {},
   "source": [
    "## 2."
   ]
  },
  {
   "cell_type": "code",
   "execution_count": 7,
   "metadata": {},
   "outputs": [
    {
     "name": "stdout",
     "output_type": "stream",
     "text": [
      "You are over 2019686400 seconds old\n"
     ]
    }
   ],
   "source": [
    "# Get the users age, again converting to an int\n",
    "age = int(input(\"How old are you?\"))\n",
    "\n",
    "# Calculate their rough age in seconds\n",
    "age_seconds = int(age * 365.25 * 24 * 60 * 60)\n",
    "\n",
    "print(f\"You are over {age_seconds} seconds old\")"
   ]
  }
 ],
 "metadata": {
  "kernelspec": {
   "display_name": "synthesizer-env",
   "language": "python",
   "name": "python3"
  },
  "language_info": {
   "codemirror_mode": {
    "name": "ipython",
    "version": 3
   },
   "file_extension": ".py",
   "mimetype": "text/x-python",
   "name": "python",
   "nbconvert_exporter": "python",
   "pygments_lexer": "ipython3",
   "version": "3.10.4"
  }
 },
 "nbformat": 4,
 "nbformat_minor": 2
}
